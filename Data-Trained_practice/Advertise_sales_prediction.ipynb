{
 "cells": [
  {
   "cell_type": "code",
   "execution_count": 1,
   "id": "14c06563",
   "metadata": {},
   "outputs": [],
   "source": [
    "# Import the numpy and pandas package\n",
    "\n",
    "import numpy as np\n",
    "import pandas as pd\n",
    "\n",
    "# Data Visualisation\n",
    "import matplotlib.pyplot as plt \n",
    "import seaborn as sns\n",
    "\n",
    "# Supress Warnings\n",
    "\n",
    "import warnings\n",
    "warnings.filterwarnings('ignore')\n"
   ]
  },
  {
   "cell_type": "code",
   "execution_count": 2,
   "id": "382b99a9",
   "metadata": {},
   "outputs": [
    {
     "data": {
      "text/html": [
       "<div>\n",
       "<style scoped>\n",
       "    .dataframe tbody tr th:only-of-type {\n",
       "        vertical-align: middle;\n",
       "    }\n",
       "\n",
       "    .dataframe tbody tr th {\n",
       "        vertical-align: top;\n",
       "    }\n",
       "\n",
       "    .dataframe thead th {\n",
       "        text-align: right;\n",
       "    }\n",
       "</style>\n",
       "<table border=\"1\" class=\"dataframe\">\n",
       "  <thead>\n",
       "    <tr style=\"text-align: right;\">\n",
       "      <th></th>\n",
       "      <th>Unnamed: 0</th>\n",
       "      <th>TV</th>\n",
       "      <th>radio</th>\n",
       "      <th>newspaper</th>\n",
       "      <th>sales</th>\n",
       "    </tr>\n",
       "  </thead>\n",
       "  <tbody>\n",
       "    <tr>\n",
       "      <th>0</th>\n",
       "      <td>1</td>\n",
       "      <td>230.1</td>\n",
       "      <td>37.8</td>\n",
       "      <td>69.2</td>\n",
       "      <td>22.1</td>\n",
       "    </tr>\n",
       "    <tr>\n",
       "      <th>1</th>\n",
       "      <td>2</td>\n",
       "      <td>44.5</td>\n",
       "      <td>39.3</td>\n",
       "      <td>45.1</td>\n",
       "      <td>10.4</td>\n",
       "    </tr>\n",
       "    <tr>\n",
       "      <th>2</th>\n",
       "      <td>3</td>\n",
       "      <td>17.2</td>\n",
       "      <td>45.9</td>\n",
       "      <td>69.3</td>\n",
       "      <td>9.3</td>\n",
       "    </tr>\n",
       "    <tr>\n",
       "      <th>3</th>\n",
       "      <td>4</td>\n",
       "      <td>151.5</td>\n",
       "      <td>41.3</td>\n",
       "      <td>58.5</td>\n",
       "      <td>18.5</td>\n",
       "    </tr>\n",
       "    <tr>\n",
       "      <th>4</th>\n",
       "      <td>5</td>\n",
       "      <td>180.8</td>\n",
       "      <td>10.8</td>\n",
       "      <td>58.4</td>\n",
       "      <td>12.9</td>\n",
       "    </tr>\n",
       "  </tbody>\n",
       "</table>\n",
       "</div>"
      ],
      "text/plain": [
       "   Unnamed: 0     TV  radio  newspaper  sales\n",
       "0           1  230.1   37.8       69.2   22.1\n",
       "1           2   44.5   39.3       45.1   10.4\n",
       "2           3   17.2   45.9       69.3    9.3\n",
       "3           4  151.5   41.3       58.5   18.5\n",
       "4           5  180.8   10.8       58.4   12.9"
      ]
     },
     "execution_count": 2,
     "metadata": {},
     "output_type": "execute_result"
    }
   ],
   "source": [
    "advertising = pd.DataFrame(pd.read_csv(\"Advertising.csv\"))\n",
    "advertising.head()"
   ]
  },
  {
   "cell_type": "code",
   "execution_count": 3,
   "id": "af6160bf",
   "metadata": {},
   "outputs": [
    {
     "data": {
      "text/plain": [
       "(200, 5)"
      ]
     },
     "execution_count": 3,
     "metadata": {},
     "output_type": "execute_result"
    }
   ],
   "source": [
    "advertising.shape"
   ]
  },
  {
   "cell_type": "markdown",
   "id": "2a68671d",
   "metadata": {},
   "source": [
    "### Observation:-\n",
    "There is a Unnamed:0 column which is S.No. or index, we can delete this column."
   ]
  },
  {
   "cell_type": "code",
   "execution_count": 5,
   "id": "540e3e0e",
   "metadata": {},
   "outputs": [],
   "source": [
    "df = advertising.iloc[:,1:]"
   ]
  },
  {
   "cell_type": "markdown",
   "id": "d7926823",
   "metadata": {},
   "source": [
    "### Observation:-\n",
    "Removed Unnamed column"
   ]
  },
  {
   "cell_type": "code",
   "execution_count": 7,
   "id": "14db613d",
   "metadata": {},
   "outputs": [
    {
     "data": {
      "text/html": [
       "<div>\n",
       "<style scoped>\n",
       "    .dataframe tbody tr th:only-of-type {\n",
       "        vertical-align: middle;\n",
       "    }\n",
       "\n",
       "    .dataframe tbody tr th {\n",
       "        vertical-align: top;\n",
       "    }\n",
       "\n",
       "    .dataframe thead th {\n",
       "        text-align: right;\n",
       "    }\n",
       "</style>\n",
       "<table border=\"1\" class=\"dataframe\">\n",
       "  <thead>\n",
       "    <tr style=\"text-align: right;\">\n",
       "      <th></th>\n",
       "      <th>TV</th>\n",
       "      <th>radio</th>\n",
       "      <th>newspaper</th>\n",
       "      <th>sales</th>\n",
       "    </tr>\n",
       "  </thead>\n",
       "  <tbody>\n",
       "    <tr>\n",
       "      <th>count</th>\n",
       "      <td>200.000000</td>\n",
       "      <td>200.000000</td>\n",
       "      <td>200.000000</td>\n",
       "      <td>200.000000</td>\n",
       "    </tr>\n",
       "    <tr>\n",
       "      <th>mean</th>\n",
       "      <td>147.042500</td>\n",
       "      <td>23.264000</td>\n",
       "      <td>30.554000</td>\n",
       "      <td>14.022500</td>\n",
       "    </tr>\n",
       "    <tr>\n",
       "      <th>std</th>\n",
       "      <td>85.854236</td>\n",
       "      <td>14.846809</td>\n",
       "      <td>21.778621</td>\n",
       "      <td>5.217457</td>\n",
       "    </tr>\n",
       "    <tr>\n",
       "      <th>min</th>\n",
       "      <td>0.700000</td>\n",
       "      <td>0.000000</td>\n",
       "      <td>0.300000</td>\n",
       "      <td>1.600000</td>\n",
       "    </tr>\n",
       "    <tr>\n",
       "      <th>25%</th>\n",
       "      <td>74.375000</td>\n",
       "      <td>9.975000</td>\n",
       "      <td>12.750000</td>\n",
       "      <td>10.375000</td>\n",
       "    </tr>\n",
       "    <tr>\n",
       "      <th>50%</th>\n",
       "      <td>149.750000</td>\n",
       "      <td>22.900000</td>\n",
       "      <td>25.750000</td>\n",
       "      <td>12.900000</td>\n",
       "    </tr>\n",
       "    <tr>\n",
       "      <th>75%</th>\n",
       "      <td>218.825000</td>\n",
       "      <td>36.525000</td>\n",
       "      <td>45.100000</td>\n",
       "      <td>17.400000</td>\n",
       "    </tr>\n",
       "    <tr>\n",
       "      <th>max</th>\n",
       "      <td>296.400000</td>\n",
       "      <td>49.600000</td>\n",
       "      <td>114.000000</td>\n",
       "      <td>27.000000</td>\n",
       "    </tr>\n",
       "  </tbody>\n",
       "</table>\n",
       "</div>"
      ],
      "text/plain": [
       "               TV       radio   newspaper       sales\n",
       "count  200.000000  200.000000  200.000000  200.000000\n",
       "mean   147.042500   23.264000   30.554000   14.022500\n",
       "std     85.854236   14.846809   21.778621    5.217457\n",
       "min      0.700000    0.000000    0.300000    1.600000\n",
       "25%     74.375000    9.975000   12.750000   10.375000\n",
       "50%    149.750000   22.900000   25.750000   12.900000\n",
       "75%    218.825000   36.525000   45.100000   17.400000\n",
       "max    296.400000   49.600000  114.000000   27.000000"
      ]
     },
     "execution_count": 7,
     "metadata": {},
     "output_type": "execute_result"
    }
   ],
   "source": [
    "df.describe()"
   ]
  },
  {
   "cell_type": "markdown",
   "id": "b719d0a2",
   "metadata": {},
   "source": [
    "### Observation:-\n",
    "1. Total count is 200 in every column, we can say there is no missing value in any of the column.\n",
    "2. Mean and Median has very less difference, hence there very little or no skewness.\n",
    "3. Mean and Max value has not abnormal difference, it indicate that there is no outlier."
   ]
  },
  {
   "cell_type": "markdown",
   "id": "a05bc4c3",
   "metadata": {},
   "source": [
    "### Checking for Null Values."
   ]
  },
  {
   "cell_type": "code",
   "execution_count": 9,
   "id": "7568449c",
   "metadata": {},
   "outputs": [
    {
     "data": {
      "text/plain": [
       "TV           0\n",
       "radio        0\n",
       "newspaper    0\n",
       "sales        0\n",
       "dtype: int64"
      ]
     },
     "execution_count": 9,
     "metadata": {},
     "output_type": "execute_result"
    }
   ],
   "source": [
    "df.isnull().sum()"
   ]
  },
  {
   "cell_type": "code",
   "execution_count": 93,
   "id": "f56806c5",
   "metadata": {},
   "outputs": [
    {
     "data": {
      "text/plain": [
       "Text(0.5, 1.0, 'Null Value Heat Map')"
      ]
     },
     "execution_count": 93,
     "metadata": {},
     "output_type": "execute_result"
    },
    {
     "data": {
      "image/png": "[encoded data removed]",
      "text/plain": [
       "<Figure size 432x288 with 2 Axes>"
      ]
     },
     "metadata": {
      "needs_background": "light"
     },
     "output_type": "display_data"
    }
   ],
   "source": [
    "sns.heatmap(df.isnull())\n",
    "plt.title(\"Null Value Heat Map\")"
   ]
  },
  {
   "cell_type": "markdown",
   "id": "4ec560ce",
   "metadata": {},
   "source": [
    "### Observation:-\n",
    "No Null value exist in this dataset."
   ]
  },
  {
   "cell_type": "markdown",
   "id": "bbcea0b2",
   "metadata": {},
   "source": [
    "### Outlier detection:-"
   ]
  },
  {
   "cell_type": "code",
   "execution_count": 12,
   "id": "dc4130a9",
   "metadata": {},
   "outputs": [
    {
     "data": {
      "image/png": "[encoded data removed]",
      "text/plain": [
       "<Figure size 360x360 with 3 Axes>"
      ]
     },
     "metadata": {
      "needs_background": "light"
     },
     "output_type": "display_data"
    }
   ],
   "source": [
    "fig, axs = plt.subplots(3, figsize = (5,5))\n",
    "plt1 = sns.boxplot(df['TV'], ax = axs[0])\n",
    "plt2 = sns.boxplot(df['newspaper'], ax = axs[1])\n",
    "plt3 = sns.boxplot(df['radio'], ax = axs[2])\n",
    "plt.tight_layout()"
   ]
  },
  {
   "cell_type": "markdown",
   "id": "1416d704",
   "metadata": {},
   "source": [
    "# Observation:-\n",
    "1. No Null value in TV and radio column(Variable).\n",
    "2. There are few outlier in newspaper, but those are near to whisker, hence we can ignore them."
   ]
  },
  {
   "cell_type": "code",
   "execution_count": 21,
   "id": "39d7a935",
   "metadata": {},
   "outputs": [
    {
     "data": {
      "image/png": "[encoded data removed]",
      "text/plain": [
       "<Figure size 432x288 with 1 Axes>"
      ]
     },
     "metadata": {
      "needs_background": "light"
     },
     "output_type": "display_data"
    }
   ],
   "source": [
    "sns.boxplot(df['sales'])\n",
    "plt.show()"
   ]
  },
  {
   "cell_type": "markdown",
   "id": "272309e1",
   "metadata": {},
   "source": [
    "### Observation:-\n",
    "No Outlier in target veriable as well."
   ]
  },
  {
   "cell_type": "code",
   "execution_count": 22,
   "id": "94981a7e",
   "metadata": {},
   "outputs": [
    {
     "data": {
      "image/png": "[encoded data removed]",
      "text/plain": [
       "<Figure size 864x288 with 3 Axes>"
      ]
     },
     "metadata": {
      "needs_background": "light"
     },
     "output_type": "display_data"
    }
   ],
   "source": [
    "# Let's see how Sales are related with other variables using scatter plot.\n",
    "sns.pairplot(df, x_vars=['TV', 'newspaper', 'radio'], y_vars='sales', height=4, aspect=1, kind='reg')\n",
    "plt.show()"
   ]
  },
  {
   "cell_type": "markdown",
   "id": "e112180e",
   "metadata": {},
   "source": [
    "### Observation:-\n",
    "1. Scatter plot shows that there is a strong linear relation shot of TV and Sales .\n",
    "2. Scatter plot shows that there is a strong relation for radio and Sales.\n",
    "3. newpaper has very less correlation with sales."
   ]
  },
  {
   "cell_type": "code",
   "execution_count": 23,
   "id": "1ec13471",
   "metadata": {},
   "outputs": [
    {
     "data": {
      "image/png": "[encoded data removed]",
      "text/plain": [
       "<Figure size 432x288 with 2 Axes>"
      ]
     },
     "metadata": {
      "needs_background": "light"
     },
     "output_type": "display_data"
    }
   ],
   "source": [
    "# Let's see the correlation between different variables.\n",
    "sns.heatmap(df.corr(), cmap=\"YlGnBu\", annot = True)\n",
    "plt.show()"
   ]
  },
  {
   "cell_type": "markdown",
   "id": "11523239",
   "metadata": {},
   "source": [
    "### Observation:- \n",
    "1. TV indipendent veriable having strong positive correlation with Sales.\n",
    "2. Radio variable is also having positive corelation with sales.\n",
    "3. newpaper have positive correlation but it is very week."
   ]
  },
  {
   "cell_type": "code",
   "execution_count": 62,
   "id": "b1d4f535",
   "metadata": {},
   "outputs": [],
   "source": [
    "x =df[[\"TV\",\"radio\",\"newspaper\"]] \n",
    "y = df['sales']"
   ]
  },
  {
   "cell_type": "code",
   "execution_count": 63,
   "id": "68672045",
   "metadata": {},
   "outputs": [
    {
     "data": {
      "text/plain": [
       "(200, 3)"
      ]
     },
     "execution_count": 63,
     "metadata": {},
     "output_type": "execute_result"
    }
   ],
   "source": [
    "x.shape"
   ]
  },
  {
   "cell_type": "code",
   "execution_count": 64,
   "id": "4f3f69a6",
   "metadata": {},
   "outputs": [
    {
     "data": {
      "text/plain": [
       "(200,)"
      ]
     },
     "execution_count": 64,
     "metadata": {},
     "output_type": "execute_result"
    }
   ],
   "source": [
    "y.shape"
   ]
  },
  {
   "cell_type": "code",
   "execution_count": 36,
   "id": "a9fa265d",
   "metadata": {},
   "outputs": [],
   "source": [
    "# test and train split\n",
    "from sklearn.model_selection import train_test_split\n",
    "#x_train,x_test,y_train,y_test=train_test_split(x,y,test_size=0.42,random_state=158)"
   ]
  },
  {
   "cell_type": "markdown",
   "id": "9bb298ae",
   "metadata": {},
   "source": [
    "### Linear Regression model"
   ]
  },
  {
   "cell_type": "code",
   "execution_count": 65,
   "id": "3a0557e3",
   "metadata": {},
   "outputs": [
    {
     "name": "stdout",
     "output_type": "stream",
     "text": [
      "2.9388893694594103\n",
      "[ 0.04576465  0.18853002 -0.00103749]\n"
     ]
    }
   ],
   "source": [
    "from sklearn.linear_model import LinearRegression\n",
    "lm = LinearRegression()\n",
    "lm.fit(x,y)\n",
    "print (lm.intercept_)\n",
    "print(lm.coef_)"
   ]
  },
  {
   "cell_type": "code",
   "execution_count": 66,
   "id": "3e503ed7",
   "metadata": {},
   "outputs": [
    {
     "name": "stdout",
     "output_type": "stream",
     "text": [
      "[20.30432899 12.1106179  12.03987019 17.36030396 13.1094143  12.19347299\n",
      " 11.541533   12.00750259  3.70135892 12.52322355  6.98347661 17.15157788\n",
      " 10.36604222  8.77312687 18.24469101 20.55137666 12.5948257  23.00070567\n",
      "  9.82849235 14.02747668 17.93660631 14.70059154  6.38066038 16.44419476\n",
      "  8.06388575 15.58004823 14.82445452 16.95209534 19.25755756  9.03879822\n",
      " 21.47129581 11.23542067  7.61180793 18.75374216  7.55354666 16.97715691\n",
      " 23.17150476 15.3448852   9.74876923 20.2371753  16.24602473 17.10463965\n",
      " 21.4460275  13.90529242  8.73066179 15.02805913  8.80140462 21.49611991\n",
      " 16.16194605  8.08595829 12.59785192  9.27725362 20.4297672  19.68276998\n",
      " 20.21473962 21.01434904  8.35802837 12.66050064 21.62436212 17.97019038\n",
      "  5.71322406 22.65008597 16.68981475 13.04387632 16.73883095  7.78773476\n",
      "  8.87435463 11.94876956 18.82399677 20.86728343 17.60325943 10.5337931\n",
      " 10.1776647   9.85488844 17.19048398 11.59713212  4.45011222 13.64992681\n",
      "  8.64181804  9.61842156 11.29001624 14.6100711  10.05308914 14.17072228\n",
      " 20.54272753 15.06158698 11.44015224 15.35755009 11.54988062 16.6516212\n",
      "  9.96058849  4.46649247 18.9609696  21.01452548 10.3953516  16.12911461\n",
      " 12.60698434 15.21388146 23.88175434 16.70324157 13.83350203 23.02509252\n",
      " 17.58011688 14.65967653 20.11480564 17.67205187  6.0478507   7.08901727\n",
      "  3.56439116 19.54527497 14.69581872 20.93077131 13.79064803 16.28603906\n",
      " 15.04265934 12.71376081 11.88791352  6.55027291 15.34563001  6.71767274\n",
      " 14.24998859  7.69963836 13.60190251 14.88984215 19.26195138  9.04779645\n",
      " 10.34961389  6.58472366 21.99330169  7.79865093 10.20616695 15.54544024\n",
      "  8.29339366 19.07483107 11.60812686 13.74317563 11.23566196 20.6810625\n",
      "  9.6160778  19.4389004   9.38590656 18.18917716 19.06104091  8.71524101\n",
      "  9.99350938  9.68562603 15.24648986 22.98967788 12.03858452  9.67546399\n",
      " 18.27996399  9.94316676 16.2271507  18.00011709 15.38093345  5.23131904\n",
      " 15.13614346  9.99117554 10.16834518 12.28481749 14.10318278 13.35020565\n",
      " 14.83780571 17.14971553 10.97949695 14.17802995 10.61067001 13.32283836\n",
      " 17.04205881 17.8786525   7.3171169  14.22900692  7.48539607 11.92113748\n",
      " 13.71518395 24.51779483 19.81099715 12.10341381 15.98662066 12.31857702\n",
      " 10.56132519 13.88512391  6.50477397 23.88772367 18.41394452 20.55662766\n",
      "  9.66326164 16.91459491 18.56506171  5.96907241 12.261737    8.3539621\n",
      "  4.4229809  18.25919949 16.29949034  5.33397298  8.12575997 12.72653055\n",
      " 23.52830395 15.11851591]\n"
     ]
    }
   ],
   "source": [
    "y_pred = model.predict(x)\n",
    "print(y_pred)"
   ]
  },
  {
   "cell_type": "code",
   "execution_count": 67,
   "id": "29d2b006",
   "metadata": {},
   "outputs": [
    {
     "name": "stdout",
     "output_type": "stream",
     "text": [
      "1.676096987523484\n"
     ]
    }
   ],
   "source": [
    "from sklearn import metrics\n",
    "import numpy as np\n",
    "\n",
    "#calculate RMSE for 3 features\n",
    "RMSE = np.sqrt(metrics.mean_squared_error(y_pred,y))\n",
    "print(RMSE)"
   ]
  },
  {
   "cell_type": "code",
   "execution_count": 68,
   "id": "37ac2157",
   "metadata": {},
   "outputs": [],
   "source": [
    "res = (y - y_pred)"
   ]
  },
  {
   "cell_type": "code",
   "execution_count": 69,
   "id": "121d617a",
   "metadata": {},
   "outputs": [
    {
     "data": {
      "image/png": "[encoded data removed]",
      "text/plain": [
       "<Figure size 432x288 with 1 Axes>"
      ]
     },
     "metadata": {
      "needs_background": "light"
     },
     "output_type": "display_data"
    }
   ],
   "source": [
    "fig = plt.figure()\n",
    "sns.distplot(res, bins = 15)\n",
    "fig.suptitle('Error Terms', fontsize = 15)                  # Plot heading \n",
    "plt.xlabel('y_test - y_pred', fontsize = 15)         # X-label\n",
    "plt.show()"
   ]
  },
  {
   "cell_type": "markdown",
   "id": "74ab3c22",
   "metadata": {},
   "source": [
    "### residual value has some skewness, indicating that there is some correction need."
   ]
  },
  {
   "cell_type": "code",
   "execution_count": 70,
   "id": "8e8b5de3",
   "metadata": {},
   "outputs": [
    {
     "data": {
      "text/plain": [
       "<AxesSubplot:xlabel='sales'>"
      ]
     },
     "execution_count": 70,
     "metadata": {},
     "output_type": "execute_result"
    },
    {
     "data": {
      "image/png": "[encoded data removed]",
      "text/plain": [
       "<Figure size 432x288 with 1 Axes>"
      ]
     },
     "metadata": {
      "needs_background": "light"
     },
     "output_type": "display_data"
    }
   ],
   "source": [
    "sns.regplot(y,y_pred)"
   ]
  },
  {
   "cell_type": "markdown",
   "id": "4523f94f",
   "metadata": {},
   "source": [
    "### Observation:-\n",
    "actual value and predicted value has linear relation."
   ]
  },
  {
   "cell_type": "code",
   "execution_count": 71,
   "id": "66f465c0",
   "metadata": {},
   "outputs": [
    {
     "name": "stdout",
     "output_type": "stream",
     "text": [
      "Accurecy Score 89.72\n",
      "R2 Score 0.8962811899309467\n",
      "Cross Val Score 0.8871063495438435\n"
     ]
    }
   ],
   "source": [
    "from sklearn.metrics import accuracy_score, r2_score, mean_squared_error\n",
    "from sklearn.model_selection import cross_val_score\n",
    "print(\"Accurecy Score\",round(lm.score(x,y)* 100,2))\n",
    "print(\"R2 Score\", r2_score(y, y_pred))\n",
    "print(\"Cross Val Score\", cross_val_score(lm, x, y, cv=5).mean())"
   ]
  },
  {
   "cell_type": "markdown",
   "id": "704651cd",
   "metadata": {},
   "source": [
    "### Obsarvation:-\n",
    "R2 score for thispredictin is around 90%, which is good score."
   ]
  },
  {
   "cell_type": "markdown",
   "id": "e8a03ac5",
   "metadata": {},
   "source": [
    "# LASSO"
   ]
  },
  {
   "cell_type": "code",
   "execution_count": 83,
   "id": "97457724",
   "metadata": {},
   "outputs": [
    {
     "name": "stdout",
     "output_type": "stream",
     "text": [
      "2.9389448463989467\n",
      "[ 0.04576452  0.18852359 -0.00103379]\n",
      "0.8972106378011765\n"
     ]
    }
   ],
   "source": [
    "from sklearn.linear_model import Lasso,Ridge\n",
    "ls = Lasso(alpha=.001)\n",
    "#ls=lasso(alpha=1.0) #default\n",
    "ls.fit(x,y)\n",
    "print (ls.intercept_)\n",
    "print(ls.coef_)\n",
    "print(ls.score(x,y))"
   ]
  },
  {
   "cell_type": "code",
   "execution_count": 84,
   "id": "8b973acc",
   "metadata": {},
   "outputs": [
    {
     "name": "stdout",
     "output_type": "stream",
     "text": [
      "[20.30432899 12.1106179  12.03987019 17.36030396 13.1094143  12.19347299\n",
      " 11.541533   12.00750259  3.70135892 12.52322355  6.98347661 17.15157788\n",
      " 10.36604222  8.77312687 18.24469101 20.55137666 12.5948257  23.00070567\n",
      "  9.82849235 14.02747668 17.93660631 14.70059154  6.38066038 16.44419476\n",
      "  8.06388575 15.58004823 14.82445452 16.95209534 19.25755756  9.03879822\n",
      " 21.47129581 11.23542067  7.61180793 18.75374216  7.55354666 16.97715691\n",
      " 23.17150476 15.3448852   9.74876923 20.2371753  16.24602473 17.10463965\n",
      " 21.4460275  13.90529242  8.73066179 15.02805913  8.80140462 21.49611991\n",
      " 16.16194605  8.08595829 12.59785192  9.27725362 20.4297672  19.68276998\n",
      " 20.21473962 21.01434904  8.35802837 12.66050064 21.62436212 17.97019038\n",
      "  5.71322406 22.65008597 16.68981475 13.04387632 16.73883095  7.78773476\n",
      "  8.87435463 11.94876956 18.82399677 20.86728343 17.60325943 10.5337931\n",
      " 10.1776647   9.85488844 17.19048398 11.59713212  4.45011222 13.64992681\n",
      "  8.64181804  9.61842156 11.29001624 14.6100711  10.05308914 14.17072228\n",
      " 20.54272753 15.06158698 11.44015224 15.35755009 11.54988062 16.6516212\n",
      "  9.96058849  4.46649247 18.9609696  21.01452548 10.3953516  16.12911461\n",
      " 12.60698434 15.21388146 23.88175434 16.70324157 13.83350203 23.02509252\n",
      " 17.58011688 14.65967653 20.11480564 17.67205187  6.0478507   7.08901727\n",
      "  3.56439116 19.54527497 14.69581872 20.93077131 13.79064803 16.28603906\n",
      " 15.04265934 12.71376081 11.88791352  6.55027291 15.34563001  6.71767274\n",
      " 14.24998859  7.69963836 13.60190251 14.88984215 19.26195138  9.04779645\n",
      " 10.34961389  6.58472366 21.99330169  7.79865093 10.20616695 15.54544024\n",
      "  8.29339366 19.07483107 11.60812686 13.74317563 11.23566196 20.6810625\n",
      "  9.6160778  19.4389004   9.38590656 18.18917716 19.06104091  8.71524101\n",
      "  9.99350938  9.68562603 15.24648986 22.98967788 12.03858452  9.67546399\n",
      " 18.27996399  9.94316676 16.2271507  18.00011709 15.38093345  5.23131904\n",
      " 15.13614346  9.99117554 10.16834518 12.28481749 14.10318278 13.35020565\n",
      " 14.83780571 17.14971553 10.97949695 14.17802995 10.61067001 13.32283836\n",
      " 17.04205881 17.8786525   7.3171169  14.22900692  7.48539607 11.92113748\n",
      " 13.71518395 24.51779483 19.81099715 12.10341381 15.98662066 12.31857702\n",
      " 10.56132519 13.88512391  6.50477397 23.88772367 18.41394452 20.55662766\n",
      "  9.66326164 16.91459491 18.56506171  5.96907241 12.261737    8.3539621\n",
      "  4.4229809  18.25919949 16.29949034  5.33397298  8.12575997 12.72653055\n",
      " 23.52830395 15.11851591]\n"
     ]
    }
   ],
   "source": [
    "y_pred = model.predict(x)\n",
    "print(y_pred)"
   ]
  },
  {
   "cell_type": "code",
   "execution_count": 85,
   "id": "f0b38078",
   "metadata": {},
   "outputs": [
    {
     "name": "stdout",
     "output_type": "stream",
     "text": [
      "1.676096987523484\n"
     ]
    }
   ],
   "source": [
    "#calculate RMSE for 3 features\n",
    "RMSE = np.sqrt(metrics.mean_squared_error(y_pred,y))\n",
    "print(RMSE)"
   ]
  },
  {
   "cell_type": "markdown",
   "id": "7fdf23b8",
   "metadata": {},
   "source": [
    "### Observation:-\n",
    "1. Root mean square error is 1.67."
   ]
  },
  {
   "cell_type": "code",
   "execution_count": 86,
   "id": "dc2afee4",
   "metadata": {},
   "outputs": [
    {
     "name": "stdout",
     "output_type": "stream",
     "text": [
      "Accurecy Score 89.72\n",
      "R2 Score 0.8962811899309467\n",
      "Cross Val Score 0.887107845339324\n"
     ]
    }
   ],
   "source": [
    "print(\"Accurecy Score\",round(ls.score(x,y)* 100,2))\n",
    "print(\"R2 Score\", r2_score(y, y_pred))\n",
    "print(\"Cross Val Score\", cross_val_score(ls, x, y, cv=5).mean())"
   ]
  },
  {
   "cell_type": "markdown",
   "id": "363450bd",
   "metadata": {},
   "source": [
    "### Ridge Model"
   ]
  },
  {
   "cell_type": "code",
   "execution_count": 87,
   "id": "beafe5c8",
   "metadata": {},
   "outputs": [
    {
     "name": "stdout",
     "output_type": "stream",
     "text": [
      "2.938889447549961\n",
      "[ 0.04576465  0.18853001 -0.00103749]\n",
      "0.897210638178952\n"
     ]
    }
   ],
   "source": [
    "#try to minimize the coeefocoent variance \n",
    "rd = Ridge(alpha=.001)\n",
    "#rd.Ridge()\n",
    "rd.fit(x,y)\n",
    "print (rd.intercept_)\n",
    "print(rd.coef_)\n",
    "print(rd.score(x,y))"
   ]
  },
  {
   "cell_type": "code",
   "execution_count": null,
   "id": "3c03b474",
   "metadata": {},
   "outputs": [],
   "source": [
    "y_pred = model.predict(x)\n",
    "print(y_pred)"
   ]
  },
  {
   "cell_type": "code",
   "execution_count": 89,
   "id": "4936f211",
   "metadata": {},
   "outputs": [
    {
     "name": "stdout",
     "output_type": "stream",
     "text": [
      "Accurecy Score 89.72\n",
      "R2 Score 0.8962811899309467\n",
      "Cross Val Score 0.8871063499723165\n"
     ]
    }
   ],
   "source": [
    "print(\"Accurecy Score\",round(rd.score(x,y)* 100,2))\n",
    "print(\"R2 Score\", r2_score(y, y_pred))\n",
    "print(\"Cross Val Score\", cross_val_score(rd, x, y, cv=5).mean())"
   ]
  },
  {
   "cell_type": "markdown",
   "id": "48de9475",
   "metadata": {},
   "source": [
    "### ElasticNet"
   ]
  },
  {
   "cell_type": "code",
   "execution_count": 90,
   "id": "5c7bfcde",
   "metadata": {},
   "outputs": [
    {
     "name": "stdout",
     "output_type": "stream",
     "text": [
      "2.938889447549961\n",
      "[ 0.04576465  0.18853001 -0.00103749]\n",
      "0.897210638178952\n"
     ]
    }
   ],
   "source": [
    "#ElasticNet is a combination of both Lasso and Ridge \n",
    "from sklearn.linear_model import ElasticNet \n",
    "enr=ElasticNet(alpha=.001)\n",
    "#enr = ElasticNet()\n",
    "enr.fit(x,y)\n",
    "enrpred=enr.predict(x)\n",
    "print (rd.intercept_)\n",
    "print(rd.coef_)\n",
    "print(rd.score(x,y))"
   ]
  },
  {
   "cell_type": "code",
   "execution_count": 91,
   "id": "cae6ebe8",
   "metadata": {},
   "outputs": [
    {
     "name": "stdout",
     "output_type": "stream",
     "text": [
      "[20.52399129 12.33783087 12.30767183 17.59781754 13.1887705  12.47834936\n",
      " 11.72971668 12.12293117  3.72736998 12.55090324  7.03235653 17.2850698\n",
      " 10.57715458  8.82631566 18.43435743 20.81925001 12.82377679 23.22493768\n",
      "  9.95167325 14.16604803 18.10079117 14.74058555  6.48922373 16.54594254\n",
      "  8.14653971 15.61008233 14.98945693 17.05167656 19.41050215  9.14407589\n",
      " 21.63393054 11.34613263  7.63896574 18.86421309  7.57486912 17.00684424\n",
      " 23.40576652 15.62341572  9.90868407 20.4475546  16.37766667 17.29595981\n",
      " 21.59572072 13.96389969  8.88790399 15.16152599  8.87344999 21.72253272\n",
      " 16.26368059  8.16822586 12.63129036  9.33981348 20.66292076 19.94466785\n",
      " 20.37437324 21.29256855  8.52772514 12.7745763  21.89796455 18.13341796\n",
      "  5.74222227 22.89064029 16.784277   13.21062791 16.97766115  7.84904369\n",
      "  9.01597846 12.03700015 18.97651922 21.10882502 17.77948333 10.62697597\n",
      " 10.36679854  9.90304959 17.32926836 11.85837048  4.47765753 13.81185244\n",
      "  8.81325664  9.67534817 11.44589932 14.64801818 10.17842746 14.4217787\n",
      " 20.78129374 15.18149199 11.59866773 15.59378728 11.71135087 16.92220787\n",
      "  9.99925654  4.49640896 19.15640968 21.22760021 10.48212202 16.31493322\n",
      " 12.6357384  15.33706689 24.11856818 16.94031304 13.87606146 23.24256731\n",
      " 17.64411579 14.76220626 20.30101236 17.93638573  6.12607376  7.10857658\n",
      "  3.58734191 19.69286126 14.75997567 21.14019987 13.88058166 16.40374293\n",
      " 15.3050212  12.91969385 11.97877133  6.57083404 15.56614018  6.82008661\n",
      " 14.41012413  7.83812962 13.62649976 15.08271485 19.45446015  9.1273867\n",
      " 10.57716486  6.59971733 22.25533791  7.88417851 10.42759329 15.57789022\n",
      "  8.44908865 19.26690911 11.83682336 14.00128919 11.45339423 20.85128022\n",
      "  9.76840523 19.67534082  9.4896342  18.39907004 19.2498422   8.76487787\n",
      " 10.09138505  9.70857571 15.2942336  23.26078668 12.26326688  9.82724883\n",
      " 18.3672439  10.00963003 16.3599647  18.22385305 15.50158088  5.30756245\n",
      " 15.38481984 10.01437989 10.38418592 12.39917517 14.21385069 13.55914024\n",
      " 14.9467887  17.35153943 11.06827872 14.22389579 10.82433315 13.36328769\n",
      " 17.1861903  17.94154662  7.3950055  14.35831447  7.60768573 11.97096229\n",
      " 13.74439157 24.78678921 19.97932028 12.16211118 16.01105275 12.38457727\n",
      " 10.58723166 13.92815433  6.55473916 24.13309915 18.53852015 20.80290455\n",
      "  9.69144406 17.07639496 18.64427918  6.05165967 12.48905151  8.42402176\n",
      "  4.46631092 18.48683441 16.49520637  5.37038894  8.16533951 12.78592295\n",
      " 23.76731346 15.17320118]\n"
     ]
    }
   ],
   "source": [
    "print(enrpred)"
   ]
  },
  {
   "cell_type": "code",
   "execution_count": 92,
   "id": "88345deb",
   "metadata": {},
   "outputs": [
    {
     "name": "stdout",
     "output_type": "stream",
     "text": [
      "Accurecy Score 89.72\n",
      "R2 Score 0.8962811899309467\n",
      "Cross Val Score 0.8871063499723165\n"
     ]
    }
   ],
   "source": [
    "print(\"Accurecy Score\",round(rd.score(x,y)* 100,2))\n",
    "print(\"R2 Score\", r2_score(y, y_pred))\n",
    "print(\"Cross Val Score\", cross_val_score(rd, x, y, cv=5).mean())"
   ]
  },
  {
   "cell_type": "code",
   "execution_count": null,
   "id": "5581b994",
   "metadata": {},
   "outputs": [],
   "source": []
  }
 ],
 "metadata": {
  "kernelspec": {
   "display_name": "Python 3",
   "language": "python",
   "name": "python3"
  },
  "language_info": {
   "codemirror_mode": {
    "name": "ipython",
    "version": 3
   },
   "file_extension": ".py",
   "mimetype": "text/x-python",
   "name": "python",
   "nbconvert_exporter": "python",
   "pygments_lexer": "ipython3",
   "version": "3.8.8"
  }
 },
 "nbformat": 4,
 "nbformat_minor": 5
}
