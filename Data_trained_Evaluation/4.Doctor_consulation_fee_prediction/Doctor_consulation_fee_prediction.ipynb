{
 "cells": [
  {
   "cell_type": "code",
   "execution_count": 190,
   "id": "544dedfd",
   "metadata": {},
   "outputs": [],
   "source": [
    "import numpy as np \n",
    "import pandas as pd \n",
    "import seaborn as sns\n",
    "import matplotlib.pyplot as plt\n",
    "\n",
    "import warnings\n",
    "warnings.filterwarnings('ignore')"
   ]
  },
  {
   "cell_type": "code",
   "execution_count": 191,
   "id": "89fa678d",
   "metadata": {},
   "outputs": [],
   "source": [
    "# Reading Data from xlsx file require this package to be installed.\n",
    "#!pip install openpyxl"
   ]
  },
  {
   "cell_type": "code",
   "execution_count": 192,
   "id": "049432d0",
   "metadata": {},
   "outputs": [],
   "source": [
    "train = pd.read_excel('Final_Train.xlsx')\n",
    "test = pd.read_excel('Final_Test.xlsx')"
   ]
  },
  {
   "cell_type": "markdown",
   "id": "3d4a8d35",
   "metadata": {},
   "source": [
    "#### created data frame from Train and Test data"
   ]
  },
  {
   "cell_type": "code",
   "execution_count": 193,
   "id": "cc1845de",
   "metadata": {},
   "outputs": [
    {
     "data": {
      "text/html": [
       "<div>\n",
       "<style scoped>\n",
       "    .dataframe tbody tr th:only-of-type {\n",
       "        vertical-align: middle;\n",
       "    }\n",
       "\n",
       "    .dataframe tbody tr th {\n",
       "        vertical-align: top;\n",
       "    }\n",
       "\n",
       "    .dataframe thead th {\n",
       "        text-align: right;\n",
       "    }\n",
       "</style>\n",
       "<table border=\"1\" class=\"dataframe\">\n",
       "  <thead>\n",
       "    <tr style=\"text-align: right;\">\n",
       "      <th></th>\n",
       "      <th>Qualification</th>\n",
       "      <th>Experience</th>\n",
       "      <th>Rating</th>\n",
       "      <th>Place</th>\n",
       "      <th>Profile</th>\n",
       "      <th>Miscellaneous_Info</th>\n",
       "      <th>Fees</th>\n",
       "    </tr>\n",
       "  </thead>\n",
       "  <tbody>\n",
       "    <tr>\n",
       "      <th>0</th>\n",
       "      <td>BHMS, MD - Homeopathy</td>\n",
       "      <td>24 years experience</td>\n",
       "      <td>100%</td>\n",
       "      <td>Kakkanad, Ernakulam</td>\n",
       "      <td>Homeopath</td>\n",
       "      <td>100% 16 Feedback Kakkanad, Ernakulam</td>\n",
       "      <td>100</td>\n",
       "    </tr>\n",
       "    <tr>\n",
       "      <th>1</th>\n",
       "      <td>BAMS, MD - Ayurveda Medicine</td>\n",
       "      <td>12 years experience</td>\n",
       "      <td>98%</td>\n",
       "      <td>Whitefield, Bangalore</td>\n",
       "      <td>Ayurveda</td>\n",
       "      <td>98% 76 Feedback Whitefield, Bangalore</td>\n",
       "      <td>350</td>\n",
       "    </tr>\n",
       "    <tr>\n",
       "      <th>2</th>\n",
       "      <td>MBBS, MS - Otorhinolaryngology</td>\n",
       "      <td>9 years experience</td>\n",
       "      <td>NaN</td>\n",
       "      <td>Mathikere - BEL, Bangalore</td>\n",
       "      <td>ENT Specialist</td>\n",
       "      <td>NaN</td>\n",
       "      <td>300</td>\n",
       "    </tr>\n",
       "    <tr>\n",
       "      <th>3</th>\n",
       "      <td>BSc - Zoology, BAMS</td>\n",
       "      <td>12 years experience</td>\n",
       "      <td>NaN</td>\n",
       "      <td>Bannerghatta Road, Bangalore</td>\n",
       "      <td>Ayurveda</td>\n",
       "      <td>Bannerghatta Road, Bangalore ₹250 Available on...</td>\n",
       "      <td>250</td>\n",
       "    </tr>\n",
       "    <tr>\n",
       "      <th>4</th>\n",
       "      <td>BAMS</td>\n",
       "      <td>20 years experience</td>\n",
       "      <td>100%</td>\n",
       "      <td>Keelkattalai, Chennai</td>\n",
       "      <td>Ayurveda</td>\n",
       "      <td>100% 4 Feedback Keelkattalai, Chennai</td>\n",
       "      <td>250</td>\n",
       "    </tr>\n",
       "  </tbody>\n",
       "</table>\n",
       "</div>"
      ],
      "text/plain": [
       "                    Qualification           Experience Rating  \\\n",
       "0           BHMS, MD - Homeopathy  24 years experience   100%   \n",
       "1    BAMS, MD - Ayurveda Medicine  12 years experience    98%   \n",
       "2  MBBS, MS - Otorhinolaryngology   9 years experience    NaN   \n",
       "3             BSc - Zoology, BAMS  12 years experience    NaN   \n",
       "4                            BAMS  20 years experience   100%   \n",
       "\n",
       "                          Place         Profile  \\\n",
       "0           Kakkanad, Ernakulam       Homeopath   \n",
       "1         Whitefield, Bangalore        Ayurveda   \n",
       "2    Mathikere - BEL, Bangalore  ENT Specialist   \n",
       "3  Bannerghatta Road, Bangalore        Ayurveda   \n",
       "4         Keelkattalai, Chennai        Ayurveda   \n",
       "\n",
       "                                  Miscellaneous_Info  Fees  \n",
       "0               100% 16 Feedback Kakkanad, Ernakulam   100  \n",
       "1              98% 76 Feedback Whitefield, Bangalore   350  \n",
       "2                                                NaN   300  \n",
       "3  Bannerghatta Road, Bangalore ₹250 Available on...   250  \n",
       "4              100% 4 Feedback Keelkattalai, Chennai   250  "
      ]
     },
     "execution_count": 193,
     "metadata": {},
     "output_type": "execute_result"
    }
   ],
   "source": [
    "train.head()"
   ]
  },
  {
   "cell_type": "code",
   "execution_count": 194,
   "id": "a5775d03",
   "metadata": {},
   "outputs": [],
   "source": [
    "pd.set_option('display.max_columns',None)"
   ]
  },
  {
   "cell_type": "markdown",
   "id": "cbe502f7",
   "metadata": {},
   "source": [
    "## Will work on Train dataset only and all action performed on train dataset will be applied on test data set in later steps."
   ]
  },
  {
   "cell_type": "code",
   "execution_count": 195,
   "id": "b61b6128",
   "metadata": {},
   "outputs": [
    {
     "name": "stdout",
     "output_type": "stream",
     "text": [
      "<class 'pandas.core.frame.DataFrame'>\n",
      "RangeIndex: 5961 entries, 0 to 5960\n",
      "Data columns (total 7 columns):\n",
      " #   Column              Non-Null Count  Dtype \n",
      "---  ------              --------------  ----- \n",
      " 0   Qualification       5961 non-null   object\n",
      " 1   Experience          5961 non-null   object\n",
      " 2   Rating              2659 non-null   object\n",
      " 3   Place               5936 non-null   object\n",
      " 4   Profile             5961 non-null   object\n",
      " 5   Miscellaneous_Info  3341 non-null   object\n",
      " 6   Fees                5961 non-null   int64 \n",
      "dtypes: int64(1), object(6)\n",
      "memory usage: 326.1+ KB\n"
     ]
    }
   ],
   "source": [
    "train.info()"
   ]
  },
  {
   "cell_type": "markdown",
   "id": "3b6d524a",
   "metadata": {},
   "source": [
    "## Observation:-\n",
    "All data in tarin data set is object type(string data) except fee which is numeric."
   ]
  },
  {
   "cell_type": "code",
   "execution_count": 196,
   "id": "19024792",
   "metadata": {},
   "outputs": [
    {
     "data": {
      "text/plain": [
       "Qualification            0\n",
       "Experience               0\n",
       "Rating                3302\n",
       "Place                   25\n",
       "Profile                  0\n",
       "Miscellaneous_Info    2620\n",
       "Fees                     0\n",
       "dtype: int64"
      ]
     },
     "execution_count": 196,
     "metadata": {},
     "output_type": "execute_result"
    }
   ],
   "source": [
    "# check for null values\n",
    "round(train.isnull().sum())"
   ]
  },
  {
   "cell_type": "markdown",
   "id": "0674b762",
   "metadata": {},
   "source": [
    "## Observation:-\n",
    "Rating and Miscellaneous info has mull values. we will check % of null value in dataset."
   ]
  },
  {
   "cell_type": "code",
   "execution_count": 197,
   "id": "96db5082",
   "metadata": {},
   "outputs": [
    {
     "data": {
      "text/plain": [
       "Qualification          0.00\n",
       "Experience             0.00\n",
       "Rating                55.39\n",
       "Place                  0.42\n",
       "Profile                0.00\n",
       "Miscellaneous_Info    43.95\n",
       "Fees                   0.00\n",
       "dtype: float64"
      ]
     },
     "execution_count": 197,
     "metadata": {},
     "output_type": "execute_result"
    }
   ],
   "source": [
    "round(train.isnull().sum()/len(train) * 100,2)"
   ]
  },
  {
   "cell_type": "markdown",
   "id": "6e74bd9c",
   "metadata": {},
   "source": [
    "### Observation:-\n",
    "Ratting has 55% null values and Miscellaneous_Info has 44% null values of entire data, which is very huge.\n",
    "\n",
    "\n",
    "All independent variable categorical by nature, we will clean one data from one column at a time."
   ]
  },
  {
   "cell_type": "markdown",
   "id": "bcad3c0f",
   "metadata": {},
   "source": [
    "# Data Cleaning"
   ]
  },
  {
   "cell_type": "markdown",
   "id": "bcfc1a4d",
   "metadata": {},
   "source": [
    "### Extract Experience Year from Experience column and convert to Numeric"
   ]
  },
  {
   "cell_type": "code",
   "execution_count": 198,
   "id": "572dd40a",
   "metadata": {},
   "outputs": [],
   "source": [
    "# Experience contain string in value \"24 years experience\", We will extract this numerical part from given string.\n",
    "train['Experience'] = train['Experience'].str.split().str[0]   #Extract experience numeric value from string given in experience variable.\n",
    "train['Experience'] = train['Experience'].astype(int)"
   ]
  },
  {
   "cell_type": "code",
   "execution_count": 199,
   "id": "b708c3cd",
   "metadata": {},
   "outputs": [
    {
     "data": {
      "text/html": [
       "<div>\n",
       "<style scoped>\n",
       "    .dataframe tbody tr th:only-of-type {\n",
       "        vertical-align: middle;\n",
       "    }\n",
       "\n",
       "    .dataframe tbody tr th {\n",
       "        vertical-align: top;\n",
       "    }\n",
       "\n",
       "    .dataframe thead th {\n",
       "        text-align: right;\n",
       "    }\n",
       "</style>\n",
       "<table border=\"1\" class=\"dataframe\">\n",
       "  <thead>\n",
       "    <tr style=\"text-align: right;\">\n",
       "      <th></th>\n",
       "      <th>Qualification</th>\n",
       "      <th>Experience</th>\n",
       "      <th>Rating</th>\n",
       "      <th>Place</th>\n",
       "      <th>Profile</th>\n",
       "      <th>Miscellaneous_Info</th>\n",
       "      <th>Fees</th>\n",
       "    </tr>\n",
       "  </thead>\n",
       "  <tbody>\n",
       "    <tr>\n",
       "      <th>0</th>\n",
       "      <td>BHMS, MD - Homeopathy</td>\n",
       "      <td>24</td>\n",
       "      <td>100%</td>\n",
       "      <td>Kakkanad, Ernakulam</td>\n",
       "      <td>Homeopath</td>\n",
       "      <td>100% 16 Feedback Kakkanad, Ernakulam</td>\n",
       "      <td>100</td>\n",
       "    </tr>\n",
       "    <tr>\n",
       "      <th>1</th>\n",
       "      <td>BAMS, MD - Ayurveda Medicine</td>\n",
       "      <td>12</td>\n",
       "      <td>98%</td>\n",
       "      <td>Whitefield, Bangalore</td>\n",
       "      <td>Ayurveda</td>\n",
       "      <td>98% 76 Feedback Whitefield, Bangalore</td>\n",
       "      <td>350</td>\n",
       "    </tr>\n",
       "    <tr>\n",
       "      <th>2</th>\n",
       "      <td>MBBS, MS - Otorhinolaryngology</td>\n",
       "      <td>9</td>\n",
       "      <td>NaN</td>\n",
       "      <td>Mathikere - BEL, Bangalore</td>\n",
       "      <td>ENT Specialist</td>\n",
       "      <td>NaN</td>\n",
       "      <td>300</td>\n",
       "    </tr>\n",
       "    <tr>\n",
       "      <th>3</th>\n",
       "      <td>BSc - Zoology, BAMS</td>\n",
       "      <td>12</td>\n",
       "      <td>NaN</td>\n",
       "      <td>Bannerghatta Road, Bangalore</td>\n",
       "      <td>Ayurveda</td>\n",
       "      <td>Bannerghatta Road, Bangalore ₹250 Available on...</td>\n",
       "      <td>250</td>\n",
       "    </tr>\n",
       "    <tr>\n",
       "      <th>4</th>\n",
       "      <td>BAMS</td>\n",
       "      <td>20</td>\n",
       "      <td>100%</td>\n",
       "      <td>Keelkattalai, Chennai</td>\n",
       "      <td>Ayurveda</td>\n",
       "      <td>100% 4 Feedback Keelkattalai, Chennai</td>\n",
       "      <td>250</td>\n",
       "    </tr>\n",
       "  </tbody>\n",
       "</table>\n",
       "</div>"
      ],
      "text/plain": [
       "                    Qualification  Experience Rating  \\\n",
       "0           BHMS, MD - Homeopathy          24   100%   \n",
       "1    BAMS, MD - Ayurveda Medicine          12    98%   \n",
       "2  MBBS, MS - Otorhinolaryngology           9    NaN   \n",
       "3             BSc - Zoology, BAMS          12    NaN   \n",
       "4                            BAMS          20   100%   \n",
       "\n",
       "                          Place         Profile  \\\n",
       "0           Kakkanad, Ernakulam       Homeopath   \n",
       "1         Whitefield, Bangalore        Ayurveda   \n",
       "2    Mathikere - BEL, Bangalore  ENT Specialist   \n",
       "3  Bannerghatta Road, Bangalore        Ayurveda   \n",
       "4         Keelkattalai, Chennai        Ayurveda   \n",
       "\n",
       "                                  Miscellaneous_Info  Fees  \n",
       "0               100% 16 Feedback Kakkanad, Ernakulam   100  \n",
       "1              98% 76 Feedback Whitefield, Bangalore   350  \n",
       "2                                                NaN   300  \n",
       "3  Bannerghatta Road, Bangalore ₹250 Available on...   250  \n",
       "4              100% 4 Feedback Keelkattalai, Chennai   250  "
      ]
     },
     "execution_count": 199,
     "metadata": {},
     "output_type": "execute_result"
    }
   ],
   "source": [
    "train.head()"
   ]
  },
  {
   "cell_type": "markdown",
   "id": "14575360",
   "metadata": {},
   "source": [
    "#### Now experiene has only numeric value in column."
   ]
  },
  {
   "cell_type": "markdown",
   "id": "a190a749",
   "metadata": {},
   "source": [
    "### Moving with Place Column"
   ]
  },
  {
   "cell_type": "markdown",
   "id": "7885853c",
   "metadata": {},
   "source": [
    "##### * As, there are some missing values in Place column so I have replaced them with Unknown, \n",
    "##### * Unknown to represent them, we can easily extract city and locality from Place variable."
   ]
  },
  {
   "cell_type": "code",
   "execution_count": 200,
   "id": "f3b248a0",
   "metadata": {},
   "outputs": [],
   "source": [
    "train.Place.fillna('Unknown,Unknown',inplace=True)\n",
    "\n",
    "train['locality'] = train['Place'].str.split(\",\").str[0]\n",
    "train['city'] = train['Place'].str.split(\",\").str[1]\n",
    "\n",
    "#Now we can drop the place variable\n",
    "train.drop('Place',axis=1,inplace=True)"
   ]
  },
  {
   "cell_type": "markdown",
   "id": "30c0cfc6",
   "metadata": {},
   "source": [
    "### Rating Value\n",
    "\n",
    "Rating has more then 50% of missing values so first we have to deal with them, then convert Rating to int.\n",
    "for this we have replace ratting with imagnary value -99%, because imputing 50% of data with mode wil change the result.\n"
   ]
  },
  {
   "cell_type": "code",
   "execution_count": 201,
   "id": "cabc8cad",
   "metadata": {},
   "outputs": [],
   "source": [
    "# Fill missing values with -99% to provide them different importance.\n",
    "train['Rating'].fillna('-99%',inplace=True)\n",
    "\n",
    "# extract value of rating to avoid '%' and convert to numeric\n",
    "train['Rating'] = train['Rating'].str.slice(stop=-1).astype(int)"
   ]
  },
  {
   "cell_type": "markdown",
   "id": "49f44e53",
   "metadata": {},
   "source": [
    "#### Now, I grouped the rating in 10 groups(bins of size 10). Missing values will fall under 0 group. while, 0-9% will be class 1, 10–19% will be class 2, so on and so forth.we will use pd.cut() for this.**\n",
    "\n",
    "Use cut when you need to segment and sort data values into bins. For example, cut could convert ages to groups of age ranges. Supports binning into an equal number of bins, or a pre-specified array of bins."
   ]
  },
  {
   "cell_type": "code",
   "execution_count": 202,
   "id": "ea3893e0",
   "metadata": {},
   "outputs": [
    {
     "name": "stdout",
     "output_type": "stream",
     "text": [
      "0-9%  1\n",
      "10-19%  0\n",
      "20-29%  0\n",
      "30-39%  3\n",
      "And so-on..\n"
     ]
    }
   ],
   "source": [
    "print(\"0-9% \",len(train[(train['Rating']>0) & (train['Rating']<10)]))\n",
    "print(\"10-19% \",len(train[(train['Rating']>=10) & (train['Rating']<20)]))\n",
    "print(\"20-29% \",len(train[(train['Rating']>=20) & (train['Rating']<30)]))\n",
    "print(\"30-39% \",len(train[(train['Rating']>=30) & (train['Rating']<40)]))\n",
    "print(\"And so-on..\")"
   ]
  },
  {
   "cell_type": "code",
   "execution_count": 203,
   "id": "a261c4e0",
   "metadata": {},
   "outputs": [],
   "source": [
    "bins = [-99,0,10,20,30,40,50,60,70,80,90,100]\n",
    "labels = [i for i in range(11)]\n",
    "train['Rating'] = pd.cut(train['Rating'], bins=bins, labels=labels, include_lowest=True)"
   ]
  },
  {
   "cell_type": "code",
   "execution_count": 204,
   "id": "934c7209",
   "metadata": {},
   "outputs": [
    {
     "data": {
      "text/plain": [
       "0     3302\n",
       "1        1\n",
       "2        0\n",
       "3        0\n",
       "4        4\n",
       "5        3\n",
       "6       19\n",
       "7       32\n",
       "8       98\n",
       "9      280\n",
       "10    2222\n",
       "Name: Rating, dtype: int64"
      ]
     },
     "execution_count": 204,
     "metadata": {},
     "output_type": "execute_result"
    }
   ],
   "source": [
    "train['Rating'].value_counts().sort_index()"
   ]
  },
  {
   "cell_type": "markdown",
   "id": "0a79a2e1",
   "metadata": {},
   "source": [
    "### Observation:-\n",
    "1. All rating has been imputed with categorical values from 0 to 10."
   ]
  },
  {
   "cell_type": "markdown",
   "id": "40dd5d5b",
   "metadata": {},
   "source": [
    "## Qualification\n",
    "\n",
    "Qualification has string type value , it has two part in a single value which is saperated by comma, i will divide them and take first part as this part shows the degree of individual dotor, it will also help us to group the different madical professionals like Ayurveda, Homeopethic or Allopathic"
   ]
  },
  {
   "cell_type": "code",
   "execution_count": 205,
   "id": "eb0751ba",
   "metadata": {},
   "outputs": [
    {
     "data": {
      "text/plain": [
       "2     2628\n",
       "1     1962\n",
       "3      995\n",
       "4      257\n",
       "5       84\n",
       "6       23\n",
       "7        6\n",
       "9        3\n",
       "8        2\n",
       "10       1\n",
       "Name: Qualification_count, dtype: int64"
      ]
     },
     "execution_count": 205,
     "metadata": {},
     "output_type": "execute_result"
    }
   ],
   "source": [
    "train['Qualification_count'] = train['Qualification'].apply(lambda x: len(x.split(\",\")))\n",
    "\n",
    "train['Qualification_count'].value_counts()"
   ]
  },
  {
   "cell_type": "code",
   "execution_count": 206,
   "id": "61bc83b7",
   "metadata": {},
   "outputs": [
    {
     "data": {
      "text/plain": [
       "array(['BHMS, MD - Homeopathy', 'BAMS, MD - Ayurveda Medicine',\n",
       "       'MBBS, MS - Otorhinolaryngology', ...,\n",
       "       'MD - Dermatology , Venereology & Leprosy, MBBS, Fellowship In Dermatosurgery',\n",
       "       'BDS, certification in smile designing',\n",
       "       'MD - Homeopathy, Post Graduate Diploma in Healthcare Management(PGDHM), DHMS (Diploma in Homeopathic Medicine and Surgery)'],\n",
       "      dtype=object)"
      ]
     },
     "execution_count": 206,
     "metadata": {},
     "output_type": "execute_result"
    }
   ],
   "source": [
    "train['Qualification'].unique()"
   ]
  },
  {
   "cell_type": "markdown",
   "id": "4f94d357",
   "metadata": {},
   "source": [
    "##\n",
    "##### here there are lot of Qualification but most of doctors only has 1 or 2 qualification.\n",
    "##### And the data is to much messy like, 'MBA -Healthcare' and ‘MBA’ which referred to same category so here we will take the top 10 Qualification that occurs the most."
   ]
  },
  {
   "cell_type": "code",
   "execution_count": 207,
   "id": "46846b8c",
   "metadata": {},
   "outputs": [],
   "source": [
    "# Extract relevant qualification\n",
    "# DICT of qualification with there counts\n",
    "train[\"Qualification\"]=train[\"Qualification\"].str.split(\",\")\n",
    "Qualification ={}\n",
    "for x in train[\"Qualification\"].values:\n",
    "    for each in x:\n",
    "        each = each.strip()\n",
    "        if each in Qualification:\n",
    "            Qualification[each]+=1\n",
    "        else:\n",
    "            Qualification[each]=1"
   ]
  },
  {
   "cell_type": "code",
   "execution_count": 208,
   "id": "324914da",
   "metadata": {},
   "outputs": [
    {
     "name": "stdout",
     "output_type": "stream",
     "text": [
      "['MBBS', 'BDS', 'BAMS', 'BHMS', 'MD - Dermatology', 'MS - ENT', 'Venereology & Leprosy', 'MD - General Medicine', 'Diploma in Otorhinolaryngology (DLO)', 'MD - Homeopathy']\n"
     ]
    }
   ],
   "source": [
    "#Extract top 10 qual\n",
    "most_qual = sorted(Qualification.items(),key=lambda x:x[1],reverse=True)[:10]\n",
    "final_qual = []\n",
    "for qual in most_qual:\n",
    "    final_qual.append(qual[0])\n",
    "    \n",
    "print(final_qual)"
   ]
  },
  {
   "cell_type": "code",
   "execution_count": 209,
   "id": "310c01de",
   "metadata": {},
   "outputs": [],
   "source": [
    "#Encode extracted top 10 qualification into train dataset as new column.\n",
    "for qual in final_qual:\n",
    "    train[qual] = 0\n",
    "\n",
    "for x,y in zip(train['Qualification'].values, np.array([i for i in range(len(train))])):\n",
    "    for c in x:\n",
    "        c = c.strip()\n",
    "        if c in final_qual:\n",
    "            train[c][y] = 1"
   ]
  },
  {
   "cell_type": "code",
   "execution_count": 210,
   "id": "fde8e49e",
   "metadata": {},
   "outputs": [],
   "source": [
    "# Now we can drop the extra quali which we added \n",
    "train.drop(['Qualification','Qualification_count'],axis=1,inplace=True)"
   ]
  },
  {
   "cell_type": "code",
   "execution_count": 211,
   "id": "cc4ac4a6",
   "metadata": {},
   "outputs": [
    {
     "data": {
      "text/html": [
       "<div>\n",
       "<style scoped>\n",
       "    .dataframe tbody tr th:only-of-type {\n",
       "        vertical-align: middle;\n",
       "    }\n",
       "\n",
       "    .dataframe tbody tr th {\n",
       "        vertical-align: top;\n",
       "    }\n",
       "\n",
       "    .dataframe thead th {\n",
       "        text-align: right;\n",
       "    }\n",
       "</style>\n",
       "<table border=\"1\" class=\"dataframe\">\n",
       "  <thead>\n",
       "    <tr style=\"text-align: right;\">\n",
       "      <th></th>\n",
       "      <th>Experience</th>\n",
       "      <th>Rating</th>\n",
       "      <th>Profile</th>\n",
       "      <th>Miscellaneous_Info</th>\n",
       "      <th>Fees</th>\n",
       "      <th>locality</th>\n",
       "      <th>city</th>\n",
       "      <th>MBBS</th>\n",
       "      <th>BDS</th>\n",
       "      <th>BAMS</th>\n",
       "      <th>BHMS</th>\n",
       "      <th>MD - Dermatology</th>\n",
       "      <th>MS - ENT</th>\n",
       "      <th>Venereology &amp; Leprosy</th>\n",
       "      <th>MD - General Medicine</th>\n",
       "      <th>Diploma in Otorhinolaryngology (DLO)</th>\n",
       "      <th>MD - Homeopathy</th>\n",
       "    </tr>\n",
       "  </thead>\n",
       "  <tbody>\n",
       "    <tr>\n",
       "      <th>0</th>\n",
       "      <td>24</td>\n",
       "      <td>10</td>\n",
       "      <td>Homeopath</td>\n",
       "      <td>100% 16 Feedback Kakkanad, Ernakulam</td>\n",
       "      <td>100</td>\n",
       "      <td>Kakkanad</td>\n",
       "      <td>Ernakulam</td>\n",
       "      <td>0</td>\n",
       "      <td>0</td>\n",
       "      <td>0</td>\n",
       "      <td>1</td>\n",
       "      <td>0</td>\n",
       "      <td>0</td>\n",
       "      <td>0</td>\n",
       "      <td>0</td>\n",
       "      <td>0</td>\n",
       "      <td>1</td>\n",
       "    </tr>\n",
       "    <tr>\n",
       "      <th>1</th>\n",
       "      <td>12</td>\n",
       "      <td>10</td>\n",
       "      <td>Ayurveda</td>\n",
       "      <td>98% 76 Feedback Whitefield, Bangalore</td>\n",
       "      <td>350</td>\n",
       "      <td>Whitefield</td>\n",
       "      <td>Bangalore</td>\n",
       "      <td>0</td>\n",
       "      <td>0</td>\n",
       "      <td>1</td>\n",
       "      <td>0</td>\n",
       "      <td>0</td>\n",
       "      <td>0</td>\n",
       "      <td>0</td>\n",
       "      <td>0</td>\n",
       "      <td>0</td>\n",
       "      <td>0</td>\n",
       "    </tr>\n",
       "    <tr>\n",
       "      <th>2</th>\n",
       "      <td>9</td>\n",
       "      <td>0</td>\n",
       "      <td>ENT Specialist</td>\n",
       "      <td>NaN</td>\n",
       "      <td>300</td>\n",
       "      <td>Mathikere - BEL</td>\n",
       "      <td>Bangalore</td>\n",
       "      <td>1</td>\n",
       "      <td>0</td>\n",
       "      <td>0</td>\n",
       "      <td>0</td>\n",
       "      <td>0</td>\n",
       "      <td>0</td>\n",
       "      <td>0</td>\n",
       "      <td>0</td>\n",
       "      <td>0</td>\n",
       "      <td>0</td>\n",
       "    </tr>\n",
       "    <tr>\n",
       "      <th>3</th>\n",
       "      <td>12</td>\n",
       "      <td>0</td>\n",
       "      <td>Ayurveda</td>\n",
       "      <td>Bannerghatta Road, Bangalore ₹250 Available on...</td>\n",
       "      <td>250</td>\n",
       "      <td>Bannerghatta Road</td>\n",
       "      <td>Bangalore</td>\n",
       "      <td>0</td>\n",
       "      <td>0</td>\n",
       "      <td>1</td>\n",
       "      <td>0</td>\n",
       "      <td>0</td>\n",
       "      <td>0</td>\n",
       "      <td>0</td>\n",
       "      <td>0</td>\n",
       "      <td>0</td>\n",
       "      <td>0</td>\n",
       "    </tr>\n",
       "  </tbody>\n",
       "</table>\n",
       "</div>"
      ],
      "text/plain": [
       "   Experience Rating         Profile  \\\n",
       "0          24     10       Homeopath   \n",
       "1          12     10        Ayurveda   \n",
       "2           9      0  ENT Specialist   \n",
       "3          12      0        Ayurveda   \n",
       "\n",
       "                                  Miscellaneous_Info  Fees           locality  \\\n",
       "0               100% 16 Feedback Kakkanad, Ernakulam   100           Kakkanad   \n",
       "1              98% 76 Feedback Whitefield, Bangalore   350         Whitefield   \n",
       "2                                                NaN   300    Mathikere - BEL   \n",
       "3  Bannerghatta Road, Bangalore ₹250 Available on...   250  Bannerghatta Road   \n",
       "\n",
       "         city  MBBS  BDS  BAMS  BHMS  MD - Dermatology  MS - ENT  \\\n",
       "0   Ernakulam     0    0     0     1                 0         0   \n",
       "1   Bangalore     0    0     1     0                 0         0   \n",
       "2   Bangalore     1    0     0     0                 0         0   \n",
       "3   Bangalore     0    0     1     0                 0         0   \n",
       "\n",
       "   Venereology & Leprosy  MD - General Medicine  \\\n",
       "0                      0                      0   \n",
       "1                      0                      0   \n",
       "2                      0                      0   \n",
       "3                      0                      0   \n",
       "\n",
       "   Diploma in Otorhinolaryngology (DLO)  MD - Homeopathy  \n",
       "0                                     0                1  \n",
       "1                                     0                0  \n",
       "2                                     0                0  \n",
       "3                                     0                0  "
      ]
     },
     "execution_count": 211,
     "metadata": {},
     "output_type": "execute_result"
    }
   ],
   "source": [
    "train.head(4)"
   ]
  },
  {
   "cell_type": "markdown",
   "id": "b0b97723",
   "metadata": {},
   "source": [
    "Now, we can see that we are having top 10 Qual columns in our training set which are perfectly one-hot encoded. where there is 2 Qual from top 10 in that row two 1 are there, and it's correct."
   ]
  },
  {
   "cell_type": "code",
   "execution_count": 212,
   "id": "b5234f17",
   "metadata": {},
   "outputs": [
    {
     "data": {
      "text/plain": [
       "array([' Ernakulam', ' Bangalore', ' Chennai', ' Delhi', ' Hyderabad',\n",
       "       ' Coimbatore', ' Mumbai', ' Thiruvananthapuram', 'Unknown',\n",
       "       ' Sector 5', nan], dtype=object)"
      ]
     },
     "execution_count": 212,
     "metadata": {},
     "output_type": "execute_result"
    }
   ],
   "source": [
    "# CITY COLUMN\n",
    "train['city'].unique()"
   ]
  },
  {
   "cell_type": "code",
   "execution_count": 213,
   "id": "61f57853",
   "metadata": {},
   "outputs": [],
   "source": [
    "import re\n",
    "train['city'] = train['city'].apply(lambda x: re.sub(' +','',str(x)))"
   ]
  },
  {
   "cell_type": "code",
   "execution_count": 214,
   "id": "d5d480b7",
   "metadata": {},
   "outputs": [
    {
     "data": {
      "text/plain": [
       "Bangalore             1258\n",
       "Mumbai                1219\n",
       "Delhi                 1184\n",
       "Hyderabad              951\n",
       "Chennai                855\n",
       "Coimbatore             228\n",
       "Ernakulam              153\n",
       "Thiruvananthapuram      86\n",
       "Unknown                 25\n",
       "Sector5                  1\n",
       "nan                      1\n",
       "Name: city, dtype: int64"
      ]
     },
     "execution_count": 214,
     "metadata": {},
     "output_type": "execute_result"
    }
   ],
   "source": [
    "train['city'].value_counts()"
   ]
  },
  {
   "cell_type": "code",
   "execution_count": 215,
   "id": "0d2189ca",
   "metadata": {},
   "outputs": [
    {
     "data": {
      "text/html": [
       "<div>\n",
       "<style scoped>\n",
       "    .dataframe tbody tr th:only-of-type {\n",
       "        vertical-align: middle;\n",
       "    }\n",
       "\n",
       "    .dataframe tbody tr th {\n",
       "        vertical-align: top;\n",
       "    }\n",
       "\n",
       "    .dataframe thead th {\n",
       "        text-align: right;\n",
       "    }\n",
       "</style>\n",
       "<table border=\"1\" class=\"dataframe\">\n",
       "  <thead>\n",
       "    <tr style=\"text-align: right;\">\n",
       "      <th></th>\n",
       "      <th>Experience</th>\n",
       "      <th>Rating</th>\n",
       "      <th>Profile</th>\n",
       "      <th>Miscellaneous_Info</th>\n",
       "      <th>Fees</th>\n",
       "      <th>locality</th>\n",
       "      <th>city</th>\n",
       "      <th>MBBS</th>\n",
       "      <th>BDS</th>\n",
       "      <th>BAMS</th>\n",
       "      <th>BHMS</th>\n",
       "      <th>MD - Dermatology</th>\n",
       "      <th>MS - ENT</th>\n",
       "      <th>Venereology &amp; Leprosy</th>\n",
       "      <th>MD - General Medicine</th>\n",
       "      <th>Diploma in Otorhinolaryngology (DLO)</th>\n",
       "      <th>MD - Homeopathy</th>\n",
       "    </tr>\n",
       "  </thead>\n",
       "  <tbody>\n",
       "    <tr>\n",
       "      <th>2169</th>\n",
       "      <td>11</td>\n",
       "      <td>0</td>\n",
       "      <td>Dentist</td>\n",
       "      <td>NaN</td>\n",
       "      <td>250</td>\n",
       "      <td>Dwarka</td>\n",
       "      <td>Sector5</td>\n",
       "      <td>0</td>\n",
       "      <td>1</td>\n",
       "      <td>0</td>\n",
       "      <td>0</td>\n",
       "      <td>0</td>\n",
       "      <td>0</td>\n",
       "      <td>0</td>\n",
       "      <td>0</td>\n",
       "      <td>0</td>\n",
       "      <td>0</td>\n",
       "    </tr>\n",
       "    <tr>\n",
       "      <th>3980</th>\n",
       "      <td>23</td>\n",
       "      <td>0</td>\n",
       "      <td>Dentist</td>\n",
       "      <td>NaN</td>\n",
       "      <td>250</td>\n",
       "      <td>e</td>\n",
       "      <td>nan</td>\n",
       "      <td>0</td>\n",
       "      <td>1</td>\n",
       "      <td>0</td>\n",
       "      <td>0</td>\n",
       "      <td>0</td>\n",
       "      <td>0</td>\n",
       "      <td>0</td>\n",
       "      <td>0</td>\n",
       "      <td>0</td>\n",
       "      <td>0</td>\n",
       "    </tr>\n",
       "  </tbody>\n",
       "</table>\n",
       "</div>"
      ],
      "text/plain": [
       "      Experience Rating  Profile Miscellaneous_Info  Fees locality     city  \\\n",
       "2169          11      0  Dentist                NaN   250   Dwarka  Sector5   \n",
       "3980          23      0  Dentist                NaN   250        e      nan   \n",
       "\n",
       "      MBBS  BDS  BAMS  BHMS  MD - Dermatology  MS - ENT  \\\n",
       "2169     0    1     0     0                 0         0   \n",
       "3980     0    1     0     0                 0         0   \n",
       "\n",
       "      Venereology & Leprosy  MD - General Medicine  \\\n",
       "2169                      0                      0   \n",
       "3980                      0                      0   \n",
       "\n",
       "      Diploma in Otorhinolaryngology (DLO)  MD - Homeopathy  \n",
       "2169                                     0                0  \n",
       "3980                                     0                0  "
      ]
     },
     "execution_count": 215,
     "metadata": {},
     "output_type": "execute_result"
    }
   ],
   "source": [
    "# city contains some improper data.\n",
    "train[(train['city'] == \"nan\") | (train['city'] == \"Sector5\")]"
   ]
  },
  {
   "cell_type": "code",
   "execution_count": 217,
   "id": "b2c0f36c",
   "metadata": {},
   "outputs": [
    {
     "data": {
      "text/plain": [
       "Bangalore             1258\n",
       "Mumbai                1219\n",
       "Delhi                 1184\n",
       "Hyderabad              951\n",
       "Chennai                855\n",
       "Coimbatore             228\n",
       "Ernakulam              153\n",
       "Thiruvananthapuram      86\n",
       "Unknown                 25\n",
       "Sector5                  1\n",
       "nan                      1\n",
       "Name: city, dtype: int64"
      ]
     },
     "execution_count": 217,
     "metadata": {},
     "output_type": "execute_result"
    }
   ],
   "source": [
    "train['city'].value_counts()"
   ]
  },
  {
   "cell_type": "markdown",
   "id": "cc6b7d0c",
   "metadata": {},
   "source": [
    "where ever the locality is Dwarka the city is Delhi, and this Sector5 is area of that so it's misclassified here. which we have to correct.\n",
    "And where city nan there we have to impute this to unknown in locality and city both."
   ]
  },
  {
   "cell_type": "code",
   "execution_count": 218,
   "id": "b1c0a193",
   "metadata": {},
   "outputs": [],
   "source": [
    "train['city'] = np.where(train['city']==\"Sector5\",\"Delhi\", train['city'])\n",
    "\n",
    "#nan\n",
    "train['city'].loc[3980] = \"Unknown\"\n",
    "train['locality'].loc[3980] = \"Unknown\""
   ]
  },
  {
   "cell_type": "code",
   "execution_count": 219,
   "id": "c3409836",
   "metadata": {},
   "outputs": [
    {
     "data": {
      "text/html": [
       "<div>\n",
       "<style scoped>\n",
       "    .dataframe tbody tr th:only-of-type {\n",
       "        vertical-align: middle;\n",
       "    }\n",
       "\n",
       "    .dataframe tbody tr th {\n",
       "        vertical-align: top;\n",
       "    }\n",
       "\n",
       "    .dataframe thead th {\n",
       "        text-align: right;\n",
       "    }\n",
       "</style>\n",
       "<table border=\"1\" class=\"dataframe\">\n",
       "  <thead>\n",
       "    <tr style=\"text-align: right;\">\n",
       "      <th></th>\n",
       "      <th>Experience</th>\n",
       "      <th>Rating</th>\n",
       "      <th>Profile</th>\n",
       "      <th>Miscellaneous_Info</th>\n",
       "      <th>Fees</th>\n",
       "      <th>locality</th>\n",
       "      <th>city</th>\n",
       "      <th>MBBS</th>\n",
       "      <th>BDS</th>\n",
       "      <th>BAMS</th>\n",
       "      <th>BHMS</th>\n",
       "      <th>MD - Dermatology</th>\n",
       "      <th>MS - ENT</th>\n",
       "      <th>Venereology &amp; Leprosy</th>\n",
       "      <th>MD - General Medicine</th>\n",
       "      <th>Diploma in Otorhinolaryngology (DLO)</th>\n",
       "      <th>MD - Homeopathy</th>\n",
       "    </tr>\n",
       "  </thead>\n",
       "  <tbody>\n",
       "    <tr>\n",
       "      <th>0</th>\n",
       "      <td>24</td>\n",
       "      <td>10</td>\n",
       "      <td>Homeopath</td>\n",
       "      <td>100% 16 Feedback Kakkanad, Ernakulam</td>\n",
       "      <td>100</td>\n",
       "      <td>Kakkanad</td>\n",
       "      <td>Ernakulam</td>\n",
       "      <td>0</td>\n",
       "      <td>0</td>\n",
       "      <td>0</td>\n",
       "      <td>1</td>\n",
       "      <td>0</td>\n",
       "      <td>0</td>\n",
       "      <td>0</td>\n",
       "      <td>0</td>\n",
       "      <td>0</td>\n",
       "      <td>1</td>\n",
       "    </tr>\n",
       "    <tr>\n",
       "      <th>1</th>\n",
       "      <td>12</td>\n",
       "      <td>10</td>\n",
       "      <td>Ayurveda</td>\n",
       "      <td>98% 76 Feedback Whitefield, Bangalore</td>\n",
       "      <td>350</td>\n",
       "      <td>Whitefield</td>\n",
       "      <td>Bangalore</td>\n",
       "      <td>0</td>\n",
       "      <td>0</td>\n",
       "      <td>1</td>\n",
       "      <td>0</td>\n",
       "      <td>0</td>\n",
       "      <td>0</td>\n",
       "      <td>0</td>\n",
       "      <td>0</td>\n",
       "      <td>0</td>\n",
       "      <td>0</td>\n",
       "    </tr>\n",
       "    <tr>\n",
       "      <th>2</th>\n",
       "      <td>9</td>\n",
       "      <td>0</td>\n",
       "      <td>ENT Specialist</td>\n",
       "      <td>NaN</td>\n",
       "      <td>300</td>\n",
       "      <td>Mathikere - BEL</td>\n",
       "      <td>Bangalore</td>\n",
       "      <td>1</td>\n",
       "      <td>0</td>\n",
       "      <td>0</td>\n",
       "      <td>0</td>\n",
       "      <td>0</td>\n",
       "      <td>0</td>\n",
       "      <td>0</td>\n",
       "      <td>0</td>\n",
       "      <td>0</td>\n",
       "      <td>0</td>\n",
       "    </tr>\n",
       "    <tr>\n",
       "      <th>3</th>\n",
       "      <td>12</td>\n",
       "      <td>0</td>\n",
       "      <td>Ayurveda</td>\n",
       "      <td>Bannerghatta Road, Bangalore ₹250 Available on...</td>\n",
       "      <td>250</td>\n",
       "      <td>Bannerghatta Road</td>\n",
       "      <td>Bangalore</td>\n",
       "      <td>0</td>\n",
       "      <td>0</td>\n",
       "      <td>1</td>\n",
       "      <td>0</td>\n",
       "      <td>0</td>\n",
       "      <td>0</td>\n",
       "      <td>0</td>\n",
       "      <td>0</td>\n",
       "      <td>0</td>\n",
       "      <td>0</td>\n",
       "    </tr>\n",
       "    <tr>\n",
       "      <th>4</th>\n",
       "      <td>20</td>\n",
       "      <td>10</td>\n",
       "      <td>Ayurveda</td>\n",
       "      <td>100% 4 Feedback Keelkattalai, Chennai</td>\n",
       "      <td>250</td>\n",
       "      <td>Keelkattalai</td>\n",
       "      <td>Chennai</td>\n",
       "      <td>0</td>\n",
       "      <td>0</td>\n",
       "      <td>1</td>\n",
       "      <td>0</td>\n",
       "      <td>0</td>\n",
       "      <td>0</td>\n",
       "      <td>0</td>\n",
       "      <td>0</td>\n",
       "      <td>0</td>\n",
       "      <td>0</td>\n",
       "    </tr>\n",
       "  </tbody>\n",
       "</table>\n",
       "</div>"
      ],
      "text/plain": [
       "   Experience Rating         Profile  \\\n",
       "0          24     10       Homeopath   \n",
       "1          12     10        Ayurveda   \n",
       "2           9      0  ENT Specialist   \n",
       "3          12      0        Ayurveda   \n",
       "4          20     10        Ayurveda   \n",
       "\n",
       "                                  Miscellaneous_Info  Fees           locality  \\\n",
       "0               100% 16 Feedback Kakkanad, Ernakulam   100           Kakkanad   \n",
       "1              98% 76 Feedback Whitefield, Bangalore   350         Whitefield   \n",
       "2                                                NaN   300    Mathikere - BEL   \n",
       "3  Bannerghatta Road, Bangalore ₹250 Available on...   250  Bannerghatta Road   \n",
       "4              100% 4 Feedback Keelkattalai, Chennai   250       Keelkattalai   \n",
       "\n",
       "        city  MBBS  BDS  BAMS  BHMS  MD - Dermatology  MS - ENT  \\\n",
       "0  Ernakulam     0    0     0     1                 0         0   \n",
       "1  Bangalore     0    0     1     0                 0         0   \n",
       "2  Bangalore     1    0     0     0                 0         0   \n",
       "3  Bangalore     0    0     1     0                 0         0   \n",
       "4    Chennai     0    0     1     0                 0         0   \n",
       "\n",
       "   Venereology & Leprosy  MD - General Medicine  \\\n",
       "0                      0                      0   \n",
       "1                      0                      0   \n",
       "2                      0                      0   \n",
       "3                      0                      0   \n",
       "4                      0                      0   \n",
       "\n",
       "   Diploma in Otorhinolaryngology (DLO)  MD - Homeopathy  \n",
       "0                                     0                1  \n",
       "1                                     0                0  \n",
       "2                                     0                0  \n",
       "3                                     0                0  \n",
       "4                                     0                0  "
      ]
     },
     "execution_count": 219,
     "metadata": {},
     "output_type": "execute_result"
    }
   ],
   "source": [
    "train.head()"
   ]
  },
  {
   "cell_type": "code",
   "execution_count": 220,
   "id": "9ea78701",
   "metadata": {},
   "outputs": [
    {
     "data": {
      "text/plain": [
       "city\n",
       "Bangalore             153\n",
       "Chennai               124\n",
       "Coimbatore             48\n",
       "Delhi                 200\n",
       "Ernakulam              52\n",
       "Hyderabad             135\n",
       "Mumbai                115\n",
       "Thiruvananthapuram     48\n",
       "Unknown                 1\n",
       "Name: locality, dtype: int64"
      ]
     },
     "execution_count": 220,
     "metadata": {},
     "output_type": "execute_result"
    }
   ],
   "source": [
    "# let's see for each city how much locality data is there\n",
    "train.groupby('city')['locality'].nunique()"
   ]
  },
  {
   "cell_type": "code",
   "execution_count": 221,
   "id": "c234ad9d",
   "metadata": {},
   "outputs": [],
   "source": [
    "#Save cleaned data in csv\n",
    "train.to_csv('data_correct.csv',index=False)"
   ]
  },
  {
   "cell_type": "code",
   "execution_count": 222,
   "id": "d23989ae",
   "metadata": {},
   "outputs": [
    {
     "data": {
      "text/html": [
       "<div>\n",
       "<style scoped>\n",
       "    .dataframe tbody tr th:only-of-type {\n",
       "        vertical-align: middle;\n",
       "    }\n",
       "\n",
       "    .dataframe tbody tr th {\n",
       "        vertical-align: top;\n",
       "    }\n",
       "\n",
       "    .dataframe thead th {\n",
       "        text-align: right;\n",
       "    }\n",
       "</style>\n",
       "<table border=\"1\" class=\"dataframe\">\n",
       "  <thead>\n",
       "    <tr style=\"text-align: right;\">\n",
       "      <th></th>\n",
       "      <th>Experience</th>\n",
       "      <th>Rating</th>\n",
       "      <th>Profile</th>\n",
       "      <th>Miscellaneous_Info</th>\n",
       "      <th>Fees</th>\n",
       "      <th>locality</th>\n",
       "      <th>city</th>\n",
       "      <th>MBBS</th>\n",
       "      <th>BDS</th>\n",
       "      <th>BAMS</th>\n",
       "      <th>BHMS</th>\n",
       "      <th>MD - Dermatology</th>\n",
       "      <th>MS - ENT</th>\n",
       "      <th>Venereology &amp; Leprosy</th>\n",
       "      <th>MD - General Medicine</th>\n",
       "      <th>Diploma in Otorhinolaryngology (DLO)</th>\n",
       "      <th>MD - Homeopathy</th>\n",
       "    </tr>\n",
       "  </thead>\n",
       "  <tbody>\n",
       "    <tr>\n",
       "      <th>0</th>\n",
       "      <td>24</td>\n",
       "      <td>10</td>\n",
       "      <td>Homeopath</td>\n",
       "      <td>100% 16 Feedback Kakkanad, Ernakulam</td>\n",
       "      <td>100</td>\n",
       "      <td>Kakkanad</td>\n",
       "      <td>Ernakulam</td>\n",
       "      <td>0</td>\n",
       "      <td>0</td>\n",
       "      <td>0</td>\n",
       "      <td>1</td>\n",
       "      <td>0</td>\n",
       "      <td>0</td>\n",
       "      <td>0</td>\n",
       "      <td>0</td>\n",
       "      <td>0</td>\n",
       "      <td>1</td>\n",
       "    </tr>\n",
       "    <tr>\n",
       "      <th>1</th>\n",
       "      <td>12</td>\n",
       "      <td>10</td>\n",
       "      <td>Ayurveda</td>\n",
       "      <td>98% 76 Feedback Whitefield, Bangalore</td>\n",
       "      <td>350</td>\n",
       "      <td>Whitefield</td>\n",
       "      <td>Bangalore</td>\n",
       "      <td>0</td>\n",
       "      <td>0</td>\n",
       "      <td>1</td>\n",
       "      <td>0</td>\n",
       "      <td>0</td>\n",
       "      <td>0</td>\n",
       "      <td>0</td>\n",
       "      <td>0</td>\n",
       "      <td>0</td>\n",
       "      <td>0</td>\n",
       "    </tr>\n",
       "    <tr>\n",
       "      <th>2</th>\n",
       "      <td>9</td>\n",
       "      <td>0</td>\n",
       "      <td>ENT Specialist</td>\n",
       "      <td>NaN</td>\n",
       "      <td>300</td>\n",
       "      <td>Mathikere - BEL</td>\n",
       "      <td>Bangalore</td>\n",
       "      <td>1</td>\n",
       "      <td>0</td>\n",
       "      <td>0</td>\n",
       "      <td>0</td>\n",
       "      <td>0</td>\n",
       "      <td>0</td>\n",
       "      <td>0</td>\n",
       "      <td>0</td>\n",
       "      <td>0</td>\n",
       "      <td>0</td>\n",
       "    </tr>\n",
       "  </tbody>\n",
       "</table>\n",
       "</div>"
      ],
      "text/plain": [
       "   Experience Rating         Profile                     Miscellaneous_Info  \\\n",
       "0          24     10       Homeopath   100% 16 Feedback Kakkanad, Ernakulam   \n",
       "1          12     10        Ayurveda  98% 76 Feedback Whitefield, Bangalore   \n",
       "2           9      0  ENT Specialist                                    NaN   \n",
       "\n",
       "   Fees         locality       city  MBBS  BDS  BAMS  BHMS  MD - Dermatology  \\\n",
       "0   100         Kakkanad  Ernakulam     0    0     0     1                 0   \n",
       "1   350       Whitefield  Bangalore     0    0     1     0                 0   \n",
       "2   300  Mathikere - BEL  Bangalore     1    0     0     0                 0   \n",
       "\n",
       "   MS - ENT  Venereology & Leprosy  MD - General Medicine  \\\n",
       "0         0                      0                      0   \n",
       "1         0                      0                      0   \n",
       "2         0                      0                      0   \n",
       "\n",
       "   Diploma in Otorhinolaryngology (DLO)  MD - Homeopathy  \n",
       "0                                     0                1  \n",
       "1                                     0                0  \n",
       "2                                     0                0  "
      ]
     },
     "execution_count": 222,
     "metadata": {},
     "output_type": "execute_result"
    }
   ],
   "source": [
    "train.head(3)"
   ]
  },
  {
   "cell_type": "markdown",
   "id": "3de4ea88",
   "metadata": {},
   "source": [
    "### Categorical Encoding\n",
    "Before encoding a categorical variable, look at relationship of data with respect to target column To have better understand the data."
   ]
  },
  {
   "cell_type": "markdown",
   "id": "dd235f2b",
   "metadata": {},
   "source": [
    "## EDA"
   ]
  },
  {
   "cell_type": "code",
   "execution_count": 102,
   "id": "7180b7e8",
   "metadata": {},
   "outputs": [
    {
     "data": {
      "image/png": "[encoded data removed]",
      "text/plain": [
       "<Figure size 576x576 with 1 Axes>"
      ]
     },
     "metadata": {
      "needs_background": "light"
     },
     "output_type": "display_data"
    }
   ],
   "source": [
    "plt.figure(figsize=(8,8))\n",
    "sns.barplot(x='Profile',y='Fees',data=train)\n",
    "plt.title(\"Doctor Fees wrt Profile\")\n",
    "plt.xticks(rotation=45)\n",
    "plt.show()"
   ]
  },
  {
   "cell_type": "markdown",
   "id": "54afde61",
   "metadata": {},
   "source": [
    "## Observation:-\n",
    "1. We can see in this graph that Dematologiest and ENT Specialist has highest fee."
   ]
  },
  {
   "cell_type": "code",
   "execution_count": 103,
   "id": "648fdf59",
   "metadata": {},
   "outputs": [
    {
     "data": {
      "image/png": "[encoded data removed]",
      "text/plain": [
       "<Figure size 720x576 with 1 Axes>"
      ]
     },
     "metadata": {
      "needs_background": "light"
     },
     "output_type": "display_data"
    }
   ],
   "source": [
    "plt.figure(figsize=(10,8))\n",
    "sns.barplot(x='city',y='Fees',data=train)\n",
    "plt.title(\"Doctor Fees rate in different city\")\n",
    "plt.xticks(rotation=45)\n",
    "plt.show()"
   ]
  },
  {
   "cell_type": "markdown",
   "id": "ded15db3",
   "metadata": {},
   "source": [
    "As Delhi, Banglore, Hyderabad, Mumbai and Chennai are in list of Tier 1 city so, as usual the doctor consultation fees in these metripolean cities are very high as compared to Tier 2 and Tier 3 city.\n",
    "\n",
    "Doctor Fess with having profile as ENT Specialist and Dermatologist is very high then Homeopath and Genral medicine are at same level."
   ]
  },
  {
   "cell_type": "markdown",
   "id": "55c123b1",
   "metadata": {},
   "source": [
    "### Impute profile and city data with numerical values using dammies."
   ]
  },
  {
   "cell_type": "code",
   "execution_count": 104,
   "id": "046a85d0",
   "metadata": {},
   "outputs": [],
   "source": [
    "train = pd.get_dummies(train,columns=['city','Profile'], prefix=['city','Profile'])"
   ]
  },
  {
   "cell_type": "code",
   "execution_count": 105,
   "id": "089412f0",
   "metadata": {},
   "outputs": [
    {
     "data": {
      "text/html": [
       "<div>\n",
       "<style scoped>\n",
       "    .dataframe tbody tr th:only-of-type {\n",
       "        vertical-align: middle;\n",
       "    }\n",
       "\n",
       "    .dataframe tbody tr th {\n",
       "        vertical-align: top;\n",
       "    }\n",
       "\n",
       "    .dataframe thead th {\n",
       "        text-align: right;\n",
       "    }\n",
       "</style>\n",
       "<table border=\"1\" class=\"dataframe\">\n",
       "  <thead>\n",
       "    <tr style=\"text-align: right;\">\n",
       "      <th></th>\n",
       "      <th>Experience</th>\n",
       "      <th>Rating</th>\n",
       "      <th>Miscellaneous_Info</th>\n",
       "      <th>Fees</th>\n",
       "      <th>locality</th>\n",
       "      <th>MBBS</th>\n",
       "      <th>BDS</th>\n",
       "      <th>BAMS</th>\n",
       "      <th>BHMS</th>\n",
       "      <th>MD - Dermatology</th>\n",
       "      <th>MS - ENT</th>\n",
       "      <th>Venereology &amp; Leprosy</th>\n",
       "      <th>MD - General Medicine</th>\n",
       "      <th>Diploma in Otorhinolaryngology (DLO)</th>\n",
       "      <th>MD - Homeopathy</th>\n",
       "      <th>city_Bangalore</th>\n",
       "      <th>city_Chennai</th>\n",
       "      <th>city_Coimbatore</th>\n",
       "      <th>city_Delhi</th>\n",
       "      <th>city_Ernakulam</th>\n",
       "      <th>city_Hyderabad</th>\n",
       "      <th>city_Mumbai</th>\n",
       "      <th>city_Thiruvananthapuram</th>\n",
       "      <th>city_Unknown</th>\n",
       "      <th>Profile_Ayurveda</th>\n",
       "      <th>Profile_Dentist</th>\n",
       "      <th>Profile_Dermatologists</th>\n",
       "      <th>Profile_ENT Specialist</th>\n",
       "      <th>Profile_General Medicine</th>\n",
       "      <th>Profile_Homeopath</th>\n",
       "    </tr>\n",
       "  </thead>\n",
       "  <tbody>\n",
       "    <tr>\n",
       "      <th>0</th>\n",
       "      <td>24</td>\n",
       "      <td>10</td>\n",
       "      <td>100% 16 Feedback Kakkanad, Ernakulam</td>\n",
       "      <td>100</td>\n",
       "      <td>Kakkanad</td>\n",
       "      <td>0</td>\n",
       "      <td>0</td>\n",
       "      <td>0</td>\n",
       "      <td>1</td>\n",
       "      <td>0</td>\n",
       "      <td>0</td>\n",
       "      <td>0</td>\n",
       "      <td>0</td>\n",
       "      <td>0</td>\n",
       "      <td>1</td>\n",
       "      <td>0</td>\n",
       "      <td>0</td>\n",
       "      <td>0</td>\n",
       "      <td>0</td>\n",
       "      <td>1</td>\n",
       "      <td>0</td>\n",
       "      <td>0</td>\n",
       "      <td>0</td>\n",
       "      <td>0</td>\n",
       "      <td>0</td>\n",
       "      <td>0</td>\n",
       "      <td>0</td>\n",
       "      <td>0</td>\n",
       "      <td>0</td>\n",
       "      <td>1</td>\n",
       "    </tr>\n",
       "    <tr>\n",
       "      <th>1</th>\n",
       "      <td>12</td>\n",
       "      <td>10</td>\n",
       "      <td>98% 76 Feedback Whitefield, Bangalore</td>\n",
       "      <td>350</td>\n",
       "      <td>Whitefield</td>\n",
       "      <td>0</td>\n",
       "      <td>0</td>\n",
       "      <td>1</td>\n",
       "      <td>0</td>\n",
       "      <td>0</td>\n",
       "      <td>0</td>\n",
       "      <td>0</td>\n",
       "      <td>0</td>\n",
       "      <td>0</td>\n",
       "      <td>0</td>\n",
       "      <td>1</td>\n",
       "      <td>0</td>\n",
       "      <td>0</td>\n",
       "      <td>0</td>\n",
       "      <td>0</td>\n",
       "      <td>0</td>\n",
       "      <td>0</td>\n",
       "      <td>0</td>\n",
       "      <td>0</td>\n",
       "      <td>1</td>\n",
       "      <td>0</td>\n",
       "      <td>0</td>\n",
       "      <td>0</td>\n",
       "      <td>0</td>\n",
       "      <td>0</td>\n",
       "    </tr>\n",
       "    <tr>\n",
       "      <th>2</th>\n",
       "      <td>9</td>\n",
       "      <td>0</td>\n",
       "      <td>NaN</td>\n",
       "      <td>300</td>\n",
       "      <td>Mathikere - BEL</td>\n",
       "      <td>1</td>\n",
       "      <td>0</td>\n",
       "      <td>0</td>\n",
       "      <td>0</td>\n",
       "      <td>0</td>\n",
       "      <td>0</td>\n",
       "      <td>0</td>\n",
       "      <td>0</td>\n",
       "      <td>0</td>\n",
       "      <td>0</td>\n",
       "      <td>1</td>\n",
       "      <td>0</td>\n",
       "      <td>0</td>\n",
       "      <td>0</td>\n",
       "      <td>0</td>\n",
       "      <td>0</td>\n",
       "      <td>0</td>\n",
       "      <td>0</td>\n",
       "      <td>0</td>\n",
       "      <td>0</td>\n",
       "      <td>0</td>\n",
       "      <td>0</td>\n",
       "      <td>1</td>\n",
       "      <td>0</td>\n",
       "      <td>0</td>\n",
       "    </tr>\n",
       "    <tr>\n",
       "      <th>3</th>\n",
       "      <td>12</td>\n",
       "      <td>0</td>\n",
       "      <td>Bannerghatta Road, Bangalore ₹250 Available on...</td>\n",
       "      <td>250</td>\n",
       "      <td>Bannerghatta Road</td>\n",
       "      <td>0</td>\n",
       "      <td>0</td>\n",
       "      <td>1</td>\n",
       "      <td>0</td>\n",
       "      <td>0</td>\n",
       "      <td>0</td>\n",
       "      <td>0</td>\n",
       "      <td>0</td>\n",
       "      <td>0</td>\n",
       "      <td>0</td>\n",
       "      <td>1</td>\n",
       "      <td>0</td>\n",
       "      <td>0</td>\n",
       "      <td>0</td>\n",
       "      <td>0</td>\n",
       "      <td>0</td>\n",
       "      <td>0</td>\n",
       "      <td>0</td>\n",
       "      <td>0</td>\n",
       "      <td>1</td>\n",
       "      <td>0</td>\n",
       "      <td>0</td>\n",
       "      <td>0</td>\n",
       "      <td>0</td>\n",
       "      <td>0</td>\n",
       "    </tr>\n",
       "    <tr>\n",
       "      <th>4</th>\n",
       "      <td>20</td>\n",
       "      <td>10</td>\n",
       "      <td>100% 4 Feedback Keelkattalai, Chennai</td>\n",
       "      <td>250</td>\n",
       "      <td>Keelkattalai</td>\n",
       "      <td>0</td>\n",
       "      <td>0</td>\n",
       "      <td>1</td>\n",
       "      <td>0</td>\n",
       "      <td>0</td>\n",
       "      <td>0</td>\n",
       "      <td>0</td>\n",
       "      <td>0</td>\n",
       "      <td>0</td>\n",
       "      <td>0</td>\n",
       "      <td>0</td>\n",
       "      <td>1</td>\n",
       "      <td>0</td>\n",
       "      <td>0</td>\n",
       "      <td>0</td>\n",
       "      <td>0</td>\n",
       "      <td>0</td>\n",
       "      <td>0</td>\n",
       "      <td>0</td>\n",
       "      <td>1</td>\n",
       "      <td>0</td>\n",
       "      <td>0</td>\n",
       "      <td>0</td>\n",
       "      <td>0</td>\n",
       "      <td>0</td>\n",
       "    </tr>\n",
       "  </tbody>\n",
       "</table>\n",
       "</div>"
      ],
      "text/plain": [
       "   Experience Rating                                 Miscellaneous_Info  Fees  \\\n",
       "0          24     10               100% 16 Feedback Kakkanad, Ernakulam   100   \n",
       "1          12     10              98% 76 Feedback Whitefield, Bangalore   350   \n",
       "2           9      0                                                NaN   300   \n",
       "3          12      0  Bannerghatta Road, Bangalore ₹250 Available on...   250   \n",
       "4          20     10              100% 4 Feedback Keelkattalai, Chennai   250   \n",
       "\n",
       "            locality  MBBS  BDS  BAMS  BHMS  MD - Dermatology  MS - ENT  \\\n",
       "0           Kakkanad     0    0     0     1                 0         0   \n",
       "1         Whitefield     0    0     1     0                 0         0   \n",
       "2    Mathikere - BEL     1    0     0     0                 0         0   \n",
       "3  Bannerghatta Road     0    0     1     0                 0         0   \n",
       "4       Keelkattalai     0    0     1     0                 0         0   \n",
       "\n",
       "   Venereology & Leprosy  MD - General Medicine  \\\n",
       "0                      0                      0   \n",
       "1                      0                      0   \n",
       "2                      0                      0   \n",
       "3                      0                      0   \n",
       "4                      0                      0   \n",
       "\n",
       "   Diploma in Otorhinolaryngology (DLO)  MD - Homeopathy  city_Bangalore  \\\n",
       "0                                     0                1               0   \n",
       "1                                     0                0               1   \n",
       "2                                     0                0               1   \n",
       "3                                     0                0               1   \n",
       "4                                     0                0               0   \n",
       "\n",
       "   city_Chennai  city_Coimbatore  city_Delhi  city_Ernakulam  city_Hyderabad  \\\n",
       "0             0                0           0               1               0   \n",
       "1             0                0           0               0               0   \n",
       "2             0                0           0               0               0   \n",
       "3             0                0           0               0               0   \n",
       "4             1                0           0               0               0   \n",
       "\n",
       "   city_Mumbai  city_Thiruvananthapuram  city_Unknown  Profile_Ayurveda  \\\n",
       "0            0                        0             0                 0   \n",
       "1            0                        0             0                 1   \n",
       "2            0                        0             0                 0   \n",
       "3            0                        0             0                 1   \n",
       "4            0                        0             0                 1   \n",
       "\n",
       "   Profile_Dentist  Profile_Dermatologists  Profile_ENT Specialist  \\\n",
       "0                0                       0                       0   \n",
       "1                0                       0                       0   \n",
       "2                0                       0                       1   \n",
       "3                0                       0                       0   \n",
       "4                0                       0                       0   \n",
       "\n",
       "   Profile_General Medicine  Profile_Homeopath  \n",
       "0                         0                  1  \n",
       "1                         0                  0  \n",
       "2                         0                  0  \n",
       "3                         0                  0  \n",
       "4                         0                  0  "
      ]
     },
     "execution_count": 105,
     "metadata": {},
     "output_type": "execute_result"
    }
   ],
   "source": [
    "train.head()"
   ]
  },
  {
   "cell_type": "markdown",
   "id": "e0649fbc",
   "metadata": {},
   "source": [
    "### Miscellaneous_Info & locality\n",
    "\n",
    "Miscellaneous_Info is to much messy column and it consist the data which we already have like doctor address(city & locality) and Rating\n",
    "locality and city are approximate have same relationship so better to move with only city\n",
    "so drop the Miscellaneous_Info and locality"
   ]
  },
  {
   "cell_type": "code",
   "execution_count": 106,
   "id": "3272e152",
   "metadata": {},
   "outputs": [],
   "source": [
    "train.drop(['Miscellaneous_Info','locality'],axis=1,inplace=True)"
   ]
  },
  {
   "cell_type": "code",
   "execution_count": 107,
   "id": "1c69756c",
   "metadata": {},
   "outputs": [
    {
     "data": {
      "image/png": "[encoded data removed]",
      "text/plain": [
       "<Figure size 720x576 with 1 Axes>"
      ]
     },
     "metadata": {
      "needs_background": "light"
     },
     "output_type": "display_data"
    }
   ],
   "source": [
    "plt.figure(figsize=(10,8))\n",
    "ax = sns.lineplot(x='Experience',y='Fees',data=train)\n",
    "ax.set_title(\"Experience wrt doctor Fees\")\n",
    "plt.show()"
   ]
  },
  {
   "cell_type": "markdown",
   "id": "fef348b1",
   "metadata": {},
   "source": [
    "## Observation:-\n",
    "\n",
    "Hgher the experience is not always refer to higher the consulation fee, most of the time 30 to 40 year of experience having high fees, after this is going down."
   ]
  },
  {
   "cell_type": "code",
   "execution_count": 108,
   "id": "e00b9db9",
   "metadata": {},
   "outputs": [
    {
     "data": {
      "image/png": "[encoded data removed]",
      "text/plain": [
       "<Figure size 576x576 with 1 Axes>"
      ]
     },
     "metadata": {
      "needs_background": "light"
     },
     "output_type": "display_data"
    }
   ],
   "source": [
    "plt.figure(figsize=(8,8))\n",
    "sns.barplot(x='Rating',y='Fees',data=train,palette='magma')\n",
    "plt.title(\"Rating Vs Doctor_Fees\")\n",
    "plt.show()"
   ]
  },
  {
   "cell_type": "markdown",
   "id": "e403f48c",
   "metadata": {},
   "source": [
    "## Observation:-\n"
   ]
  },
  {
   "cell_type": "markdown",
   "id": "54d3e4d3",
   "metadata": {},
   "source": [
    "Rating is interesting column, we have grouped the rating in 10 bins, eg: bin5 will be rating of 40-49%.\n",
    "\n",
    "As, we can see that High rating does not relate to high fees charged(infact low fees can be reason of high rating) and where fees are charged so high, there rating is between 30-60%.\n",
    "\n",
    "The median of experience in bin 4 & 5 is 27 and 31 years respectively. whereas in highest rating of 10th bin the median experience is 14 years"
   ]
  },
  {
   "cell_type": "code",
   "execution_count": 110,
   "id": "6b085fd9",
   "metadata": {},
   "outputs": [
    {
     "data": {
      "text/html": [
       "<div>\n",
       "<style scoped>\n",
       "    .dataframe tbody tr th:only-of-type {\n",
       "        vertical-align: middle;\n",
       "    }\n",
       "\n",
       "    .dataframe tbody tr th {\n",
       "        vertical-align: top;\n",
       "    }\n",
       "\n",
       "    .dataframe thead th {\n",
       "        text-align: right;\n",
       "    }\n",
       "</style>\n",
       "<table border=\"1\" class=\"dataframe\">\n",
       "  <thead>\n",
       "    <tr style=\"text-align: right;\">\n",
       "      <th></th>\n",
       "      <th>Experience</th>\n",
       "      <th>Rating</th>\n",
       "      <th>Fees</th>\n",
       "      <th>MBBS</th>\n",
       "      <th>BDS</th>\n",
       "      <th>BAMS</th>\n",
       "      <th>BHMS</th>\n",
       "      <th>MD - Dermatology</th>\n",
       "      <th>MS - ENT</th>\n",
       "      <th>Venereology &amp; Leprosy</th>\n",
       "      <th>MD - General Medicine</th>\n",
       "      <th>Diploma in Otorhinolaryngology (DLO)</th>\n",
       "      <th>MD - Homeopathy</th>\n",
       "      <th>city_Bangalore</th>\n",
       "      <th>city_Chennai</th>\n",
       "      <th>city_Coimbatore</th>\n",
       "      <th>city_Delhi</th>\n",
       "      <th>city_Ernakulam</th>\n",
       "      <th>city_Hyderabad</th>\n",
       "      <th>city_Mumbai</th>\n",
       "      <th>city_Thiruvananthapuram</th>\n",
       "      <th>city_Unknown</th>\n",
       "      <th>Profile_Ayurveda</th>\n",
       "      <th>Profile_Dentist</th>\n",
       "      <th>Profile_Dermatologists</th>\n",
       "      <th>Profile_ENT Specialist</th>\n",
       "      <th>Profile_General Medicine</th>\n",
       "      <th>Profile_Homeopath</th>\n",
       "    </tr>\n",
       "  </thead>\n",
       "  <tbody>\n",
       "    <tr>\n",
       "      <th>0</th>\n",
       "      <td>24</td>\n",
       "      <td>10</td>\n",
       "      <td>100</td>\n",
       "      <td>0</td>\n",
       "      <td>0</td>\n",
       "      <td>0</td>\n",
       "      <td>1</td>\n",
       "      <td>0</td>\n",
       "      <td>0</td>\n",
       "      <td>0</td>\n",
       "      <td>0</td>\n",
       "      <td>0</td>\n",
       "      <td>1</td>\n",
       "      <td>0</td>\n",
       "      <td>0</td>\n",
       "      <td>0</td>\n",
       "      <td>0</td>\n",
       "      <td>1</td>\n",
       "      <td>0</td>\n",
       "      <td>0</td>\n",
       "      <td>0</td>\n",
       "      <td>0</td>\n",
       "      <td>0</td>\n",
       "      <td>0</td>\n",
       "      <td>0</td>\n",
       "      <td>0</td>\n",
       "      <td>0</td>\n",
       "      <td>1</td>\n",
       "    </tr>\n",
       "    <tr>\n",
       "      <th>1</th>\n",
       "      <td>12</td>\n",
       "      <td>10</td>\n",
       "      <td>350</td>\n",
       "      <td>0</td>\n",
       "      <td>0</td>\n",
       "      <td>1</td>\n",
       "      <td>0</td>\n",
       "      <td>0</td>\n",
       "      <td>0</td>\n",
       "      <td>0</td>\n",
       "      <td>0</td>\n",
       "      <td>0</td>\n",
       "      <td>0</td>\n",
       "      <td>1</td>\n",
       "      <td>0</td>\n",
       "      <td>0</td>\n",
       "      <td>0</td>\n",
       "      <td>0</td>\n",
       "      <td>0</td>\n",
       "      <td>0</td>\n",
       "      <td>0</td>\n",
       "      <td>0</td>\n",
       "      <td>1</td>\n",
       "      <td>0</td>\n",
       "      <td>0</td>\n",
       "      <td>0</td>\n",
       "      <td>0</td>\n",
       "      <td>0</td>\n",
       "    </tr>\n",
       "    <tr>\n",
       "      <th>2</th>\n",
       "      <td>9</td>\n",
       "      <td>0</td>\n",
       "      <td>300</td>\n",
       "      <td>1</td>\n",
       "      <td>0</td>\n",
       "      <td>0</td>\n",
       "      <td>0</td>\n",
       "      <td>0</td>\n",
       "      <td>0</td>\n",
       "      <td>0</td>\n",
       "      <td>0</td>\n",
       "      <td>0</td>\n",
       "      <td>0</td>\n",
       "      <td>1</td>\n",
       "      <td>0</td>\n",
       "      <td>0</td>\n",
       "      <td>0</td>\n",
       "      <td>0</td>\n",
       "      <td>0</td>\n",
       "      <td>0</td>\n",
       "      <td>0</td>\n",
       "      <td>0</td>\n",
       "      <td>0</td>\n",
       "      <td>0</td>\n",
       "      <td>0</td>\n",
       "      <td>1</td>\n",
       "      <td>0</td>\n",
       "      <td>0</td>\n",
       "    </tr>\n",
       "    <tr>\n",
       "      <th>3</th>\n",
       "      <td>12</td>\n",
       "      <td>0</td>\n",
       "      <td>250</td>\n",
       "      <td>0</td>\n",
       "      <td>0</td>\n",
       "      <td>1</td>\n",
       "      <td>0</td>\n",
       "      <td>0</td>\n",
       "      <td>0</td>\n",
       "      <td>0</td>\n",
       "      <td>0</td>\n",
       "      <td>0</td>\n",
       "      <td>0</td>\n",
       "      <td>1</td>\n",
       "      <td>0</td>\n",
       "      <td>0</td>\n",
       "      <td>0</td>\n",
       "      <td>0</td>\n",
       "      <td>0</td>\n",
       "      <td>0</td>\n",
       "      <td>0</td>\n",
       "      <td>0</td>\n",
       "      <td>1</td>\n",
       "      <td>0</td>\n",
       "      <td>0</td>\n",
       "      <td>0</td>\n",
       "      <td>0</td>\n",
       "      <td>0</td>\n",
       "    </tr>\n",
       "    <tr>\n",
       "      <th>4</th>\n",
       "      <td>20</td>\n",
       "      <td>10</td>\n",
       "      <td>250</td>\n",
       "      <td>0</td>\n",
       "      <td>0</td>\n",
       "      <td>1</td>\n",
       "      <td>0</td>\n",
       "      <td>0</td>\n",
       "      <td>0</td>\n",
       "      <td>0</td>\n",
       "      <td>0</td>\n",
       "      <td>0</td>\n",
       "      <td>0</td>\n",
       "      <td>0</td>\n",
       "      <td>1</td>\n",
       "      <td>0</td>\n",
       "      <td>0</td>\n",
       "      <td>0</td>\n",
       "      <td>0</td>\n",
       "      <td>0</td>\n",
       "      <td>0</td>\n",
       "      <td>0</td>\n",
       "      <td>1</td>\n",
       "      <td>0</td>\n",
       "      <td>0</td>\n",
       "      <td>0</td>\n",
       "      <td>0</td>\n",
       "      <td>0</td>\n",
       "    </tr>\n",
       "  </tbody>\n",
       "</table>\n",
       "</div>"
      ],
      "text/plain": [
       "   Experience Rating  Fees  MBBS  BDS  BAMS  BHMS  MD - Dermatology  MS - ENT  \\\n",
       "0          24     10   100     0    0     0     1                 0         0   \n",
       "1          12     10   350     0    0     1     0                 0         0   \n",
       "2           9      0   300     1    0     0     0                 0         0   \n",
       "3          12      0   250     0    0     1     0                 0         0   \n",
       "4          20     10   250     0    0     1     0                 0         0   \n",
       "\n",
       "   Venereology & Leprosy  MD - General Medicine  \\\n",
       "0                      0                      0   \n",
       "1                      0                      0   \n",
       "2                      0                      0   \n",
       "3                      0                      0   \n",
       "4                      0                      0   \n",
       "\n",
       "   Diploma in Otorhinolaryngology (DLO)  MD - Homeopathy  city_Bangalore  \\\n",
       "0                                     0                1               0   \n",
       "1                                     0                0               1   \n",
       "2                                     0                0               1   \n",
       "3                                     0                0               1   \n",
       "4                                     0                0               0   \n",
       "\n",
       "   city_Chennai  city_Coimbatore  city_Delhi  city_Ernakulam  city_Hyderabad  \\\n",
       "0             0                0           0               1               0   \n",
       "1             0                0           0               0               0   \n",
       "2             0                0           0               0               0   \n",
       "3             0                0           0               0               0   \n",
       "4             1                0           0               0               0   \n",
       "\n",
       "   city_Mumbai  city_Thiruvananthapuram  city_Unknown  Profile_Ayurveda  \\\n",
       "0            0                        0             0                 0   \n",
       "1            0                        0             0                 1   \n",
       "2            0                        0             0                 0   \n",
       "3            0                        0             0                 1   \n",
       "4            0                        0             0                 1   \n",
       "\n",
       "   Profile_Dentist  Profile_Dermatologists  Profile_ENT Specialist  \\\n",
       "0                0                       0                       0   \n",
       "1                0                       0                       0   \n",
       "2                0                       0                       1   \n",
       "3                0                       0                       0   \n",
       "4                0                       0                       0   \n",
       "\n",
       "   Profile_General Medicine  Profile_Homeopath  \n",
       "0                         0                  1  \n",
       "1                         0                  0  \n",
       "2                         0                  0  \n",
       "3                         0                  0  \n",
       "4                         0                  0  "
      ]
     },
     "execution_count": 110,
     "metadata": {},
     "output_type": "execute_result"
    }
   ],
   "source": [
    "train.head()"
   ]
  },
  {
   "cell_type": "markdown",
   "id": "2af4fa55",
   "metadata": {},
   "source": [
    "#### TEST DATASET\n",
    "Applying all the abovce changes in test dataset."
   ]
  },
  {
   "cell_type": "code",
   "execution_count": 111,
   "id": "14bac71a",
   "metadata": {},
   "outputs": [],
   "source": [
    "# EXPERIENCE COLUMN\n",
    "test['Experience'] = test['Experience'].str.split().str[0]\n",
    "test['Experience'] = test['Experience'].astype(int)\n",
    "\n",
    "#Place column (Extract city and locality in diff column)\n",
    "test['Place'].fillna('Unknown,Unknown',inplace=True)\n",
    "test['locality'] = test['Place'].str.split(\",\").str[0]\n",
    "test['city'] = test['Place'].str.split(\",\").str[1]\n",
    "#drop place column\n",
    "test.drop('Place',axis=1,inplace=True)\n",
    "\n",
    "#Rating column\n",
    "test['Rating'].fillna('-99%',inplace=True)\n",
    "test['Rating'] = test['Rating'].str.slice(stop=-1).astype(int)\n",
    "# group rating in 10 groups, missing_value to group 0\n",
    "bins = [-99,0,10,20,30,40,50,60,70,80,90,100]\n",
    "labels = [int(i) for i in range(11)]\n",
    "test['Rating'] = pd.cut(test['Rating'], bins=bins, labels=labels, include_lowest=True)"
   ]
  },
  {
   "cell_type": "code",
   "execution_count": 112,
   "id": "40f29dbb",
   "metadata": {},
   "outputs": [],
   "source": [
    "# QUALIFICATION COLUMN\n",
    "# dict of qualification with counts\n",
    "# HERE the top 10 Qual of train and test col should be same so I am imputing the train col to test col\n",
    "data = pd.read_excel('Final_Train.xlsx')\n",
    "data['Qualification'] = data['Qualification'].str.split(\",\")\n",
    "Qualification = {}\n",
    "for x in data['Qualification']:\n",
    "    for each in x:\n",
    "        each = each.strip()\n",
    "        if each in Qualification:\n",
    "            Qualification[each] += 1\n",
    "        else:\n",
    "            Qualification[each] = 1\n",
    "            \n",
    "# finding out the top 10 Qualification\n",
    "most_qual = sorted(Qualification.items(), key=lambda x:x[1], reverse=True)[:10]\n",
    "final_qual = []\n",
    "for qual in most_qual:\n",
    "    final_qual.append(qual[0])\n",
    "\n",
    "#encode the top 10 qualification in test dataset\n",
    "for title in final_qual:\n",
    "    test[title] = 0\n",
    "\n",
    "for x,y in zip(test['Qualification'].values, np.array([i for i in range(len(test))])):\n",
    "    for c in x:\n",
    "        c = c.strip()\n",
    "        if c in final_qual:\n",
    "            test[c][y] = 1\n",
    "            \n",
    "#drop Qualification after getting top 10 qual.\n",
    "test.drop('Qualification',axis=1,inplace=True)\n",
    "\n",
    "\n",
    "#city column\n",
    "test['city'] = test['city'].apply(lambda x: re.sub(' +','',x))\n",
    "\n",
    "#encode city and profile\n",
    "test = pd.get_dummies(test, columns=['city','Profile'], prefix=['city','Profile'])\n",
    "\n",
    "#drop Miscellaneous_Info and locality\n",
    "test.drop(['Miscellaneous_Info','locality'], axis=1, inplace=True)"
   ]
  },
  {
   "cell_type": "code",
   "execution_count": 113,
   "id": "50477415",
   "metadata": {},
   "outputs": [
    {
     "data": {
      "text/html": [
       "<div>\n",
       "<style scoped>\n",
       "    .dataframe tbody tr th:only-of-type {\n",
       "        vertical-align: middle;\n",
       "    }\n",
       "\n",
       "    .dataframe tbody tr th {\n",
       "        vertical-align: top;\n",
       "    }\n",
       "\n",
       "    .dataframe thead th {\n",
       "        text-align: right;\n",
       "    }\n",
       "</style>\n",
       "<table border=\"1\" class=\"dataframe\">\n",
       "  <thead>\n",
       "    <tr style=\"text-align: right;\">\n",
       "      <th></th>\n",
       "      <th>Experience</th>\n",
       "      <th>Rating</th>\n",
       "      <th>MBBS</th>\n",
       "      <th>BDS</th>\n",
       "      <th>BAMS</th>\n",
       "      <th>BHMS</th>\n",
       "      <th>MD - Dermatology</th>\n",
       "      <th>MS - ENT</th>\n",
       "      <th>Venereology &amp; Leprosy</th>\n",
       "      <th>MD - General Medicine</th>\n",
       "      <th>Diploma in Otorhinolaryngology (DLO)</th>\n",
       "      <th>MD - Homeopathy</th>\n",
       "      <th>city_Bangalore</th>\n",
       "      <th>city_Chennai</th>\n",
       "      <th>city_Coimbatore</th>\n",
       "      <th>city_Delhi</th>\n",
       "      <th>city_Ernakulam</th>\n",
       "      <th>city_Hyderabad</th>\n",
       "      <th>city_Mumbai</th>\n",
       "      <th>city_Thiruvananthapuram</th>\n",
       "      <th>city_Unknown</th>\n",
       "      <th>Profile_Ayurveda</th>\n",
       "      <th>Profile_Dentist</th>\n",
       "      <th>Profile_Dermatologists</th>\n",
       "      <th>Profile_ENT Specialist</th>\n",
       "      <th>Profile_General Medicine</th>\n",
       "      <th>Profile_Homeopath</th>\n",
       "    </tr>\n",
       "  </thead>\n",
       "  <tbody>\n",
       "    <tr>\n",
       "      <th>0</th>\n",
       "      <td>35</td>\n",
       "      <td>0</td>\n",
       "      <td>0</td>\n",
       "      <td>0</td>\n",
       "      <td>0</td>\n",
       "      <td>0</td>\n",
       "      <td>0</td>\n",
       "      <td>0</td>\n",
       "      <td>0</td>\n",
       "      <td>0</td>\n",
       "      <td>0</td>\n",
       "      <td>0</td>\n",
       "      <td>0</td>\n",
       "      <td>0</td>\n",
       "      <td>0</td>\n",
       "      <td>0</td>\n",
       "      <td>0</td>\n",
       "      <td>0</td>\n",
       "      <td>1</td>\n",
       "      <td>0</td>\n",
       "      <td>0</td>\n",
       "      <td>0</td>\n",
       "      <td>0</td>\n",
       "      <td>0</td>\n",
       "      <td>0</td>\n",
       "      <td>1</td>\n",
       "      <td>0</td>\n",
       "    </tr>\n",
       "    <tr>\n",
       "      <th>1</th>\n",
       "      <td>31</td>\n",
       "      <td>0</td>\n",
       "      <td>0</td>\n",
       "      <td>0</td>\n",
       "      <td>0</td>\n",
       "      <td>0</td>\n",
       "      <td>0</td>\n",
       "      <td>0</td>\n",
       "      <td>0</td>\n",
       "      <td>0</td>\n",
       "      <td>0</td>\n",
       "      <td>0</td>\n",
       "      <td>0</td>\n",
       "      <td>0</td>\n",
       "      <td>0</td>\n",
       "      <td>0</td>\n",
       "      <td>0</td>\n",
       "      <td>1</td>\n",
       "      <td>0</td>\n",
       "      <td>0</td>\n",
       "      <td>0</td>\n",
       "      <td>0</td>\n",
       "      <td>0</td>\n",
       "      <td>0</td>\n",
       "      <td>1</td>\n",
       "      <td>0</td>\n",
       "      <td>0</td>\n",
       "    </tr>\n",
       "    <tr>\n",
       "      <th>2</th>\n",
       "      <td>40</td>\n",
       "      <td>7</td>\n",
       "      <td>0</td>\n",
       "      <td>0</td>\n",
       "      <td>0</td>\n",
       "      <td>0</td>\n",
       "      <td>0</td>\n",
       "      <td>0</td>\n",
       "      <td>0</td>\n",
       "      <td>0</td>\n",
       "      <td>0</td>\n",
       "      <td>0</td>\n",
       "      <td>0</td>\n",
       "      <td>1</td>\n",
       "      <td>0</td>\n",
       "      <td>0</td>\n",
       "      <td>0</td>\n",
       "      <td>0</td>\n",
       "      <td>0</td>\n",
       "      <td>0</td>\n",
       "      <td>0</td>\n",
       "      <td>0</td>\n",
       "      <td>0</td>\n",
       "      <td>1</td>\n",
       "      <td>0</td>\n",
       "      <td>0</td>\n",
       "      <td>0</td>\n",
       "    </tr>\n",
       "    <tr>\n",
       "      <th>3</th>\n",
       "      <td>0</td>\n",
       "      <td>0</td>\n",
       "      <td>0</td>\n",
       "      <td>0</td>\n",
       "      <td>0</td>\n",
       "      <td>0</td>\n",
       "      <td>0</td>\n",
       "      <td>0</td>\n",
       "      <td>0</td>\n",
       "      <td>0</td>\n",
       "      <td>0</td>\n",
       "      <td>0</td>\n",
       "      <td>0</td>\n",
       "      <td>0</td>\n",
       "      <td>0</td>\n",
       "      <td>1</td>\n",
       "      <td>0</td>\n",
       "      <td>0</td>\n",
       "      <td>0</td>\n",
       "      <td>0</td>\n",
       "      <td>0</td>\n",
       "      <td>1</td>\n",
       "      <td>0</td>\n",
       "      <td>0</td>\n",
       "      <td>0</td>\n",
       "      <td>0</td>\n",
       "      <td>0</td>\n",
       "    </tr>\n",
       "    <tr>\n",
       "      <th>4</th>\n",
       "      <td>16</td>\n",
       "      <td>10</td>\n",
       "      <td>0</td>\n",
       "      <td>0</td>\n",
       "      <td>0</td>\n",
       "      <td>0</td>\n",
       "      <td>0</td>\n",
       "      <td>0</td>\n",
       "      <td>0</td>\n",
       "      <td>0</td>\n",
       "      <td>0</td>\n",
       "      <td>0</td>\n",
       "      <td>1</td>\n",
       "      <td>0</td>\n",
       "      <td>0</td>\n",
       "      <td>0</td>\n",
       "      <td>0</td>\n",
       "      <td>0</td>\n",
       "      <td>0</td>\n",
       "      <td>0</td>\n",
       "      <td>0</td>\n",
       "      <td>0</td>\n",
       "      <td>1</td>\n",
       "      <td>0</td>\n",
       "      <td>0</td>\n",
       "      <td>0</td>\n",
       "      <td>0</td>\n",
       "    </tr>\n",
       "  </tbody>\n",
       "</table>\n",
       "</div>"
      ],
      "text/plain": [
       "   Experience Rating  MBBS  BDS  BAMS  BHMS  MD - Dermatology  MS - ENT  \\\n",
       "0          35      0     0    0     0     0                 0         0   \n",
       "1          31      0     0    0     0     0                 0         0   \n",
       "2          40      7     0    0     0     0                 0         0   \n",
       "3           0      0     0    0     0     0                 0         0   \n",
       "4          16     10     0    0     0     0                 0         0   \n",
       "\n",
       "   Venereology & Leprosy  MD - General Medicine  \\\n",
       "0                      0                      0   \n",
       "1                      0                      0   \n",
       "2                      0                      0   \n",
       "3                      0                      0   \n",
       "4                      0                      0   \n",
       "\n",
       "   Diploma in Otorhinolaryngology (DLO)  MD - Homeopathy  city_Bangalore  \\\n",
       "0                                     0                0               0   \n",
       "1                                     0                0               0   \n",
       "2                                     0                0               0   \n",
       "3                                     0                0               0   \n",
       "4                                     0                0               1   \n",
       "\n",
       "   city_Chennai  city_Coimbatore  city_Delhi  city_Ernakulam  city_Hyderabad  \\\n",
       "0             0                0           0               0               0   \n",
       "1             0                0           0               0               1   \n",
       "2             1                0           0               0               0   \n",
       "3             0                0           1               0               0   \n",
       "4             0                0           0               0               0   \n",
       "\n",
       "   city_Mumbai  city_Thiruvananthapuram  city_Unknown  Profile_Ayurveda  \\\n",
       "0            1                        0             0                 0   \n",
       "1            0                        0             0                 0   \n",
       "2            0                        0             0                 0   \n",
       "3            0                        0             0                 1   \n",
       "4            0                        0             0                 0   \n",
       "\n",
       "   Profile_Dentist  Profile_Dermatologists  Profile_ENT Specialist  \\\n",
       "0                0                       0                       0   \n",
       "1                0                       0                       1   \n",
       "2                0                       1                       0   \n",
       "3                0                       0                       0   \n",
       "4                1                       0                       0   \n",
       "\n",
       "   Profile_General Medicine  Profile_Homeopath  \n",
       "0                         1                  0  \n",
       "1                         0                  0  \n",
       "2                         0                  0  \n",
       "3                         0                  0  \n",
       "4                         0                  0  "
      ]
     },
     "execution_count": 113,
     "metadata": {},
     "output_type": "execute_result"
    }
   ],
   "source": [
    "test.head()"
   ]
  },
  {
   "cell_type": "markdown",
   "id": "26bb625e",
   "metadata": {},
   "source": [
    "##  Split Data in x and y"
   ]
  },
  {
   "cell_type": "code",
   "execution_count": 114,
   "id": "b2fb91de",
   "metadata": {},
   "outputs": [],
   "source": [
    "x = train.drop('Fees',axis=1)\n",
    "y = train['Fees']"
   ]
  },
  {
   "cell_type": "markdown",
   "id": "13ded38c",
   "metadata": {},
   "source": [
    "Feature Scalling\n",
    "\n",
    "StandardScaler xbar = x - mean(x) / std(x)"
   ]
  },
  {
   "cell_type": "code",
   "execution_count": 115,
   "id": "18976d9a",
   "metadata": {},
   "outputs": [],
   "source": [
    "from sklearn.preprocessing import StandardScaler\n",
    "stdsc = StandardScaler()\n",
    "x = stdsc.fit_transform(x)"
   ]
  },
  {
   "cell_type": "code",
   "execution_count": 116,
   "id": "5f8986b3",
   "metadata": {},
   "outputs": [],
   "source": [
    "# train-test split\n",
    "from sklearn.model_selection import train_test_split\n",
    "\n",
    "x_train, x_test, y_train, y_test = train_test_split(x,y,test_size=0.2,random_state=0)"
   ]
  },
  {
   "cell_type": "markdown",
   "id": "ade4924a",
   "metadata": {},
   "source": [
    "### Model Building"
   ]
  },
  {
   "cell_type": "code",
   "execution_count": 117,
   "id": "5ec321a4",
   "metadata": {},
   "outputs": [],
   "source": [
    "from sklearn.neighbors import KNeighborsRegressor\n",
    "from sklearn.svm import SVR\n",
    "from sklearn.tree import DecisionTreeRegressor\n",
    "from sklearn.ensemble import RandomForestRegressor\n",
    "from sklearn.linear_model import Lasso,Ridge\n",
    "\n",
    "# to use RMSLE we will create our own scorer\n",
    "from sklearn.metrics import make_scorer"
   ]
  },
  {
   "cell_type": "code",
   "execution_count": 118,
   "id": "3e5d2107",
   "metadata": {},
   "outputs": [],
   "source": [
    "# calculate RMSLE.\n",
    "def score(y_pred,y):\n",
    "    y_pred = np.log(y_pred)\n",
    "    y = np.log(y)\n",
    "    return 1 - ((np.sum((y_pred-y)**2))/len(y))**1/2    # 1-RMSLE\n",
    "\n",
    "# make our own scorer\n",
    "scorer = make_scorer(score,greater_is_better=True, needs_proba=False)"
   ]
  },
  {
   "cell_type": "code",
   "execution_count": 136,
   "id": "47b6858b",
   "metadata": {},
   "outputs": [],
   "source": [
    "knn_reg = KNeighborsRegressor()\n",
    "svm_reg = SVR(gamma='scale')\n",
    "dt_reg = DecisionTreeRegressor()\n",
    "rf_reg = RandomForestRegressor()\n",
    "rd = Ridge()\n",
    "ls = Lasso()"
   ]
  },
  {
   "cell_type": "code",
   "execution_count": 137,
   "id": "7c20482a",
   "metadata": {},
   "outputs": [
    {
     "name": "stdout",
     "output_type": "stream",
     "text": [
      "KNeighborsRegressor() 0.7755569355828301\n",
      "SVR() 0.7942077126478044\n",
      "DecisionTreeRegressor() 0.6701626271360062\n",
      "RandomForestRegressor() 0.7651919662330846\n",
      "Ridge() 0.7895504899133253\n",
      "Lasso() 0.789143689137196\n"
     ]
    }
   ],
   "source": [
    "# Training and testing\n",
    "for reg in (knn_reg, svm_reg, dt_reg, rf_reg,rd,ls):\n",
    "    reg.fit(x_train, y_train)\n",
    "    \n",
    "    y_pred = reg.predict(x_test)\n",
    "    \n",
    "    print(reg, score(y_pred,y_test))"
   ]
  },
  {
   "cell_type": "markdown",
   "id": "c7880b5f",
   "metadata": {},
   "source": [
    "### Cross Validation"
   ]
  },
  {
   "cell_type": "code",
   "execution_count": 142,
   "id": "24555f46",
   "metadata": {},
   "outputs": [
    {
     "name": "stdout",
     "output_type": "stream",
     "text": [
      "Score of KNeighborsRegressor() is 0.7686417391734433\n",
      "Score of SVR() is 0.7944627988621985\n",
      "Score of DecisionTreeRegressor() is 0.6877539291619066\n",
      "Score of RandomForestRegressor() is 0.7646366337822404\n",
      "Score of Ridge() is 0.7883347655048475\n",
      "Score of Lasso() is 0.7882776829443433\n"
     ]
    }
   ],
   "source": [
    "from sklearn.model_selection import cross_val_score\n",
    "for reg in (knn_reg, svm_reg, dt_reg, rf_reg,rd,ls):\n",
    "    scores = cross_val_score(reg, x, y, cv=5, scoring=scorer)\n",
    "    print(\"Score of {} is {}\".format(reg, scores.mean()))"
   ]
  },
  {
   "attachments": {
    "image-2.png": {
     "image/png": "[encoded data removed]"
    }
   },
   "cell_type": "markdown",
   "id": "3c4b9a55",
   "metadata": {},
   "source": [
    "### Minimum difference in cross val and Score is coming for SVR and Lasso Regression model.\n",
    "![image-2.png](attachment:image-2.png)"
   ]
  },
  {
   "cell_type": "markdown",
   "id": "48565bb9",
   "metadata": {},
   "source": [
    "### HyperParameter Tuning SVR Model"
   ]
  },
  {
   "cell_type": "code",
   "execution_count": 121,
   "id": "85329adb",
   "metadata": {},
   "outputs": [],
   "source": [
    "from sklearn.model_selection import GridSearchCV\n",
    "#from sklearn.model_selection import RandomizedSearchCV"
   ]
  },
  {
   "cell_type": "code",
   "execution_count": 122,
   "id": "6bb670b4",
   "metadata": {},
   "outputs": [
    {
     "name": "stdout",
     "output_type": "stream",
     "text": [
      "Fitting 5 folds for each of 18 candidates, totalling 90 fits\n",
      "best_score: 0.8056521524720275\n",
      "best_params:\n",
      " {'C': 10, 'gamma': 'auto', 'kernel': 'rbf'}\n"
     ]
    }
   ],
   "source": [
    "grid = dict(C=[0.1,1,10], kernel=['linear','poly','rbf'], gamma=['scale','auto'])\n",
    "gridsearch = GridSearchCV(svm_reg, param_grid=grid, cv=5, scoring=scorer, verbose=1, n_jobs=-1)\n",
    "gridsearch.fit(x_train,y_train)\n",
    "print(\"best_score:\",gridsearch.best_score_)\n",
    "print(\"best_params:\\n\",gridsearch.best_params_)"
   ]
  },
  {
   "cell_type": "code",
   "execution_count": 123,
   "id": "363929c3",
   "metadata": {},
   "outputs": [
    {
     "name": "stdout",
     "output_type": "stream",
     "text": [
      "1-RMSLE: 0.804639194678942\n"
     ]
    }
   ],
   "source": [
    "# predict the test data from it and see the result\n",
    "\n",
    "predictions = gridsearch.predict(x_test)\n",
    "\n",
    "print(\"1-RMSLE:\",score(predictions, y_test))"
   ]
  },
  {
   "cell_type": "markdown",
   "id": "4c429fd3",
   "metadata": {},
   "source": [
    "### Hyper parameter tuning improved result ."
   ]
  },
  {
   "cell_type": "markdown",
   "id": "eb84a2b7",
   "metadata": {},
   "source": [
    "# Saving Model with Best paramters."
   ]
  },
  {
   "cell_type": "code",
   "execution_count": 143,
   "id": "11876934",
   "metadata": {},
   "outputs": [
    {
     "data": {
      "text/plain": [
       "['Doctor_fee_predict.pki']"
      ]
     },
     "execution_count": 143,
     "metadata": {},
     "output_type": "execute_result"
    }
   ],
   "source": [
    "import joblib \n",
    "svm = SVR(C=10,gamma='auto',kernel='rbf')\n",
    "svm.fit(x_train, y_train)\n",
    "joblib.dump(svm,'Doctor_fee_predict.pki')"
   ]
  },
  {
   "cell_type": "code",
   "execution_count": 144,
   "id": "7b0e7c99",
   "metadata": {},
   "outputs": [],
   "source": [
    "model = joblib.load('Doctor_fee_predict.pki')    #load model to predict test data."
   ]
  },
  {
   "cell_type": "code",
   "execution_count": 145,
   "id": "a65240de",
   "metadata": {},
   "outputs": [],
   "source": [
    "prediction = model.predict(test)"
   ]
  },
  {
   "cell_type": "code",
   "execution_count": 146,
   "id": "4ac2001e",
   "metadata": {},
   "outputs": [],
   "source": [
    "ds_pred = pd.DataFrame(prediction)  # Save predicted value in dataframe"
   ]
  },
  {
   "cell_type": "code",
   "execution_count": 147,
   "id": "a9cce999",
   "metadata": {},
   "outputs": [
    {
     "data": {
      "text/html": [
       "<div>\n",
       "<style scoped>\n",
       "    .dataframe tbody tr th:only-of-type {\n",
       "        vertical-align: middle;\n",
       "    }\n",
       "\n",
       "    .dataframe tbody tr th {\n",
       "        vertical-align: top;\n",
       "    }\n",
       "\n",
       "    .dataframe thead th {\n",
       "        text-align: right;\n",
       "    }\n",
       "</style>\n",
       "<table border=\"1\" class=\"dataframe\">\n",
       "  <thead>\n",
       "    <tr style=\"text-align: right;\">\n",
       "      <th></th>\n",
       "      <th>0</th>\n",
       "    </tr>\n",
       "  </thead>\n",
       "  <tbody>\n",
       "    <tr>\n",
       "      <th>0</th>\n",
       "      <td>228.819256</td>\n",
       "    </tr>\n",
       "    <tr>\n",
       "      <th>1</th>\n",
       "      <td>228.819256</td>\n",
       "    </tr>\n",
       "    <tr>\n",
       "      <th>2</th>\n",
       "      <td>228.819256</td>\n",
       "    </tr>\n",
       "    <tr>\n",
       "      <th>3</th>\n",
       "      <td>354.516211</td>\n",
       "    </tr>\n",
       "    <tr>\n",
       "      <th>4</th>\n",
       "      <td>228.817959</td>\n",
       "    </tr>\n",
       "    <tr>\n",
       "      <th>...</th>\n",
       "      <td>...</td>\n",
       "    </tr>\n",
       "    <tr>\n",
       "      <th>1982</th>\n",
       "      <td>216.578055</td>\n",
       "    </tr>\n",
       "    <tr>\n",
       "      <th>1983</th>\n",
       "      <td>249.615713</td>\n",
       "    </tr>\n",
       "    <tr>\n",
       "      <th>1984</th>\n",
       "      <td>206.880319</td>\n",
       "    </tr>\n",
       "    <tr>\n",
       "      <th>1985</th>\n",
       "      <td>228.848144</td>\n",
       "    </tr>\n",
       "    <tr>\n",
       "      <th>1986</th>\n",
       "      <td>208.064571</td>\n",
       "    </tr>\n",
       "  </tbody>\n",
       "</table>\n",
       "<p>1987 rows × 1 columns</p>\n",
       "</div>"
      ],
      "text/plain": [
       "               0\n",
       "0     228.819256\n",
       "1     228.819256\n",
       "2     228.819256\n",
       "3     354.516211\n",
       "4     228.817959\n",
       "...          ...\n",
       "1982  216.578055\n",
       "1983  249.615713\n",
       "1984  206.880319\n",
       "1985  228.848144\n",
       "1986  208.064571\n",
       "\n",
       "[1987 rows x 1 columns]"
      ]
     },
     "execution_count": 147,
     "metadata": {},
     "output_type": "execute_result"
    }
   ],
   "source": [
    "ds_pred"
   ]
  },
  {
   "cell_type": "markdown",
   "id": "f4ceb564",
   "metadata": {},
   "source": [
    "### Values coming in fload and not in multiplier of 50, we have to round off this value to get correct fees of a doctors."
   ]
  },
  {
   "cell_type": "code",
   "execution_count": 148,
   "id": "d027d360",
   "metadata": {},
   "outputs": [],
   "source": [
    "def rounding(x):\n",
    "  m=(x//50)*50\n",
    "  if m==x:\n",
    "    return int(x/1.0)\n",
    "  elif x-m>=25.0:\n",
    "    return int((m+50)/1.0)\n",
    "  else:\n",
    "    return int(m/1.0)"
   ]
  },
  {
   "cell_type": "code",
   "execution_count": 153,
   "id": "690bb46a",
   "metadata": {},
   "outputs": [
    {
     "name": "stdout",
     "output_type": "stream",
     "text": [
      "   id  Fees\n",
      "0   1   250\n",
      "1   2   250\n",
      "2   3   250\n",
      "3   4   350\n",
      "4   5   250\n"
     ]
    }
   ],
   "source": [
    "predicted_fee=[]\n",
    "for i in range(len(prediction)):\n",
    "predicted_fee.append(rounding(prediction[i]))\n",
    "predicted_fee=pd.DataFrame({'id':np.arange(1,len(predicted_fee)+1,1),'Fees':predicted_fee})\n",
    "print(predicted_fee.head())"
   ]
  },
  {
   "cell_type": "code",
   "execution_count": 154,
   "id": "c890c8da",
   "metadata": {},
   "outputs": [
    {
     "data": {
      "text/html": [
       "<div>\n",
       "<style scoped>\n",
       "    .dataframe tbody tr th:only-of-type {\n",
       "        vertical-align: middle;\n",
       "    }\n",
       "\n",
       "    .dataframe tbody tr th {\n",
       "        vertical-align: top;\n",
       "    }\n",
       "\n",
       "    .dataframe thead th {\n",
       "        text-align: right;\n",
       "    }\n",
       "</style>\n",
       "<table border=\"1\" class=\"dataframe\">\n",
       "  <thead>\n",
       "    <tr style=\"text-align: right;\">\n",
       "      <th></th>\n",
       "      <th>id</th>\n",
       "      <th>Fees</th>\n",
       "    </tr>\n",
       "  </thead>\n",
       "  <tbody>\n",
       "    <tr>\n",
       "      <th>0</th>\n",
       "      <td>1</td>\n",
       "      <td>250</td>\n",
       "    </tr>\n",
       "    <tr>\n",
       "      <th>1</th>\n",
       "      <td>2</td>\n",
       "      <td>250</td>\n",
       "    </tr>\n",
       "    <tr>\n",
       "      <th>2</th>\n",
       "      <td>3</td>\n",
       "      <td>250</td>\n",
       "    </tr>\n",
       "    <tr>\n",
       "      <th>3</th>\n",
       "      <td>4</td>\n",
       "      <td>350</td>\n",
       "    </tr>\n",
       "    <tr>\n",
       "      <th>4</th>\n",
       "      <td>5</td>\n",
       "      <td>250</td>\n",
       "    </tr>\n",
       "    <tr>\n",
       "      <th>...</th>\n",
       "      <td>...</td>\n",
       "      <td>...</td>\n",
       "    </tr>\n",
       "    <tr>\n",
       "      <th>1982</th>\n",
       "      <td>1983</td>\n",
       "      <td>200</td>\n",
       "    </tr>\n",
       "    <tr>\n",
       "      <th>1983</th>\n",
       "      <td>1984</td>\n",
       "      <td>250</td>\n",
       "    </tr>\n",
       "    <tr>\n",
       "      <th>1984</th>\n",
       "      <td>1985</td>\n",
       "      <td>200</td>\n",
       "    </tr>\n",
       "    <tr>\n",
       "      <th>1985</th>\n",
       "      <td>1986</td>\n",
       "      <td>250</td>\n",
       "    </tr>\n",
       "    <tr>\n",
       "      <th>1986</th>\n",
       "      <td>1987</td>\n",
       "      <td>200</td>\n",
       "    </tr>\n",
       "  </tbody>\n",
       "</table>\n",
       "<p>1987 rows × 2 columns</p>\n",
       "</div>"
      ],
      "text/plain": [
       "        id  Fees\n",
       "0        1   250\n",
       "1        2   250\n",
       "2        3   250\n",
       "3        4   350\n",
       "4        5   250\n",
       "...    ...   ...\n",
       "1982  1983   200\n",
       "1983  1984   250\n",
       "1984  1985   200\n",
       "1985  1986   250\n",
       "1986  1987   200\n",
       "\n",
       "[1987 rows x 2 columns]"
      ]
     },
     "execution_count": 154,
     "metadata": {},
     "output_type": "execute_result"
    }
   ],
   "source": [
    "predicted_fee"
   ]
  },
  {
   "cell_type": "code",
   "execution_count": 156,
   "id": "16b44bec",
   "metadata": {},
   "outputs": [],
   "source": [
    "predicted_fee.to_csv('doctors_predicted_fee.csv')"
   ]
  },
  {
   "cell_type": "markdown",
   "id": "d01294c8",
   "metadata": {},
   "source": [
    "### Now We have all the values in multiplier of 50, we have save this prediction in CSV."
   ]
  },
  {
   "cell_type": "code",
   "execution_count": null,
   "id": "c146b1cb",
   "metadata": {},
   "outputs": [],
   "source": []
  }
 ],
 "metadata": {
  "kernelspec": {
   "display_name": "Python 3",
   "language": "python",
   "name": "python3"
  },
  "language_info": {
   "codemirror_mode": {
    "name": "ipython",
    "version": 3
   },
   "file_extension": ".py",
   "mimetype": "text/x-python",
   "name": "python",
   "nbconvert_exporter": "python",
   "pygments_lexer": "ipython3",
   "version": "3.8.8"
  }
 },
 "nbformat": 4,
 "nbformat_minor": 5
}
