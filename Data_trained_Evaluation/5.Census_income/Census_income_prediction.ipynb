{
 "cells": [
  {
   "cell_type": "markdown",
   "id": "0a08e38c",
   "metadata": {},
   "source": [
    "# Introduction\n",
    "\n",
    "    The US Adult Census dataset is a repository of 48,842 entries extracted from the 1994 US\n",
    "    Census database.\n",
    "    \n",
    "    In our first section, we explore the data at face value in order to understand the trends and\n",
    "    representations of certain demographics in the corpus. We then use this information in section\n",
    "    two to form models to predict whether an individual made more or less than 50K in 1994.\n",
    "\n",
    "    In the third section, we look into a couple papers written on the dataset to find out what\n",
    "    methods they are using to gain insight on the same data. Finally, in the fourth section, we\n",
    "    compare our models as well as that of others in order to find out what features are of\n",
    "    significance, what methods are most effective, and gain an understanding of some of the\n",
    "    intuition behind the numbers.\n",
    "    \n",
    "# Dataset \n",
    "\n",
    "    The Census Income dataset has 48,842 entries. Each entry contains the following information\n",
    "    about an individual:\n",
    "    ● Age: the age of an individual\n",
    "            ○ Integer greater than 0\n",
    "    ● Workclass: a general term to represent the employment status of an individual\n",
    "                 Private, Self_emp_not_inc, Self_emp_inc, Federal_gov, Local_gov, State_gov,\n",
    "                    Without_pay, Never_worked.\n",
    "    ● Fnlwgt: final weight. In other words, this is the number of people the census believes\n",
    "              the entry represents.. Integer greater than 0\n",
    "    ● Education: the highest level of education achieved by an individual.Bachelors, \n",
    "                 Some_college, 11th, HS_grad, Prof_school, Assoc_acdm, Assoc_voc,9th, 7th_8th, 12th,\n",
    "                 Masters,1st-4th, 10th, Doctorate, 5th-6th, Preschool.\n",
    "    ● Education_num: the highest level of education achieved in numerical form.\n",
    "                     Integer greater than 0\n",
    "    ● Marital_status:marital status of an individual. Married_civ_spouse corresponds to a\n",
    "                      civilian spouse while Married_AF_spouse is a spouse in the Armed Forces.\n",
    "                       Married_civ_spouse, Divorced, Never_married, Separated, Widowed, Married_spouse_absent, \n",
    "                       Married_AF_spouse.\n",
    "    ● Occupation:the general type of occupation of an individual , Tech_support, Craft_repair, Other_service, Sales,   \n",
    "                  Exec_managerial, Prof_specialty, Handlers_cleaners, Machine_op_inspct, Adm_clerical, Farming_fishing, \n",
    "                  Transport_moving, Priv_house_serv, Protective_serv, Armed_Forces.\n",
    "    ● Relationship:represents what this individual is relative to others. For example an individual could be a Husband. \n",
    "                    Each entry only has one relationship attribute and is\n",
    "                    somewhat redundant with marital status. We might not make use of this attribute at all Wife, Own_hild, \n",
    "                    Husband, Not_in_family, Other_relative, Unmarried.\n",
    "    ● Race: Descriptions of an individual’s race --> White, Asian_Pac_Islander, Amer_Indian_Eskimo, Other, Black.\n",
    "    ● Sex: the biological sex of the individual\n",
    "           Male, Female\n",
    "    ● Capital_gain:capital gains for an individual\n",
    "                   Integer greater than or equal to 0\n",
    "    ● Capital_loss: capital loss for an individual\n",
    "                    Integer greater than or equal to 0\n",
    "    ● Hours_per_week: the hours an individual has reported to work per week\n",
    "                      continuous.\n",
    "    ● Native_country: country of origin for an individual\n",
    "                      United_States, Cambodia, England, Puerto_Rico, Canada, Germany, Outlying_US(Guam_USVI etc), India, \n",
    "                      Japan,Greece, South, China, Cuba, Iran, Honduras, Philippines, Italy, Poland, Jamaica, Vietnam, \n",
    "                      Mexico,Portugal,Ireland, France, Dominican_Republic, Laos, Ecuador, Taiwan, \n",
    "                      Haiti, Columbia, Hungary, Guatemala,Nicaragua, Scotland, Thailand, Yugoslavia, \n",
    "                      El_Salvador,Trinadad&Tobago, Peru, Hong, Holand Netherlands.\n",
    "    ● Income: whether or not an individual makes more than $50,000 annually.\n",
    "              <=50k, >50k"
   ]
  },
  {
   "cell_type": "code",
   "execution_count": 93,
   "id": "099ef738",
   "metadata": {},
   "outputs": [],
   "source": [
    "import numpy as np\n",
    "import pandas as pd\n",
    "import seaborn as sns\n",
    "import matplotlib.pyplot as plt\n",
    "from sklearn.decomposition import PCA\n",
    "from sklearn.linear_model import LogisticRegression\n",
    "from sklearn.naive_bayes import MultinomialNB, GaussianNB\n",
    "from sklearn.svm import SVC\n",
    "from sklearn.tree import DecisionTreeClassifier\n",
    "from sklearn.ensemble import RandomForestClassifier\n",
    "from sklearn.model_selection import train_test_split\n",
    "from sklearn.metrics import accuracy_score, confusion_matrix,classification_report,f1_score\n",
    "import warnings \n",
    "warnings.filterwarnings('ignore')\n",
    "\n",
    "#pd.set_option('display.max_rows',60000)"
   ]
  },
  {
   "cell_type": "code",
   "execution_count": 94,
   "id": "7207a40f",
   "metadata": {},
   "outputs": [],
   "source": [
    "df = pd.read_csv(\"census_income.csv\")"
   ]
  },
  {
   "cell_type": "code",
   "execution_count": 95,
   "id": "a32b9849",
   "metadata": {},
   "outputs": [
    {
     "data": {
      "text/html": [
       "<div>\n",
       "<style scoped>\n",
       "    .dataframe tbody tr th:only-of-type {\n",
       "        vertical-align: middle;\n",
       "    }\n",
       "\n",
       "    .dataframe tbody tr th {\n",
       "        vertical-align: top;\n",
       "    }\n",
       "\n",
       "    .dataframe thead th {\n",
       "        text-align: right;\n",
       "    }\n",
       "</style>\n",
       "<table border=\"1\" class=\"dataframe\">\n",
       "  <thead>\n",
       "    <tr style=\"text-align: right;\">\n",
       "      <th></th>\n",
       "      <th>Age</th>\n",
       "      <th>Workclass</th>\n",
       "      <th>Fnlwgt</th>\n",
       "      <th>Education</th>\n",
       "      <th>Education_num</th>\n",
       "      <th>Marital_status</th>\n",
       "      <th>Occupation</th>\n",
       "      <th>Relationship</th>\n",
       "      <th>Race</th>\n",
       "      <th>Sex</th>\n",
       "      <th>Capital_gain</th>\n",
       "      <th>Capital_loss</th>\n",
       "      <th>Hours_per_week</th>\n",
       "      <th>Native_country</th>\n",
       "      <th>Income</th>\n",
       "    </tr>\n",
       "  </thead>\n",
       "  <tbody>\n",
       "    <tr>\n",
       "      <th>0</th>\n",
       "      <td>50</td>\n",
       "      <td>Self-emp-not-inc</td>\n",
       "      <td>83311</td>\n",
       "      <td>Bachelors</td>\n",
       "      <td>13</td>\n",
       "      <td>Married-civ-spouse</td>\n",
       "      <td>Exec-managerial</td>\n",
       "      <td>Husband</td>\n",
       "      <td>White</td>\n",
       "      <td>Male</td>\n",
       "      <td>0</td>\n",
       "      <td>0</td>\n",
       "      <td>13</td>\n",
       "      <td>United-States</td>\n",
       "      <td>&lt;=50K</td>\n",
       "    </tr>\n",
       "    <tr>\n",
       "      <th>1</th>\n",
       "      <td>38</td>\n",
       "      <td>Private</td>\n",
       "      <td>215646</td>\n",
       "      <td>HS-grad</td>\n",
       "      <td>9</td>\n",
       "      <td>Divorced</td>\n",
       "      <td>Handlers-cleaners</td>\n",
       "      <td>Not-in-family</td>\n",
       "      <td>White</td>\n",
       "      <td>Male</td>\n",
       "      <td>0</td>\n",
       "      <td>0</td>\n",
       "      <td>40</td>\n",
       "      <td>United-States</td>\n",
       "      <td>&lt;=50K</td>\n",
       "    </tr>\n",
       "    <tr>\n",
       "      <th>2</th>\n",
       "      <td>53</td>\n",
       "      <td>Private</td>\n",
       "      <td>234721</td>\n",
       "      <td>11th</td>\n",
       "      <td>7</td>\n",
       "      <td>Married-civ-spouse</td>\n",
       "      <td>Handlers-cleaners</td>\n",
       "      <td>Husband</td>\n",
       "      <td>Black</td>\n",
       "      <td>Male</td>\n",
       "      <td>0</td>\n",
       "      <td>0</td>\n",
       "      <td>40</td>\n",
       "      <td>United-States</td>\n",
       "      <td>&lt;=50K</td>\n",
       "    </tr>\n",
       "    <tr>\n",
       "      <th>3</th>\n",
       "      <td>28</td>\n",
       "      <td>Private</td>\n",
       "      <td>338409</td>\n",
       "      <td>Bachelors</td>\n",
       "      <td>13</td>\n",
       "      <td>Married-civ-spouse</td>\n",
       "      <td>Prof-specialty</td>\n",
       "      <td>Wife</td>\n",
       "      <td>Black</td>\n",
       "      <td>Female</td>\n",
       "      <td>0</td>\n",
       "      <td>0</td>\n",
       "      <td>40</td>\n",
       "      <td>Cuba</td>\n",
       "      <td>&lt;=50K</td>\n",
       "    </tr>\n",
       "    <tr>\n",
       "      <th>4</th>\n",
       "      <td>37</td>\n",
       "      <td>Private</td>\n",
       "      <td>284582</td>\n",
       "      <td>Masters</td>\n",
       "      <td>14</td>\n",
       "      <td>Married-civ-spouse</td>\n",
       "      <td>Exec-managerial</td>\n",
       "      <td>Wife</td>\n",
       "      <td>White</td>\n",
       "      <td>Female</td>\n",
       "      <td>0</td>\n",
       "      <td>0</td>\n",
       "      <td>40</td>\n",
       "      <td>United-States</td>\n",
       "      <td>&lt;=50K</td>\n",
       "    </tr>\n",
       "  </tbody>\n",
       "</table>\n",
       "</div>"
      ],
      "text/plain": [
       "   Age          Workclass  Fnlwgt   Education  Education_num  \\\n",
       "0   50   Self-emp-not-inc   83311   Bachelors             13   \n",
       "1   38            Private  215646     HS-grad              9   \n",
       "2   53            Private  234721        11th              7   \n",
       "3   28            Private  338409   Bachelors             13   \n",
       "4   37            Private  284582     Masters             14   \n",
       "\n",
       "        Marital_status          Occupation    Relationship    Race      Sex  \\\n",
       "0   Married-civ-spouse     Exec-managerial         Husband   White     Male   \n",
       "1             Divorced   Handlers-cleaners   Not-in-family   White     Male   \n",
       "2   Married-civ-spouse   Handlers-cleaners         Husband   Black     Male   \n",
       "3   Married-civ-spouse      Prof-specialty            Wife   Black   Female   \n",
       "4   Married-civ-spouse     Exec-managerial            Wife   White   Female   \n",
       "\n",
       "   Capital_gain  Capital_loss  Hours_per_week  Native_country  Income  \n",
       "0             0             0              13   United-States   <=50K  \n",
       "1             0             0              40   United-States   <=50K  \n",
       "2             0             0              40   United-States   <=50K  \n",
       "3             0             0              40            Cuba   <=50K  \n",
       "4             0             0              40   United-States   <=50K  "
      ]
     },
     "execution_count": 95,
     "metadata": {},
     "output_type": "execute_result"
    }
   ],
   "source": [
    "df.head()"
   ]
  },
  {
   "cell_type": "code",
   "execution_count": 96,
   "id": "23cac74b",
   "metadata": {},
   "outputs": [
    {
     "data": {
      "text/plain": [
       "(32560, 15)"
      ]
     },
     "execution_count": 96,
     "metadata": {},
     "output_type": "execute_result"
    }
   ],
   "source": [
    "df.shape"
   ]
  },
  {
   "cell_type": "markdown",
   "id": "e309e9e0",
   "metadata": {},
   "source": [
    "### Observation:-\n",
    "1. There are 15 variable in this data set, Income is Target variable, we will convert this object/string type data into categorical data(0 for <=50k and 1 for >50).\n"
   ]
  },
  {
   "cell_type": "code",
   "execution_count": 97,
   "id": "61e8bbe9",
   "metadata": {},
   "outputs": [
    {
     "name": "stdout",
     "output_type": "stream",
     "text": [
      "<class 'pandas.core.frame.DataFrame'>\n",
      "RangeIndex: 32560 entries, 0 to 32559\n",
      "Data columns (total 15 columns):\n",
      " #   Column          Non-Null Count  Dtype \n",
      "---  ------          --------------  ----- \n",
      " 0   Age             32560 non-null  int64 \n",
      " 1   Workclass       32560 non-null  object\n",
      " 2   Fnlwgt          32560 non-null  int64 \n",
      " 3   Education       32560 non-null  object\n",
      " 4   Education_num   32560 non-null  int64 \n",
      " 5   Marital_status  32560 non-null  object\n",
      " 6   Occupation      32560 non-null  object\n",
      " 7   Relationship    32560 non-null  object\n",
      " 8   Race            32560 non-null  object\n",
      " 9   Sex             32560 non-null  object\n",
      " 10  Capital_gain    32560 non-null  int64 \n",
      " 11  Capital_loss    32560 non-null  int64 \n",
      " 12  Hours_per_week  32560 non-null  int64 \n",
      " 13  Native_country  32560 non-null  object\n",
      " 14  Income          32560 non-null  object\n",
      "dtypes: int64(6), object(9)\n",
      "memory usage: 3.7+ MB\n"
     ]
    }
   ],
   "source": [
    "df.info()"
   ]
  },
  {
   "cell_type": "code",
   "execution_count": 98,
   "id": "e5ee09ef",
   "metadata": {},
   "outputs": [
    {
     "data": {
      "text/plain": [
       " Private             22696\n",
       " Self-emp-not-inc     2541\n",
       " Local-gov            2093\n",
       " ?                    1836\n",
       " State-gov            1297\n",
       " Self-emp-inc         1116\n",
       " Federal-gov           960\n",
       " Without-pay            14\n",
       " Never-worked            7\n",
       "Name: Workclass, dtype: int64"
      ]
     },
     "execution_count": 98,
     "metadata": {},
     "output_type": "execute_result"
    }
   ],
   "source": [
    "df['Workclass'].value_counts()"
   ]
  },
  {
   "cell_type": "markdown",
   "id": "afb1e542",
   "metadata": {},
   "source": [
    "## Observation:- \n",
    "1. We can see that Workclass column contain ? marks as value, and total count of ?/missing value is 1836 for WorkClass column\n",
    "\n",
    "2. we wil check other columns as well where such special charecters present.\n",
    "\n",
    "3. We will replace ? mark with NaN value in dataset. we will raplce missin gvalue with mode of the column.\n",
    "\n",
    "4. there are 8 type of category in Workclass.\n",
    "\n"
   ]
  },
  {
   "cell_type": "code",
   "execution_count": 99,
   "id": "208de8c0",
   "metadata": {},
   "outputs": [],
   "source": [
    "for i in df.columns:\n",
    "    df[i].replace(' ?', np.nan, inplace=True)"
   ]
  },
  {
   "cell_type": "code",
   "execution_count": 100,
   "id": "a3fcaae7",
   "metadata": {},
   "outputs": [
    {
     "data": {
      "text/html": [
       "<div>\n",
       "<style scoped>\n",
       "    .dataframe tbody tr th:only-of-type {\n",
       "        vertical-align: middle;\n",
       "    }\n",
       "\n",
       "    .dataframe tbody tr th {\n",
       "        vertical-align: top;\n",
       "    }\n",
       "\n",
       "    .dataframe thead th {\n",
       "        text-align: right;\n",
       "    }\n",
       "</style>\n",
       "<table border=\"1\" class=\"dataframe\">\n",
       "  <thead>\n",
       "    <tr style=\"text-align: right;\">\n",
       "      <th></th>\n",
       "      <th>Age</th>\n",
       "      <th>Workclass</th>\n",
       "      <th>Fnlwgt</th>\n",
       "      <th>Education</th>\n",
       "      <th>Education_num</th>\n",
       "      <th>Marital_status</th>\n",
       "      <th>Occupation</th>\n",
       "      <th>Relationship</th>\n",
       "      <th>Race</th>\n",
       "      <th>Sex</th>\n",
       "      <th>Capital_gain</th>\n",
       "      <th>Capital_loss</th>\n",
       "      <th>Hours_per_week</th>\n",
       "      <th>Native_country</th>\n",
       "      <th>Income</th>\n",
       "    </tr>\n",
       "  </thead>\n",
       "  <tbody>\n",
       "    <tr>\n",
       "      <th>0</th>\n",
       "      <td>50</td>\n",
       "      <td>Self-emp-not-inc</td>\n",
       "      <td>83311</td>\n",
       "      <td>Bachelors</td>\n",
       "      <td>13</td>\n",
       "      <td>Married-civ-spouse</td>\n",
       "      <td>Exec-managerial</td>\n",
       "      <td>Husband</td>\n",
       "      <td>White</td>\n",
       "      <td>Male</td>\n",
       "      <td>0</td>\n",
       "      <td>0</td>\n",
       "      <td>13</td>\n",
       "      <td>United-States</td>\n",
       "      <td>&lt;=50K</td>\n",
       "    </tr>\n",
       "    <tr>\n",
       "      <th>1</th>\n",
       "      <td>38</td>\n",
       "      <td>Private</td>\n",
       "      <td>215646</td>\n",
       "      <td>HS-grad</td>\n",
       "      <td>9</td>\n",
       "      <td>Divorced</td>\n",
       "      <td>Handlers-cleaners</td>\n",
       "      <td>Not-in-family</td>\n",
       "      <td>White</td>\n",
       "      <td>Male</td>\n",
       "      <td>0</td>\n",
       "      <td>0</td>\n",
       "      <td>40</td>\n",
       "      <td>United-States</td>\n",
       "      <td>&lt;=50K</td>\n",
       "    </tr>\n",
       "    <tr>\n",
       "      <th>2</th>\n",
       "      <td>53</td>\n",
       "      <td>Private</td>\n",
       "      <td>234721</td>\n",
       "      <td>11th</td>\n",
       "      <td>7</td>\n",
       "      <td>Married-civ-spouse</td>\n",
       "      <td>Handlers-cleaners</td>\n",
       "      <td>Husband</td>\n",
       "      <td>Black</td>\n",
       "      <td>Male</td>\n",
       "      <td>0</td>\n",
       "      <td>0</td>\n",
       "      <td>40</td>\n",
       "      <td>United-States</td>\n",
       "      <td>&lt;=50K</td>\n",
       "    </tr>\n",
       "    <tr>\n",
       "      <th>3</th>\n",
       "      <td>28</td>\n",
       "      <td>Private</td>\n",
       "      <td>338409</td>\n",
       "      <td>Bachelors</td>\n",
       "      <td>13</td>\n",
       "      <td>Married-civ-spouse</td>\n",
       "      <td>Prof-specialty</td>\n",
       "      <td>Wife</td>\n",
       "      <td>Black</td>\n",
       "      <td>Female</td>\n",
       "      <td>0</td>\n",
       "      <td>0</td>\n",
       "      <td>40</td>\n",
       "      <td>Cuba</td>\n",
       "      <td>&lt;=50K</td>\n",
       "    </tr>\n",
       "    <tr>\n",
       "      <th>4</th>\n",
       "      <td>37</td>\n",
       "      <td>Private</td>\n",
       "      <td>284582</td>\n",
       "      <td>Masters</td>\n",
       "      <td>14</td>\n",
       "      <td>Married-civ-spouse</td>\n",
       "      <td>Exec-managerial</td>\n",
       "      <td>Wife</td>\n",
       "      <td>White</td>\n",
       "      <td>Female</td>\n",
       "      <td>0</td>\n",
       "      <td>0</td>\n",
       "      <td>40</td>\n",
       "      <td>United-States</td>\n",
       "      <td>&lt;=50K</td>\n",
       "    </tr>\n",
       "    <tr>\n",
       "      <th>...</th>\n",
       "      <td>...</td>\n",
       "      <td>...</td>\n",
       "      <td>...</td>\n",
       "      <td>...</td>\n",
       "      <td>...</td>\n",
       "      <td>...</td>\n",
       "      <td>...</td>\n",
       "      <td>...</td>\n",
       "      <td>...</td>\n",
       "      <td>...</td>\n",
       "      <td>...</td>\n",
       "      <td>...</td>\n",
       "      <td>...</td>\n",
       "      <td>...</td>\n",
       "      <td>...</td>\n",
       "    </tr>\n",
       "    <tr>\n",
       "      <th>95</th>\n",
       "      <td>48</td>\n",
       "      <td>Self-emp-not-inc</td>\n",
       "      <td>191277</td>\n",
       "      <td>Doctorate</td>\n",
       "      <td>16</td>\n",
       "      <td>Married-civ-spouse</td>\n",
       "      <td>Prof-specialty</td>\n",
       "      <td>Husband</td>\n",
       "      <td>White</td>\n",
       "      <td>Male</td>\n",
       "      <td>0</td>\n",
       "      <td>1902</td>\n",
       "      <td>60</td>\n",
       "      <td>United-States</td>\n",
       "      <td>&gt;50K</td>\n",
       "    </tr>\n",
       "    <tr>\n",
       "      <th>96</th>\n",
       "      <td>37</td>\n",
       "      <td>Private</td>\n",
       "      <td>202683</td>\n",
       "      <td>Some-college</td>\n",
       "      <td>10</td>\n",
       "      <td>Married-civ-spouse</td>\n",
       "      <td>Sales</td>\n",
       "      <td>Husband</td>\n",
       "      <td>White</td>\n",
       "      <td>Male</td>\n",
       "      <td>0</td>\n",
       "      <td>0</td>\n",
       "      <td>48</td>\n",
       "      <td>United-States</td>\n",
       "      <td>&gt;50K</td>\n",
       "    </tr>\n",
       "    <tr>\n",
       "      <th>97</th>\n",
       "      <td>48</td>\n",
       "      <td>Private</td>\n",
       "      <td>171095</td>\n",
       "      <td>Assoc-acdm</td>\n",
       "      <td>12</td>\n",
       "      <td>Divorced</td>\n",
       "      <td>Exec-managerial</td>\n",
       "      <td>Unmarried</td>\n",
       "      <td>White</td>\n",
       "      <td>Female</td>\n",
       "      <td>0</td>\n",
       "      <td>0</td>\n",
       "      <td>40</td>\n",
       "      <td>England</td>\n",
       "      <td>&lt;=50K</td>\n",
       "    </tr>\n",
       "    <tr>\n",
       "      <th>98</th>\n",
       "      <td>32</td>\n",
       "      <td>Federal-gov</td>\n",
       "      <td>249409</td>\n",
       "      <td>HS-grad</td>\n",
       "      <td>9</td>\n",
       "      <td>Never-married</td>\n",
       "      <td>Other-service</td>\n",
       "      <td>Own-child</td>\n",
       "      <td>Black</td>\n",
       "      <td>Male</td>\n",
       "      <td>0</td>\n",
       "      <td>0</td>\n",
       "      <td>40</td>\n",
       "      <td>United-States</td>\n",
       "      <td>&lt;=50K</td>\n",
       "    </tr>\n",
       "    <tr>\n",
       "      <th>99</th>\n",
       "      <td>76</td>\n",
       "      <td>Private</td>\n",
       "      <td>124191</td>\n",
       "      <td>Masters</td>\n",
       "      <td>14</td>\n",
       "      <td>Married-civ-spouse</td>\n",
       "      <td>Exec-managerial</td>\n",
       "      <td>Husband</td>\n",
       "      <td>White</td>\n",
       "      <td>Male</td>\n",
       "      <td>0</td>\n",
       "      <td>0</td>\n",
       "      <td>40</td>\n",
       "      <td>United-States</td>\n",
       "      <td>&gt;50K</td>\n",
       "    </tr>\n",
       "  </tbody>\n",
       "</table>\n",
       "<p>100 rows × 15 columns</p>\n",
       "</div>"
      ],
      "text/plain": [
       "    Age          Workclass  Fnlwgt      Education  Education_num  \\\n",
       "0    50   Self-emp-not-inc   83311      Bachelors             13   \n",
       "1    38            Private  215646        HS-grad              9   \n",
       "2    53            Private  234721           11th              7   \n",
       "3    28            Private  338409      Bachelors             13   \n",
       "4    37            Private  284582        Masters             14   \n",
       "..  ...                ...     ...            ...            ...   \n",
       "95   48   Self-emp-not-inc  191277      Doctorate             16   \n",
       "96   37            Private  202683   Some-college             10   \n",
       "97   48            Private  171095     Assoc-acdm             12   \n",
       "98   32        Federal-gov  249409        HS-grad              9   \n",
       "99   76            Private  124191        Masters             14   \n",
       "\n",
       "         Marital_status          Occupation    Relationship    Race      Sex  \\\n",
       "0    Married-civ-spouse     Exec-managerial         Husband   White     Male   \n",
       "1              Divorced   Handlers-cleaners   Not-in-family   White     Male   \n",
       "2    Married-civ-spouse   Handlers-cleaners         Husband   Black     Male   \n",
       "3    Married-civ-spouse      Prof-specialty            Wife   Black   Female   \n",
       "4    Married-civ-spouse     Exec-managerial            Wife   White   Female   \n",
       "..                  ...                 ...             ...     ...      ...   \n",
       "95   Married-civ-spouse      Prof-specialty         Husband   White     Male   \n",
       "96   Married-civ-spouse               Sales         Husband   White     Male   \n",
       "97             Divorced     Exec-managerial       Unmarried   White   Female   \n",
       "98        Never-married       Other-service       Own-child   Black     Male   \n",
       "99   Married-civ-spouse     Exec-managerial         Husband   White     Male   \n",
       "\n",
       "    Capital_gain  Capital_loss  Hours_per_week  Native_country  Income  \n",
       "0              0             0              13   United-States   <=50K  \n",
       "1              0             0              40   United-States   <=50K  \n",
       "2              0             0              40   United-States   <=50K  \n",
       "3              0             0              40            Cuba   <=50K  \n",
       "4              0             0              40   United-States   <=50K  \n",
       "..           ...           ...             ...             ...     ...  \n",
       "95             0          1902              60   United-States    >50K  \n",
       "96             0             0              48   United-States    >50K  \n",
       "97             0             0              40         England   <=50K  \n",
       "98             0             0              40   United-States   <=50K  \n",
       "99             0             0              40   United-States    >50K  \n",
       "\n",
       "[100 rows x 15 columns]"
      ]
     },
     "execution_count": 100,
     "metadata": {},
     "output_type": "execute_result"
    }
   ],
   "source": [
    "df.head(100)"
   ]
  },
  {
   "cell_type": "code",
   "execution_count": 101,
   "id": "899f5ae0",
   "metadata": {},
   "outputs": [
    {
     "data": {
      "text/plain": [
       "Age                  0\n",
       "Workclass         1836\n",
       "Fnlwgt               0\n",
       "Education            0\n",
       "Education_num        0\n",
       "Marital_status       0\n",
       "Occupation        1843\n",
       "Relationship         0\n",
       "Race                 0\n",
       "Sex                  0\n",
       "Capital_gain         0\n",
       "Capital_loss         0\n",
       "Hours_per_week       0\n",
       "Native_country     583\n",
       "Income               0\n",
       "dtype: int64"
      ]
     },
     "execution_count": 101,
     "metadata": {},
     "output_type": "execute_result"
    }
   ],
   "source": [
    "df.isnull().sum()"
   ]
  },
  {
   "cell_type": "code",
   "execution_count": 102,
   "id": "9bf1553f",
   "metadata": {},
   "outputs": [
    {
     "data": {
      "text/plain": [
       "<AxesSubplot:>"
      ]
     },
     "execution_count": 102,
     "metadata": {},
     "output_type": "execute_result"
    },
    {
     "data": {
      "image/png": "[encoded data removed]",
      "text/plain": [
       "<Figure size 432x288 with 2 Axes>"
      ]
     },
     "metadata": {
      "needs_background": "light"
     },
     "output_type": "display_data"
    }
   ],
   "source": [
    "import seaborn as sns\n",
    "sns.heatmap(df.isnull())"
   ]
  },
  {
   "cell_type": "markdown",
   "id": "28c96a19",
   "metadata": {},
   "source": [
    "### Observation:-\n",
    "Three columns(Workclass, Occupation,Native_country) has Null values. Frequencey of missing value is not very high. we will replace missing value with the mode of the columns."
   ]
  },
  {
   "cell_type": "markdown",
   "id": "5b44aaec",
   "metadata": {},
   "source": [
    "### Filling missing values with mode of the column because these three columns are contain categorical data."
   ]
  },
  {
   "cell_type": "code",
   "execution_count": 103,
   "id": "cf1cd94d",
   "metadata": {},
   "outputs": [],
   "source": [
    "null_columns =['Workclass','Occupation','Native_country']\n",
    "for i in null_columns:\n",
    "    df.fillna(df[i].mode()[0], inplace=True)"
   ]
  },
  {
   "cell_type": "code",
   "execution_count": 104,
   "id": "9652cdce",
   "metadata": {},
   "outputs": [
    {
     "data": {
      "text/plain": [
       "<AxesSubplot:>"
      ]
     },
     "execution_count": 104,
     "metadata": {},
     "output_type": "execute_result"
    },
    {
     "data": {
      "image/png": "[encoded data removed]",
      "text/plain": [
       "<Figure size 432x288 with 2 Axes>"
      ]
     },
     "metadata": {
      "needs_background": "light"
     },
     "output_type": "display_data"
    }
   ],
   "source": [
    "sns.heatmap(df.isnull())"
   ]
  },
  {
   "cell_type": "markdown",
   "id": "93881d54",
   "metadata": {},
   "source": [
    "##### No missing value now."
   ]
  },
  {
   "cell_type": "code",
   "execution_count": 105,
   "id": "21918a20",
   "metadata": {},
   "outputs": [
    {
     "data": {
      "image/png": "[encoded data removed]",
      "text/plain": [
       "<Figure size 432x288 with 1 Axes>"
      ]
     },
     "metadata": {
      "needs_background": "light"
     },
     "output_type": "display_data"
    }
   ],
   "source": [
    "sns.countplot(x=df['Workclass'], hue=df['Income'])\n",
    "plt.title(\"WorkClass Vs Income\")\n",
    "plt.xticks(rotation = 90)\n",
    "plt.show()"
   ]
  },
  {
   "cell_type": "markdown",
   "id": "b7129ad5",
   "metadata": {},
   "source": [
    "### Observation:- \n",
    "Highest number of employee getting low salary comes from private sector, count of total private worker is very high as compare to other sector but still number of employee not earning more then 50K is also high in this sector."
   ]
  },
  {
   "cell_type": "code",
   "execution_count": 106,
   "id": "f0c06010",
   "metadata": {},
   "outputs": [
    {
     "data": {
      "image/png": "[encoded data removed]",
      "text/plain": [
       "<Figure size 432x288 with 1 Axes>"
      ]
     },
     "metadata": {
      "needs_background": "light"
     },
     "output_type": "display_data"
    }
   ],
   "source": [
    "sns.countplot(df['Sex'], hue=df['Income'])\n",
    "plt.title(\"Gender Vs Income\")\n",
    "plt.xticks(rotation = 90)\n",
    "plt.show()"
   ]
  },
  {
   "cell_type": "markdown",
   "id": "be097940",
   "metadata": {},
   "source": [
    "### Observation:-\n",
    "\n",
    "Female employee has comparatively less income then Male employee."
   ]
  },
  {
   "cell_type": "code",
   "execution_count": 107,
   "id": "0f46254f",
   "metadata": {},
   "outputs": [
    {
     "data": {
      "image/png": "[encoded data removed]",
      "text/plain": [
       "<Figure size 432x288 with 1 Axes>"
      ]
     },
     "metadata": {
      "needs_background": "light"
     },
     "output_type": "display_data"
    }
   ],
   "source": [
    "sns.countplot(x=df['Race'], hue=df['Income'])\n",
    "plt.title(\"Race Vs Income\")\n",
    "plt.xticks(rotation = 90)\n",
    "plt.show()"
   ]
  },
  {
   "cell_type": "markdown",
   "id": "6507ddac",
   "metadata": {},
   "source": [
    "### Observation:- \n",
    "1. This is data comes from US hence most of the employee cataegorized comes from white race, here we can see highest no of employee belogs to while race and as compare the their number employee getting less then 50K salary is higest in this race only.\n",
    "2. employee from other Race also not get very much but % of such people is high in white.\n"
   ]
  },
  {
   "cell_type": "code",
   "execution_count": 108,
   "id": "a10bb424",
   "metadata": {},
   "outputs": [
    {
     "data": {
      "image/png": "[encoded data removed]",
      "text/plain": [
       "<Figure size 432x288 with 1 Axes>"
      ]
     },
     "metadata": {
      "needs_background": "light"
     },
     "output_type": "display_data"
    }
   ],
   "source": [
    "sns.countplot(x=df['Education'], hue=df['Income'])\n",
    "plt.title(\"Education Vs Income\")\n",
    "plt.xticks(rotation = 90)\n",
    "plt.show()"
   ]
  },
  {
   "cell_type": "markdown",
   "id": "b8f8234f",
   "metadata": {},
   "source": [
    "### Observation:-\n",
    "\n",
    "HIghest difference of salary can be seen in employee having  HS-Grade and Some-Collage level education. "
   ]
  },
  {
   "cell_type": "code",
   "execution_count": 109,
   "id": "48e57b9e",
   "metadata": {},
   "outputs": [
    {
     "data": {
      "image/png": "[encoded data removed]",
      "text/plain": [
       "<Figure size 432x288 with 1 Axes>"
      ]
     },
     "metadata": {
      "needs_background": "light"
     },
     "output_type": "display_data"
    }
   ],
   "source": [
    "sns.countplot(df['Income'])\n",
    "plt.title(\"count of employee with their respective Income\")\n",
    "plt.show()"
   ]
  },
  {
   "cell_type": "markdown",
   "id": "9629dc76",
   "metadata": {},
   "source": [
    "## Observation:-\n",
    "1. Employee getting salary less then 50K is very high, overall we can say data is imbalanced and we need to apply oversampling or undersamplaling in this case.\n",
    "2. We can say maximum employee not getting more then 50k salary as compare to total no of employee in US."
   ]
  },
  {
   "cell_type": "code",
   "execution_count": 110,
   "id": "1af973dc",
   "metadata": {},
   "outputs": [
    {
     "data": {
      "image/png": "[encoded data removed]",
      "text/plain": [
       "<Figure size 432x288 with 1 Axes>"
      ]
     },
     "metadata": {
      "needs_background": "light"
     },
     "output_type": "display_data"
    }
   ],
   "source": [
    "sns.countplot(x=df['Occupation'], hue=df['Income'])\n",
    "plt.title(\"Occupation Vs Income\")\n",
    "plt.xticks(rotation = 90)\n",
    "plt.show()"
   ]
  },
  {
   "cell_type": "markdown",
   "id": "f48c8c91",
   "metadata": {},
   "source": [
    "### Observation:-\n",
    "1. Some occupation like Exec-Manageral, Prof-Speciality, maximum employee get good salary if they choose this occupation.\n",
    "2. Other-service has high number of employee but pay of these employee are not crossing 50K"
   ]
  },
  {
   "cell_type": "code",
   "execution_count": 111,
   "id": "d19c3f78",
   "metadata": {},
   "outputs": [
    {
     "data": {
      "image/png": "[encoded data removed]",
      "text/plain": [
       "<Figure size 432x288 with 1 Axes>"
      ]
     },
     "metadata": {
      "needs_background": "light"
     },
     "output_type": "display_data"
    }
   ],
   "source": [
    "sns.countplot(x=df['Relationship'], hue=df['Income'])\n",
    "plt.xticks(rotation = 90)\n",
    "plt.show()"
   ]
  },
  {
   "cell_type": "markdown",
   "id": "3420acaa",
   "metadata": {},
   "source": [
    "1. Married Male has good pay in US, don't know reason but above graph show that much more no of husbands getting salary more then 50K.\n",
    "2. highest no of those employee who are not in family not getting very much salary. their salary not crossing 50k.\n",
    "3. maximum Wife's also getting good salary. although total no of woking married female are less compare to married males."
   ]
  },
  {
   "cell_type": "code",
   "execution_count": 112,
   "id": "81d29652",
   "metadata": {},
   "outputs": [
    {
     "data": {
      "image/png": "[encoded data removed]",
      "text/plain": [
       "<Figure size 432x288 with 1 Axes>"
      ]
     },
     "metadata": {
      "needs_background": "light"
     },
     "output_type": "display_data"
    }
   ],
   "source": [
    "sns.countplot(x=df['Marital_status'], hue=df['Income'])\n",
    "plt.xticks(rotation = 90)\n",
    "plt.show()"
   ]
  },
  {
   "cell_type": "markdown",
   "id": "6a146f6f",
   "metadata": {},
   "source": [
    "### Observation:- \n",
    "Working bachlor's getting less then 50k which is expacted because they are fresher in their domain and getting high salary require more experience."
   ]
  },
  {
   "cell_type": "code",
   "execution_count": 113,
   "id": "e6e72905",
   "metadata": {},
   "outputs": [
    {
     "data": {
      "text/plain": [
       "<AxesSubplot:xlabel='Age', ylabel='Density'>"
      ]
     },
     "execution_count": 113,
     "metadata": {},
     "output_type": "execute_result"
    },
    {
     "data": {
      "image/png": "[encoded data removed]",
      "text/plain": [
       "<Figure size 432x288 with 1 Axes>"
      ]
     },
     "metadata": {
      "needs_background": "light"
     },
     "output_type": "display_data"
    }
   ],
   "source": [
    "sns.kdeplot(data=df, x=df['Age'])"
   ]
  },
  {
   "cell_type": "markdown",
   "id": "50b27ce0",
   "metadata": {},
   "source": [
    "### Observation:-\n",
    "Maximum Employee taken part in  tis survay belogs to 18 to 40 year of age. "
   ]
  },
  {
   "cell_type": "code",
   "execution_count": 114,
   "id": "fdbeaada",
   "metadata": {},
   "outputs": [
    {
     "data": {
      "image/png": "[encoded data removed]",
      "text/plain": [
       "<Figure size 864x576 with 1 Axes>"
      ]
     },
     "metadata": {
      "needs_background": "light"
     },
     "output_type": "display_data"
    }
   ],
   "source": [
    "fig=plt.figure(figsize=(12,8))\n",
    "sns.histplot(data=df, x='Native_country', y='Fnlwgt', hue='Income')\n",
    "plt.xticks(rotation = 90)\n",
    "plt.show()"
   ]
  },
  {
   "cell_type": "markdown",
   "id": "b484d19f",
   "metadata": {},
   "source": [
    "### Obsarvation:- \n",
    "Final Weight variable has some confusing numbers because this is related to US. other cuntries have their own weight system, \n",
    "\n",
    "In above graph we can see US employee having less weight getting good pay,"
   ]
  },
  {
   "cell_type": "code",
   "execution_count": 115,
   "id": "2e7f525a",
   "metadata": {},
   "outputs": [
    {
     "data": {
      "image/png": "[encoded data removed]",
      "text/plain": [
       "<Figure size 864x576 with 1 Axes>"
      ]
     },
     "metadata": {
      "needs_background": "light"
     },
     "output_type": "display_data"
    }
   ],
   "source": [
    "fig=plt.figure(figsize=(12,8))\n",
    "sns.countplot(x=df['Native_country'], hue=df['Income'])\n",
    "plt.xticks(rotation = 90)\n",
    "plt.show()"
   ]
  },
  {
   "cell_type": "markdown",
   "id": "4e2a01be",
   "metadata": {},
   "source": [
    "### Observation:-\n",
    "\n",
    "Country wise sagrigation show that data mostly related to US. "
   ]
  },
  {
   "cell_type": "code",
   "execution_count": 116,
   "id": "3b51759e",
   "metadata": {},
   "outputs": [
    {
     "data": {
      "text/plain": [
       "<AxesSubplot:xlabel='Capital_gain', ylabel='Count'>"
      ]
     },
     "execution_count": 116,
     "metadata": {},
     "output_type": "execute_result"
    },
    {
     "data": {
      "image/png": "[encoded data removed]",
      "text/plain": [
       "<Figure size 432x288 with 1 Axes>"
      ]
     },
     "metadata": {
      "needs_background": "light"
     },
     "output_type": "display_data"
    }
   ],
   "source": [
    "sns.histplot(data=df,x='Capital_gain')"
   ]
  },
  {
   "cell_type": "markdown",
   "id": "5275c66e",
   "metadata": {},
   "source": [
    "### Observation:-\n",
    "1. Maximum employee has no capital gain from their earning.\n",
    "2. some people has capital gain when they are working, this capital gain will be showing in outlier but this seems to be a genuine capital gain from their earning hence we are not going to remove outlier , otherwise importent data will be loss."
   ]
  },
  {
   "cell_type": "code",
   "execution_count": 117,
   "id": "699c6a29",
   "metadata": {},
   "outputs": [
    {
     "data": {
      "text/plain": [
       "<AxesSubplot:xlabel='Capital_loss', ylabel='Count'>"
      ]
     },
     "execution_count": 117,
     "metadata": {},
     "output_type": "execute_result"
    },
    {
     "data": {
      "image/png": "[encoded data removed]",
      "text/plain": [
       "<Figure size 432x288 with 1 Axes>"
      ]
     },
     "metadata": {
      "needs_background": "light"
     },
     "output_type": "display_data"
    }
   ],
   "source": [
    "sns.histplot(data=df,x='Capital_loss')"
   ]
  },
  {
   "cell_type": "markdown",
   "id": "a4877447",
   "metadata": {},
   "source": [
    "### Observation:-\n",
    "1. Maximum employee has no capital loss during their earning.\n",
    "2. some people has capital loss when they are working, this capital loss will be showing as outlier but this seems to be a genuine capital loss from their earning hence we are not going to remove outlier , otherwise importent data will be loss."
   ]
  },
  {
   "cell_type": "code",
   "execution_count": 118,
   "id": "27dc066d",
   "metadata": {},
   "outputs": [
    {
     "data": {
      "text/html": [
       "<div>\n",
       "<style scoped>\n",
       "    .dataframe tbody tr th:only-of-type {\n",
       "        vertical-align: middle;\n",
       "    }\n",
       "\n",
       "    .dataframe tbody tr th {\n",
       "        vertical-align: top;\n",
       "    }\n",
       "\n",
       "    .dataframe thead th {\n",
       "        text-align: right;\n",
       "    }\n",
       "</style>\n",
       "<table border=\"1\" class=\"dataframe\">\n",
       "  <thead>\n",
       "    <tr style=\"text-align: right;\">\n",
       "      <th></th>\n",
       "      <th>Age</th>\n",
       "      <th>Workclass</th>\n",
       "      <th>Fnlwgt</th>\n",
       "      <th>Education</th>\n",
       "      <th>Education_num</th>\n",
       "      <th>Marital_status</th>\n",
       "      <th>Occupation</th>\n",
       "      <th>Relationship</th>\n",
       "      <th>Race</th>\n",
       "      <th>Sex</th>\n",
       "      <th>Capital_gain</th>\n",
       "      <th>Capital_loss</th>\n",
       "      <th>Hours_per_week</th>\n",
       "      <th>Native_country</th>\n",
       "      <th>Income</th>\n",
       "    </tr>\n",
       "  </thead>\n",
       "  <tbody>\n",
       "    <tr>\n",
       "      <th>0</th>\n",
       "      <td>50</td>\n",
       "      <td>Self-emp-not-inc</td>\n",
       "      <td>83311</td>\n",
       "      <td>Bachelors</td>\n",
       "      <td>13</td>\n",
       "      <td>Married-civ-spouse</td>\n",
       "      <td>Exec-managerial</td>\n",
       "      <td>Husband</td>\n",
       "      <td>White</td>\n",
       "      <td>Male</td>\n",
       "      <td>0</td>\n",
       "      <td>0</td>\n",
       "      <td>13</td>\n",
       "      <td>United-States</td>\n",
       "      <td>&lt;=50K</td>\n",
       "    </tr>\n",
       "    <tr>\n",
       "      <th>1</th>\n",
       "      <td>38</td>\n",
       "      <td>Private</td>\n",
       "      <td>215646</td>\n",
       "      <td>HS-grad</td>\n",
       "      <td>9</td>\n",
       "      <td>Divorced</td>\n",
       "      <td>Handlers-cleaners</td>\n",
       "      <td>Not-in-family</td>\n",
       "      <td>White</td>\n",
       "      <td>Male</td>\n",
       "      <td>0</td>\n",
       "      <td>0</td>\n",
       "      <td>40</td>\n",
       "      <td>United-States</td>\n",
       "      <td>&lt;=50K</td>\n",
       "    </tr>\n",
       "    <tr>\n",
       "      <th>2</th>\n",
       "      <td>53</td>\n",
       "      <td>Private</td>\n",
       "      <td>234721</td>\n",
       "      <td>11th</td>\n",
       "      <td>7</td>\n",
       "      <td>Married-civ-spouse</td>\n",
       "      <td>Handlers-cleaners</td>\n",
       "      <td>Husband</td>\n",
       "      <td>Black</td>\n",
       "      <td>Male</td>\n",
       "      <td>0</td>\n",
       "      <td>0</td>\n",
       "      <td>40</td>\n",
       "      <td>United-States</td>\n",
       "      <td>&lt;=50K</td>\n",
       "    </tr>\n",
       "    <tr>\n",
       "      <th>3</th>\n",
       "      <td>28</td>\n",
       "      <td>Private</td>\n",
       "      <td>338409</td>\n",
       "      <td>Bachelors</td>\n",
       "      <td>13</td>\n",
       "      <td>Married-civ-spouse</td>\n",
       "      <td>Prof-specialty</td>\n",
       "      <td>Wife</td>\n",
       "      <td>Black</td>\n",
       "      <td>Female</td>\n",
       "      <td>0</td>\n",
       "      <td>0</td>\n",
       "      <td>40</td>\n",
       "      <td>Cuba</td>\n",
       "      <td>&lt;=50K</td>\n",
       "    </tr>\n",
       "    <tr>\n",
       "      <th>4</th>\n",
       "      <td>37</td>\n",
       "      <td>Private</td>\n",
       "      <td>284582</td>\n",
       "      <td>Masters</td>\n",
       "      <td>14</td>\n",
       "      <td>Married-civ-spouse</td>\n",
       "      <td>Exec-managerial</td>\n",
       "      <td>Wife</td>\n",
       "      <td>White</td>\n",
       "      <td>Female</td>\n",
       "      <td>0</td>\n",
       "      <td>0</td>\n",
       "      <td>40</td>\n",
       "      <td>United-States</td>\n",
       "      <td>&lt;=50K</td>\n",
       "    </tr>\n",
       "  </tbody>\n",
       "</table>\n",
       "</div>"
      ],
      "text/plain": [
       "   Age          Workclass  Fnlwgt   Education  Education_num  \\\n",
       "0   50   Self-emp-not-inc   83311   Bachelors             13   \n",
       "1   38            Private  215646     HS-grad              9   \n",
       "2   53            Private  234721        11th              7   \n",
       "3   28            Private  338409   Bachelors             13   \n",
       "4   37            Private  284582     Masters             14   \n",
       "\n",
       "        Marital_status          Occupation    Relationship    Race      Sex  \\\n",
       "0   Married-civ-spouse     Exec-managerial         Husband   White     Male   \n",
       "1             Divorced   Handlers-cleaners   Not-in-family   White     Male   \n",
       "2   Married-civ-spouse   Handlers-cleaners         Husband   Black     Male   \n",
       "3   Married-civ-spouse      Prof-specialty            Wife   Black   Female   \n",
       "4   Married-civ-spouse     Exec-managerial            Wife   White   Female   \n",
       "\n",
       "   Capital_gain  Capital_loss  Hours_per_week  Native_country  Income  \n",
       "0             0             0              13   United-States   <=50K  \n",
       "1             0             0              40   United-States   <=50K  \n",
       "2             0             0              40   United-States   <=50K  \n",
       "3             0             0              40            Cuba   <=50K  \n",
       "4             0             0              40   United-States   <=50K  "
      ]
     },
     "execution_count": 118,
     "metadata": {},
     "output_type": "execute_result"
    }
   ],
   "source": [
    "df.head()"
   ]
  },
  {
   "cell_type": "code",
   "execution_count": 122,
   "id": "39baef1d",
   "metadata": {},
   "outputs": [
    {
     "data": {
      "text/html": [
       "<div>\n",
       "<style scoped>\n",
       "    .dataframe tbody tr th:only-of-type {\n",
       "        vertical-align: middle;\n",
       "    }\n",
       "\n",
       "    .dataframe tbody tr th {\n",
       "        vertical-align: top;\n",
       "    }\n",
       "\n",
       "    .dataframe thead th {\n",
       "        text-align: right;\n",
       "    }\n",
       "</style>\n",
       "<table border=\"1\" class=\"dataframe\">\n",
       "  <thead>\n",
       "    <tr style=\"text-align: right;\">\n",
       "      <th></th>\n",
       "      <th>Age</th>\n",
       "      <th>Workclass</th>\n",
       "      <th>Fnlwgt</th>\n",
       "      <th>Education</th>\n",
       "      <th>Education_num</th>\n",
       "      <th>Marital_status</th>\n",
       "      <th>Occupation</th>\n",
       "      <th>Relationship</th>\n",
       "      <th>Race</th>\n",
       "      <th>Sex</th>\n",
       "      <th>Capital_gain</th>\n",
       "      <th>Capital_loss</th>\n",
       "      <th>Hours_per_week</th>\n",
       "      <th>Native_country</th>\n",
       "      <th>Income</th>\n",
       "    </tr>\n",
       "  </thead>\n",
       "  <tbody>\n",
       "    <tr>\n",
       "      <th>0</th>\n",
       "      <td>50</td>\n",
       "      <td>Self-emp-not-inc</td>\n",
       "      <td>83311</td>\n",
       "      <td>Bachelors</td>\n",
       "      <td>13</td>\n",
       "      <td>Married-civ-spouse</td>\n",
       "      <td>Exec-managerial</td>\n",
       "      <td>Husband</td>\n",
       "      <td>White</td>\n",
       "      <td>Male</td>\n",
       "      <td>0</td>\n",
       "      <td>0</td>\n",
       "      <td>13</td>\n",
       "      <td>United-States</td>\n",
       "      <td>0</td>\n",
       "    </tr>\n",
       "    <tr>\n",
       "      <th>1</th>\n",
       "      <td>38</td>\n",
       "      <td>Private</td>\n",
       "      <td>215646</td>\n",
       "      <td>HS-grad</td>\n",
       "      <td>9</td>\n",
       "      <td>Divorced</td>\n",
       "      <td>Handlers-cleaners</td>\n",
       "      <td>Not-in-family</td>\n",
       "      <td>White</td>\n",
       "      <td>Male</td>\n",
       "      <td>0</td>\n",
       "      <td>0</td>\n",
       "      <td>40</td>\n",
       "      <td>United-States</td>\n",
       "      <td>0</td>\n",
       "    </tr>\n",
       "    <tr>\n",
       "      <th>2</th>\n",
       "      <td>53</td>\n",
       "      <td>Private</td>\n",
       "      <td>234721</td>\n",
       "      <td>11th</td>\n",
       "      <td>7</td>\n",
       "      <td>Married-civ-spouse</td>\n",
       "      <td>Handlers-cleaners</td>\n",
       "      <td>Husband</td>\n",
       "      <td>Black</td>\n",
       "      <td>Male</td>\n",
       "      <td>0</td>\n",
       "      <td>0</td>\n",
       "      <td>40</td>\n",
       "      <td>United-States</td>\n",
       "      <td>0</td>\n",
       "    </tr>\n",
       "    <tr>\n",
       "      <th>3</th>\n",
       "      <td>28</td>\n",
       "      <td>Private</td>\n",
       "      <td>338409</td>\n",
       "      <td>Bachelors</td>\n",
       "      <td>13</td>\n",
       "      <td>Married-civ-spouse</td>\n",
       "      <td>Prof-specialty</td>\n",
       "      <td>Wife</td>\n",
       "      <td>Black</td>\n",
       "      <td>Female</td>\n",
       "      <td>0</td>\n",
       "      <td>0</td>\n",
       "      <td>40</td>\n",
       "      <td>Cuba</td>\n",
       "      <td>0</td>\n",
       "    </tr>\n",
       "    <tr>\n",
       "      <th>4</th>\n",
       "      <td>37</td>\n",
       "      <td>Private</td>\n",
       "      <td>284582</td>\n",
       "      <td>Masters</td>\n",
       "      <td>14</td>\n",
       "      <td>Married-civ-spouse</td>\n",
       "      <td>Exec-managerial</td>\n",
       "      <td>Wife</td>\n",
       "      <td>White</td>\n",
       "      <td>Female</td>\n",
       "      <td>0</td>\n",
       "      <td>0</td>\n",
       "      <td>40</td>\n",
       "      <td>United-States</td>\n",
       "      <td>0</td>\n",
       "    </tr>\n",
       "  </tbody>\n",
       "</table>\n",
       "</div>"
      ],
      "text/plain": [
       "   Age          Workclass  Fnlwgt   Education  Education_num  \\\n",
       "0   50   Self-emp-not-inc   83311   Bachelors             13   \n",
       "1   38            Private  215646     HS-grad              9   \n",
       "2   53            Private  234721        11th              7   \n",
       "3   28            Private  338409   Bachelors             13   \n",
       "4   37            Private  284582     Masters             14   \n",
       "\n",
       "        Marital_status          Occupation    Relationship    Race      Sex  \\\n",
       "0   Married-civ-spouse     Exec-managerial         Husband   White     Male   \n",
       "1             Divorced   Handlers-cleaners   Not-in-family   White     Male   \n",
       "2   Married-civ-spouse   Handlers-cleaners         Husband   Black     Male   \n",
       "3   Married-civ-spouse      Prof-specialty            Wife   Black   Female   \n",
       "4   Married-civ-spouse     Exec-managerial            Wife   White   Female   \n",
       "\n",
       "   Capital_gain  Capital_loss  Hours_per_week  Native_country  Income  \n",
       "0             0             0              13   United-States       0  \n",
       "1             0             0              40   United-States       0  \n",
       "2             0             0              40   United-States       0  \n",
       "3             0             0              40            Cuba       0  \n",
       "4             0             0              40   United-States       0  "
      ]
     },
     "execution_count": 122,
     "metadata": {},
     "output_type": "execute_result"
    }
   ],
   "source": [
    "from sklearn import preprocessing\n",
    "label_encoder = preprocessing.LabelEncoder() \n",
    "df['Income']= label_encoder.fit_transform(df['Income']) \n",
    "df.head()"
   ]
  },
  {
   "cell_type": "code",
   "execution_count": 123,
   "id": "d60a977f",
   "metadata": {},
   "outputs": [
    {
     "data": {
      "text/plain": [
       "Income            1.000000\n",
       "Education_num     0.335182\n",
       "Age               0.234039\n",
       "Hours_per_week    0.229690\n",
       "Capital_gain      0.223333\n",
       "Capital_loss      0.150523\n",
       "Fnlwgt           -0.009481\n",
       "Name: Income, dtype: float64"
      ]
     },
     "execution_count": 123,
     "metadata": {},
     "output_type": "execute_result"
    }
   ],
   "source": [
    "corr_matrix = df.corr()\n",
    "corr_matrix['Income'].sort_values(ascending=False)"
   ]
  },
  {
   "cell_type": "markdown",
   "id": "00dab2f2",
   "metadata": {},
   "source": [
    "## Observation:- \n",
    "1. Workclass has very low correlation with income . while it is assume that workclass has good impact in income of a person which is somehow now correct .\n",
    "2. Education_num has strong correlation with Income.\n",
    "2. Age,Hours_per_week,Capital_gain,Sex also  has strong possitive correlation with income.\n",
    "3. Relation ship and marital staus impact income. it has nageive correlation with Income.\n",
    "4. Fnlwgt have very less nagetive correlation with Income , hence we can delete this column. "
   ]
  },
  {
   "cell_type": "markdown",
   "id": "3846ceec",
   "metadata": {},
   "source": [
    "### Encoding different columns which having classification data."
   ]
  },
  {
   "cell_type": "code",
   "execution_count": 124,
   "id": "f64f006e",
   "metadata": {},
   "outputs": [],
   "source": [
    "#### Encoding Gender categrical Features: ##########\n",
    "column = ['Workclass','Marital_status','Occupation','Relationship','Race','Sex', 'Native_country','Education']\n",
    "for i in column:\n",
    "    df[i] = pd.Categorical(df[i])\n",
    "    dfDummies = pd.get_dummies(df[i], prefix = i)\n",
    "    df = pd.concat([df, dfDummies], axis=1)\n",
    "    df.drop(columns=i,inplace=True)\n"
   ]
  },
  {
   "cell_type": "code",
   "execution_count": 125,
   "id": "d444b1e2",
   "metadata": {},
   "outputs": [
    {
     "data": {
      "text/html": [
       "<div>\n",
       "<style scoped>\n",
       "    .dataframe tbody tr th:only-of-type {\n",
       "        vertical-align: middle;\n",
       "    }\n",
       "\n",
       "    .dataframe tbody tr th {\n",
       "        vertical-align: top;\n",
       "    }\n",
       "\n",
       "    .dataframe thead th {\n",
       "        text-align: right;\n",
       "    }\n",
       "</style>\n",
       "<table border=\"1\" class=\"dataframe\">\n",
       "  <thead>\n",
       "    <tr style=\"text-align: right;\">\n",
       "      <th></th>\n",
       "      <th>Age</th>\n",
       "      <th>Fnlwgt</th>\n",
       "      <th>Education_num</th>\n",
       "      <th>Capital_gain</th>\n",
       "      <th>Capital_loss</th>\n",
       "      <th>Hours_per_week</th>\n",
       "      <th>Income</th>\n",
       "      <th>Workclass_ Federal-gov</th>\n",
       "      <th>Workclass_ Local-gov</th>\n",
       "      <th>Workclass_ Never-worked</th>\n",
       "      <th>...</th>\n",
       "      <th>Education_ 9th</th>\n",
       "      <th>Education_ Assoc-acdm</th>\n",
       "      <th>Education_ Assoc-voc</th>\n",
       "      <th>Education_ Bachelors</th>\n",
       "      <th>Education_ Doctorate</th>\n",
       "      <th>Education_ HS-grad</th>\n",
       "      <th>Education_ Masters</th>\n",
       "      <th>Education_ Preschool</th>\n",
       "      <th>Education_ Prof-school</th>\n",
       "      <th>Education_ Some-college</th>\n",
       "    </tr>\n",
       "  </thead>\n",
       "  <tbody>\n",
       "    <tr>\n",
       "      <th>0</th>\n",
       "      <td>50</td>\n",
       "      <td>83311</td>\n",
       "      <td>13</td>\n",
       "      <td>0</td>\n",
       "      <td>0</td>\n",
       "      <td>13</td>\n",
       "      <td>0</td>\n",
       "      <td>0</td>\n",
       "      <td>0</td>\n",
       "      <td>0</td>\n",
       "      <td>...</td>\n",
       "      <td>0</td>\n",
       "      <td>0</td>\n",
       "      <td>0</td>\n",
       "      <td>1</td>\n",
       "      <td>0</td>\n",
       "      <td>0</td>\n",
       "      <td>0</td>\n",
       "      <td>0</td>\n",
       "      <td>0</td>\n",
       "      <td>0</td>\n",
       "    </tr>\n",
       "    <tr>\n",
       "      <th>1</th>\n",
       "      <td>38</td>\n",
       "      <td>215646</td>\n",
       "      <td>9</td>\n",
       "      <td>0</td>\n",
       "      <td>0</td>\n",
       "      <td>40</td>\n",
       "      <td>0</td>\n",
       "      <td>0</td>\n",
       "      <td>0</td>\n",
       "      <td>0</td>\n",
       "      <td>...</td>\n",
       "      <td>0</td>\n",
       "      <td>0</td>\n",
       "      <td>0</td>\n",
       "      <td>0</td>\n",
       "      <td>0</td>\n",
       "      <td>1</td>\n",
       "      <td>0</td>\n",
       "      <td>0</td>\n",
       "      <td>0</td>\n",
       "      <td>0</td>\n",
       "    </tr>\n",
       "    <tr>\n",
       "      <th>2</th>\n",
       "      <td>53</td>\n",
       "      <td>234721</td>\n",
       "      <td>7</td>\n",
       "      <td>0</td>\n",
       "      <td>0</td>\n",
       "      <td>40</td>\n",
       "      <td>0</td>\n",
       "      <td>0</td>\n",
       "      <td>0</td>\n",
       "      <td>0</td>\n",
       "      <td>...</td>\n",
       "      <td>0</td>\n",
       "      <td>0</td>\n",
       "      <td>0</td>\n",
       "      <td>0</td>\n",
       "      <td>0</td>\n",
       "      <td>0</td>\n",
       "      <td>0</td>\n",
       "      <td>0</td>\n",
       "      <td>0</td>\n",
       "      <td>0</td>\n",
       "    </tr>\n",
       "    <tr>\n",
       "      <th>3</th>\n",
       "      <td>28</td>\n",
       "      <td>338409</td>\n",
       "      <td>13</td>\n",
       "      <td>0</td>\n",
       "      <td>0</td>\n",
       "      <td>40</td>\n",
       "      <td>0</td>\n",
       "      <td>0</td>\n",
       "      <td>0</td>\n",
       "      <td>0</td>\n",
       "      <td>...</td>\n",
       "      <td>0</td>\n",
       "      <td>0</td>\n",
       "      <td>0</td>\n",
       "      <td>1</td>\n",
       "      <td>0</td>\n",
       "      <td>0</td>\n",
       "      <td>0</td>\n",
       "      <td>0</td>\n",
       "      <td>0</td>\n",
       "      <td>0</td>\n",
       "    </tr>\n",
       "    <tr>\n",
       "      <th>4</th>\n",
       "      <td>37</td>\n",
       "      <td>284582</td>\n",
       "      <td>14</td>\n",
       "      <td>0</td>\n",
       "      <td>0</td>\n",
       "      <td>40</td>\n",
       "      <td>0</td>\n",
       "      <td>0</td>\n",
       "      <td>0</td>\n",
       "      <td>0</td>\n",
       "      <td>...</td>\n",
       "      <td>0</td>\n",
       "      <td>0</td>\n",
       "      <td>0</td>\n",
       "      <td>0</td>\n",
       "      <td>0</td>\n",
       "      <td>0</td>\n",
       "      <td>1</td>\n",
       "      <td>0</td>\n",
       "      <td>0</td>\n",
       "      <td>0</td>\n",
       "    </tr>\n",
       "  </tbody>\n",
       "</table>\n",
       "<p>5 rows × 108 columns</p>\n",
       "</div>"
      ],
      "text/plain": [
       "   Age  Fnlwgt  Education_num  Capital_gain  Capital_loss  Hours_per_week  \\\n",
       "0   50   83311             13             0             0              13   \n",
       "1   38  215646              9             0             0              40   \n",
       "2   53  234721              7             0             0              40   \n",
       "3   28  338409             13             0             0              40   \n",
       "4   37  284582             14             0             0              40   \n",
       "\n",
       "   Income  Workclass_ Federal-gov  Workclass_ Local-gov  \\\n",
       "0       0                       0                     0   \n",
       "1       0                       0                     0   \n",
       "2       0                       0                     0   \n",
       "3       0                       0                     0   \n",
       "4       0                       0                     0   \n",
       "\n",
       "   Workclass_ Never-worked  ...  Education_ 9th  Education_ Assoc-acdm  \\\n",
       "0                        0  ...               0                      0   \n",
       "1                        0  ...               0                      0   \n",
       "2                        0  ...               0                      0   \n",
       "3                        0  ...               0                      0   \n",
       "4                        0  ...               0                      0   \n",
       "\n",
       "   Education_ Assoc-voc  Education_ Bachelors  Education_ Doctorate  \\\n",
       "0                     0                     1                     0   \n",
       "1                     0                     0                     0   \n",
       "2                     0                     0                     0   \n",
       "3                     0                     1                     0   \n",
       "4                     0                     0                     0   \n",
       "\n",
       "   Education_ HS-grad  Education_ Masters  Education_ Preschool  \\\n",
       "0                   0                   0                     0   \n",
       "1                   1                   0                     0   \n",
       "2                   0                   0                     0   \n",
       "3                   0                   0                     0   \n",
       "4                   0                   1                     0   \n",
       "\n",
       "   Education_ Prof-school  Education_ Some-college  \n",
       "0                       0                        0  \n",
       "1                       0                        0  \n",
       "2                       0                        0  \n",
       "3                       0                        0  \n",
       "4                       0                        0  \n",
       "\n",
       "[5 rows x 108 columns]"
      ]
     },
     "execution_count": 125,
     "metadata": {},
     "output_type": "execute_result"
    }
   ],
   "source": [
    "df.head()"
   ]
  },
  {
   "cell_type": "code",
   "execution_count": null,
   "id": "411daf2e",
   "metadata": {},
   "outputs": [],
   "source": []
  },
  {
   "cell_type": "code",
   "execution_count": 126,
   "id": "d67116d5",
   "metadata": {},
   "outputs": [],
   "source": [
    "df=df.drop('Fnlwgt', axis=1)"
   ]
  },
  {
   "cell_type": "code",
   "execution_count": 127,
   "id": "39b3e834",
   "metadata": {},
   "outputs": [
    {
     "data": {
      "text/html": [
       "<div>\n",
       "<style scoped>\n",
       "    .dataframe tbody tr th:only-of-type {\n",
       "        vertical-align: middle;\n",
       "    }\n",
       "\n",
       "    .dataframe tbody tr th {\n",
       "        vertical-align: top;\n",
       "    }\n",
       "\n",
       "    .dataframe thead th {\n",
       "        text-align: right;\n",
       "    }\n",
       "</style>\n",
       "<table border=\"1\" class=\"dataframe\">\n",
       "  <thead>\n",
       "    <tr style=\"text-align: right;\">\n",
       "      <th></th>\n",
       "      <th>Age</th>\n",
       "      <th>Education_num</th>\n",
       "      <th>Capital_gain</th>\n",
       "      <th>Capital_loss</th>\n",
       "      <th>Hours_per_week</th>\n",
       "      <th>Income</th>\n",
       "      <th>Workclass_ Federal-gov</th>\n",
       "      <th>Workclass_ Local-gov</th>\n",
       "      <th>Workclass_ Never-worked</th>\n",
       "      <th>Workclass_ Private</th>\n",
       "      <th>...</th>\n",
       "      <th>Education_ 9th</th>\n",
       "      <th>Education_ Assoc-acdm</th>\n",
       "      <th>Education_ Assoc-voc</th>\n",
       "      <th>Education_ Bachelors</th>\n",
       "      <th>Education_ Doctorate</th>\n",
       "      <th>Education_ HS-grad</th>\n",
       "      <th>Education_ Masters</th>\n",
       "      <th>Education_ Preschool</th>\n",
       "      <th>Education_ Prof-school</th>\n",
       "      <th>Education_ Some-college</th>\n",
       "    </tr>\n",
       "  </thead>\n",
       "  <tbody>\n",
       "    <tr>\n",
       "      <th>count</th>\n",
       "      <td>32560.000000</td>\n",
       "      <td>32560.000000</td>\n",
       "      <td>32560.000000</td>\n",
       "      <td>32560.000000</td>\n",
       "      <td>32560.000000</td>\n",
       "      <td>32560.000000</td>\n",
       "      <td>32560.000000</td>\n",
       "      <td>32560.000000</td>\n",
       "      <td>32560.000000</td>\n",
       "      <td>32560.000000</td>\n",
       "      <td>...</td>\n",
       "      <td>32560.000000</td>\n",
       "      <td>32560.000000</td>\n",
       "      <td>32560.000000</td>\n",
       "      <td>32560.000000</td>\n",
       "      <td>32560.000000</td>\n",
       "      <td>32560.000000</td>\n",
       "      <td>32560.000000</td>\n",
       "      <td>32560.000000</td>\n",
       "      <td>32560.000000</td>\n",
       "      <td>32560.000000</td>\n",
       "    </tr>\n",
       "    <tr>\n",
       "      <th>mean</th>\n",
       "      <td>38.581634</td>\n",
       "      <td>10.080590</td>\n",
       "      <td>1077.615172</td>\n",
       "      <td>87.306511</td>\n",
       "      <td>40.437469</td>\n",
       "      <td>0.240817</td>\n",
       "      <td>0.029484</td>\n",
       "      <td>0.064281</td>\n",
       "      <td>0.000215</td>\n",
       "      <td>0.753440</td>\n",
       "      <td>...</td>\n",
       "      <td>0.015786</td>\n",
       "      <td>0.032770</td>\n",
       "      <td>0.042445</td>\n",
       "      <td>0.164435</td>\n",
       "      <td>0.012684</td>\n",
       "      <td>0.322512</td>\n",
       "      <td>0.052918</td>\n",
       "      <td>0.001566</td>\n",
       "      <td>0.017690</td>\n",
       "      <td>0.223925</td>\n",
       "    </tr>\n",
       "    <tr>\n",
       "      <th>std</th>\n",
       "      <td>13.640642</td>\n",
       "      <td>2.572709</td>\n",
       "      <td>7385.402999</td>\n",
       "      <td>402.966116</td>\n",
       "      <td>12.347618</td>\n",
       "      <td>0.427586</td>\n",
       "      <td>0.169161</td>\n",
       "      <td>0.245257</td>\n",
       "      <td>0.014661</td>\n",
       "      <td>0.431015</td>\n",
       "      <td>...</td>\n",
       "      <td>0.124650</td>\n",
       "      <td>0.178038</td>\n",
       "      <td>0.201605</td>\n",
       "      <td>0.370675</td>\n",
       "      <td>0.111910</td>\n",
       "      <td>0.467445</td>\n",
       "      <td>0.223873</td>\n",
       "      <td>0.039547</td>\n",
       "      <td>0.131826</td>\n",
       "      <td>0.416879</td>\n",
       "    </tr>\n",
       "    <tr>\n",
       "      <th>min</th>\n",
       "      <td>17.000000</td>\n",
       "      <td>1.000000</td>\n",
       "      <td>0.000000</td>\n",
       "      <td>0.000000</td>\n",
       "      <td>1.000000</td>\n",
       "      <td>0.000000</td>\n",
       "      <td>0.000000</td>\n",
       "      <td>0.000000</td>\n",
       "      <td>0.000000</td>\n",
       "      <td>0.000000</td>\n",
       "      <td>...</td>\n",
       "      <td>0.000000</td>\n",
       "      <td>0.000000</td>\n",
       "      <td>0.000000</td>\n",
       "      <td>0.000000</td>\n",
       "      <td>0.000000</td>\n",
       "      <td>0.000000</td>\n",
       "      <td>0.000000</td>\n",
       "      <td>0.000000</td>\n",
       "      <td>0.000000</td>\n",
       "      <td>0.000000</td>\n",
       "    </tr>\n",
       "    <tr>\n",
       "      <th>25%</th>\n",
       "      <td>28.000000</td>\n",
       "      <td>9.000000</td>\n",
       "      <td>0.000000</td>\n",
       "      <td>0.000000</td>\n",
       "      <td>40.000000</td>\n",
       "      <td>0.000000</td>\n",
       "      <td>0.000000</td>\n",
       "      <td>0.000000</td>\n",
       "      <td>0.000000</td>\n",
       "      <td>1.000000</td>\n",
       "      <td>...</td>\n",
       "      <td>0.000000</td>\n",
       "      <td>0.000000</td>\n",
       "      <td>0.000000</td>\n",
       "      <td>0.000000</td>\n",
       "      <td>0.000000</td>\n",
       "      <td>0.000000</td>\n",
       "      <td>0.000000</td>\n",
       "      <td>0.000000</td>\n",
       "      <td>0.000000</td>\n",
       "      <td>0.000000</td>\n",
       "    </tr>\n",
       "    <tr>\n",
       "      <th>50%</th>\n",
       "      <td>37.000000</td>\n",
       "      <td>10.000000</td>\n",
       "      <td>0.000000</td>\n",
       "      <td>0.000000</td>\n",
       "      <td>40.000000</td>\n",
       "      <td>0.000000</td>\n",
       "      <td>0.000000</td>\n",
       "      <td>0.000000</td>\n",
       "      <td>0.000000</td>\n",
       "      <td>1.000000</td>\n",
       "      <td>...</td>\n",
       "      <td>0.000000</td>\n",
       "      <td>0.000000</td>\n",
       "      <td>0.000000</td>\n",
       "      <td>0.000000</td>\n",
       "      <td>0.000000</td>\n",
       "      <td>0.000000</td>\n",
       "      <td>0.000000</td>\n",
       "      <td>0.000000</td>\n",
       "      <td>0.000000</td>\n",
       "      <td>0.000000</td>\n",
       "    </tr>\n",
       "    <tr>\n",
       "      <th>75%</th>\n",
       "      <td>48.000000</td>\n",
       "      <td>12.000000</td>\n",
       "      <td>0.000000</td>\n",
       "      <td>0.000000</td>\n",
       "      <td>45.000000</td>\n",
       "      <td>0.000000</td>\n",
       "      <td>0.000000</td>\n",
       "      <td>0.000000</td>\n",
       "      <td>0.000000</td>\n",
       "      <td>1.000000</td>\n",
       "      <td>...</td>\n",
       "      <td>0.000000</td>\n",
       "      <td>0.000000</td>\n",
       "      <td>0.000000</td>\n",
       "      <td>0.000000</td>\n",
       "      <td>0.000000</td>\n",
       "      <td>1.000000</td>\n",
       "      <td>0.000000</td>\n",
       "      <td>0.000000</td>\n",
       "      <td>0.000000</td>\n",
       "      <td>0.000000</td>\n",
       "    </tr>\n",
       "    <tr>\n",
       "      <th>max</th>\n",
       "      <td>90.000000</td>\n",
       "      <td>16.000000</td>\n",
       "      <td>99999.000000</td>\n",
       "      <td>4356.000000</td>\n",
       "      <td>99.000000</td>\n",
       "      <td>1.000000</td>\n",
       "      <td>1.000000</td>\n",
       "      <td>1.000000</td>\n",
       "      <td>1.000000</td>\n",
       "      <td>1.000000</td>\n",
       "      <td>...</td>\n",
       "      <td>1.000000</td>\n",
       "      <td>1.000000</td>\n",
       "      <td>1.000000</td>\n",
       "      <td>1.000000</td>\n",
       "      <td>1.000000</td>\n",
       "      <td>1.000000</td>\n",
       "      <td>1.000000</td>\n",
       "      <td>1.000000</td>\n",
       "      <td>1.000000</td>\n",
       "      <td>1.000000</td>\n",
       "    </tr>\n",
       "  </tbody>\n",
       "</table>\n",
       "<p>8 rows × 107 columns</p>\n",
       "</div>"
      ],
      "text/plain": [
       "                Age  Education_num  Capital_gain  Capital_loss  \\\n",
       "count  32560.000000   32560.000000  32560.000000  32560.000000   \n",
       "mean      38.581634      10.080590   1077.615172     87.306511   \n",
       "std       13.640642       2.572709   7385.402999    402.966116   \n",
       "min       17.000000       1.000000      0.000000      0.000000   \n",
       "25%       28.000000       9.000000      0.000000      0.000000   \n",
       "50%       37.000000      10.000000      0.000000      0.000000   \n",
       "75%       48.000000      12.000000      0.000000      0.000000   \n",
       "max       90.000000      16.000000  99999.000000   4356.000000   \n",
       "\n",
       "       Hours_per_week        Income  Workclass_ Federal-gov  \\\n",
       "count    32560.000000  32560.000000            32560.000000   \n",
       "mean        40.437469      0.240817                0.029484   \n",
       "std         12.347618      0.427586                0.169161   \n",
       "min          1.000000      0.000000                0.000000   \n",
       "25%         40.000000      0.000000                0.000000   \n",
       "50%         40.000000      0.000000                0.000000   \n",
       "75%         45.000000      0.000000                0.000000   \n",
       "max         99.000000      1.000000                1.000000   \n",
       "\n",
       "       Workclass_ Local-gov  Workclass_ Never-worked  Workclass_ Private  ...  \\\n",
       "count          32560.000000             32560.000000        32560.000000  ...   \n",
       "mean               0.064281                 0.000215            0.753440  ...   \n",
       "std                0.245257                 0.014661            0.431015  ...   \n",
       "min                0.000000                 0.000000            0.000000  ...   \n",
       "25%                0.000000                 0.000000            1.000000  ...   \n",
       "50%                0.000000                 0.000000            1.000000  ...   \n",
       "75%                0.000000                 0.000000            1.000000  ...   \n",
       "max                1.000000                 1.000000            1.000000  ...   \n",
       "\n",
       "       Education_ 9th  Education_ Assoc-acdm  Education_ Assoc-voc  \\\n",
       "count    32560.000000           32560.000000          32560.000000   \n",
       "mean         0.015786               0.032770              0.042445   \n",
       "std          0.124650               0.178038              0.201605   \n",
       "min          0.000000               0.000000              0.000000   \n",
       "25%          0.000000               0.000000              0.000000   \n",
       "50%          0.000000               0.000000              0.000000   \n",
       "75%          0.000000               0.000000              0.000000   \n",
       "max          1.000000               1.000000              1.000000   \n",
       "\n",
       "       Education_ Bachelors  Education_ Doctorate  Education_ HS-grad  \\\n",
       "count          32560.000000          32560.000000        32560.000000   \n",
       "mean               0.164435              0.012684            0.322512   \n",
       "std                0.370675              0.111910            0.467445   \n",
       "min                0.000000              0.000000            0.000000   \n",
       "25%                0.000000              0.000000            0.000000   \n",
       "50%                0.000000              0.000000            0.000000   \n",
       "75%                0.000000              0.000000            1.000000   \n",
       "max                1.000000              1.000000            1.000000   \n",
       "\n",
       "       Education_ Masters  Education_ Preschool  Education_ Prof-school  \\\n",
       "count        32560.000000          32560.000000            32560.000000   \n",
       "mean             0.052918              0.001566                0.017690   \n",
       "std              0.223873              0.039547                0.131826   \n",
       "min              0.000000              0.000000                0.000000   \n",
       "25%              0.000000              0.000000                0.000000   \n",
       "50%              0.000000              0.000000                0.000000   \n",
       "75%              0.000000              0.000000                0.000000   \n",
       "max              1.000000              1.000000                1.000000   \n",
       "\n",
       "       Education_ Some-college  \n",
       "count             32560.000000  \n",
       "mean                  0.223925  \n",
       "std                   0.416879  \n",
       "min                   0.000000  \n",
       "25%                   0.000000  \n",
       "50%                   0.000000  \n",
       "75%                   0.000000  \n",
       "max                   1.000000  \n",
       "\n",
       "[8 rows x 107 columns]"
      ]
     },
     "execution_count": 127,
     "metadata": {},
     "output_type": "execute_result"
    }
   ],
   "source": [
    "df.describe()"
   ]
  },
  {
   "cell_type": "markdown",
   "id": "628b293b",
   "metadata": {},
   "source": [
    "## Observation:-\n",
    "1. Count is same in all column means there is not missing value.\n",
    "2. Mean and Median(50 percentile) is almost same for age  and hours per week variable , other variables are categorical except capital gain and capital loss.\n",
    "3. Capital gain and capital loss has very big difference in mean and max value , it indicate that there are some abnormal data prasent in these two variable.but these gain and loss seems to be genuine and removel of these outlier will set this column to zero which is not correct."
   ]
  },
  {
   "cell_type": "markdown",
   "id": "65c8fb99",
   "metadata": {},
   "source": [
    "### Check For outlier in Capital gain and Capital loss variable."
   ]
  },
  {
   "cell_type": "code",
   "execution_count": 128,
   "id": "bce8b1e6",
   "metadata": {},
   "outputs": [
    {
     "data": {
      "image/png": "[encoded data removed]",
      "text/plain": [
       "<Figure size 432x288 with 1 Axes>"
      ]
     },
     "metadata": {
      "needs_background": "light"
     },
     "output_type": "display_data"
    }
   ],
   "source": [
    "plt.boxplot(df.Capital_gain)\n",
    "plt.show()"
   ]
  },
  {
   "cell_type": "code",
   "execution_count": 129,
   "id": "eba0c1ca",
   "metadata": {},
   "outputs": [
    {
     "data": {
      "image/png": "[encoded data removed]",
      "text/plain": [
       "<Figure size 432x288 with 1 Axes>"
      ]
     },
     "metadata": {
      "needs_background": "light"
     },
     "output_type": "display_data"
    }
   ],
   "source": [
    "plt.boxplot(df.Capital_loss)\n",
    "plt.show()"
   ]
  },
  {
   "cell_type": "code",
   "execution_count": 130,
   "id": "a9fc3086",
   "metadata": {},
   "outputs": [],
   "source": [
    "def outlier_IQR(data_frame, feature_name):\n",
    "  IQR = data_frame[feature_name].quantile(0.75)-data_frame[feature_name].quantile(0.25)\n",
    "  lower_bridge = data_frame[feature_name].quantile(0.25) -(IQR*3)\n",
    "  upper_bridge = data_frame[feature_name].quantile(0.75) + (IQR*3)\n",
    "  return (lower_bridge,upper_bridge)"
   ]
  },
  {
   "cell_type": "code",
   "execution_count": 131,
   "id": "3ce38935",
   "metadata": {},
   "outputs": [],
   "source": [
    "l,u = outlier_IQR(df, 'Capital_loss')\n",
    "df.drop(df[ (df.Capital_loss > u) | (df.Capital_loss < l) ].index, inplace=True)"
   ]
  },
  {
   "cell_type": "code",
   "execution_count": 132,
   "id": "3abdfe4f",
   "metadata": {},
   "outputs": [],
   "source": [
    "l,u = outlier_IQR(df, 'Capital_gain')\n",
    "df.drop(df[ (df.Capital_gain > u) | (df.Capital_gain < l) ].index, inplace=True)"
   ]
  },
  {
   "cell_type": "markdown",
   "id": "d290d3ab",
   "metadata": {},
   "source": [
    "## Observation:-\n",
    "Outlier exist in Capital loss and Capital gain independent variable. but it seems to be genuine value hence we are not removing them."
   ]
  },
  {
   "cell_type": "markdown",
   "id": "08ba910a",
   "metadata": {},
   "source": [
    "# Split dataset in x and y "
   ]
  },
  {
   "cell_type": "code",
   "execution_count": 133,
   "id": "eec34b5b",
   "metadata": {},
   "outputs": [],
   "source": [
    "x = df.drop(['Income'], axis = 1)\n",
    "y = df['Income']"
   ]
  },
  {
   "cell_type": "code",
   "execution_count": 134,
   "id": "3f777daf",
   "metadata": {},
   "outputs": [],
   "source": [
    "from sklearn.preprocessing import StandardScaler\n",
    "scale = StandardScaler()\n",
    "column = x.columns\n",
    "x = scale.fit_transform(x)\n",
    "x = pd.DataFrame(x,columns=column)"
   ]
  },
  {
   "cell_type": "markdown",
   "id": "74d331c3",
   "metadata": {},
   "source": [
    "## Observation:-\n",
    "Capital gain, Capital loss are two continuous variable has skewness, these two variable has string pssitive correlation with income."
   ]
  },
  {
   "cell_type": "markdown",
   "id": "aad1f79e",
   "metadata": {},
   "source": [
    "### Normalize Data"
   ]
  },
  {
   "cell_type": "code",
   "execution_count": 135,
   "id": "4f19c2bc",
   "metadata": {},
   "outputs": [
    {
     "data": {
      "text/plain": [
       "Age                         0.596681\n",
       "Education_num              -0.335779\n",
       "Capital_gain                0.000000\n",
       "Capital_loss                0.000000\n",
       "Hours_per_week              0.227554\n",
       "                             ...    \n",
       "Education_ HS-grad          0.711923\n",
       "Education_ Masters          4.340783\n",
       "Education_ Preschool       24.491450\n",
       "Education_ Prof-school      8.664006\n",
       "Education_ Some-college     1.279195\n",
       "Length: 106, dtype: float64"
      ]
     },
     "execution_count": 135,
     "metadata": {},
     "output_type": "execute_result"
    }
   ],
   "source": [
    "x.skew()"
   ]
  },
  {
   "cell_type": "markdown",
   "id": "f06ffd2c",
   "metadata": {},
   "source": [
    "## Check for Best Random State"
   ]
  },
  {
   "cell_type": "code",
   "execution_count": 136,
   "id": "ba372b6c",
   "metadata": {},
   "outputs": [
    {
     "name": "stdout",
     "output_type": "stream",
     "text": [
      "Best accuracy is 0.8630869611723179 on Random_state 165\n"
     ]
    }
   ],
   "source": [
    "from sklearn.linear_model import LogisticRegression\n",
    "maxAccu = 0\n",
    "maxRS = 0\n",
    "for i in range(1,200):\n",
    "    x_train,x_test,y_train,y_test = train_test_split(x,y,test_size=.33,random_state=i)\n",
    "    LR = LogisticRegression()\n",
    "    LR.fit(x_train,y_train)\n",
    "    predrf = LR.predict(x_test)\n",
    "    acc = accuracy_score(y_test,predrf)\n",
    "    if acc >maxAccu:\n",
    "        maxAccu=acc\n",
    "        maxRS=i\n",
    "print(\"Best accuracy is\", maxAccu, \"on Random_state\",maxRS)"
   ]
  },
  {
   "cell_type": "code",
   "execution_count": 725,
   "id": "b3ad4fe3",
   "metadata": {},
   "outputs": [],
   "source": [
    "x_train,x_test,y_train,y_test = train_test_split(x,y,test_size=.33,random_state=165)"
   ]
  },
  {
   "cell_type": "markdown",
   "id": "f01e17e0",
   "metadata": {},
   "source": [
    "# Handling Imbalance dataset using Oversampling."
   ]
  },
  {
   "cell_type": "code",
   "execution_count": 137,
   "id": "558664cb",
   "metadata": {},
   "outputs": [
    {
     "name": "stdout",
     "output_type": "stream",
     "text": [
      "Before OverSampling, counts of label '1': 3623\n",
      "Before OverSampling, counts of label '0': 15358 \n",
      "\n",
      "After OverSampling, the shape of x_train: (30716, 106)\n",
      "After OverSampling, the shape of y_train: (30716,) \n",
      "\n",
      "After OverSampling, counts of label '1': 15358\n",
      "After OverSampling, counts of label '0': 15358\n"
     ]
    }
   ],
   "source": [
    "print(\"Before OverSampling, counts of label '1': {}\".format(sum(y_train == 1))) \n",
    "print(\"Before OverSampling, counts of label '0': {} \\n\".format(sum(y_train == 0))) \n",
    "  \n",
    "# import SMOTE module from imblearn library \n",
    "# pip install imblearn (if you don't have imblearn in your system) \n",
    "from imblearn.over_sampling import SMOTE \n",
    "sm = SMOTE(random_state = 2) \n",
    "x_train_res, y_train_res = sm.fit_resample(x_train, y_train.ravel()) \n",
    "  \n",
    "print('After OverSampling, the shape of x_train: {}'.format(x_train_res.shape)) \n",
    "print('After OverSampling, the shape of y_train: {} \\n'.format(y_train_res.shape)) \n",
    "  \n",
    "print(\"After OverSampling, counts of label '1': {}\".format(sum(y_train_res == 1))) \n",
    "print(\"After OverSampling, counts of label '0': {}\".format(sum(y_train_res == 0)))"
   ]
  },
  {
   "cell_type": "code",
   "execution_count": 138,
   "id": "aa1cc202",
   "metadata": {},
   "outputs": [],
   "source": [
    "x = x_train_res\n",
    "y = y_train_res"
   ]
  },
  {
   "cell_type": "code",
   "execution_count": 140,
   "id": "8f8bb318",
   "metadata": {},
   "outputs": [],
   "source": [
    "x_train,x_test,y_train,y_test = train_test_split(x,y,test_size=.33,random_state=165)"
   ]
  },
  {
   "cell_type": "markdown",
   "id": "b058b7f3",
   "metadata": {},
   "source": [
    "### Logistic Regression "
   ]
  },
  {
   "cell_type": "code",
   "execution_count": 142,
   "id": "45df08a6",
   "metadata": {},
   "outputs": [
    {
     "name": "stdout",
     "output_type": "stream",
     "text": [
      "0.8345622991113631\n",
      "[[3973 1111]\n",
      " [ 639 4414]]\n",
      "              precision    recall  f1-score   support\n",
      "\n",
      "           0       0.86      0.78      0.82      5084\n",
      "           1       0.80      0.87      0.83      5053\n",
      "\n",
      "    accuracy                           0.83     10137\n",
      "   macro avg       0.83      0.83      0.83     10137\n",
      "weighted avg       0.83      0.83      0.83     10137\n",
      "\n"
     ]
    }
   ],
   "source": [
    "from sklearn.linear_model import LogisticRegression\n",
    "LR = LogisticRegression()\n",
    "LR.fit(x_train,y_train)\n",
    "predlr = LR.predict(x_test)\n",
    "print(f1_score(y_test,predlr))\n",
    "#print(accuracy_score(y_test,predlr))\n",
    "print(confusion_matrix(y_test,predlr))   \n",
    "print(classification_report(y_test,predlr))"
   ]
  },
  {
   "cell_type": "markdown",
   "id": "395a806f",
   "metadata": {},
   "source": [
    "### Cross Validation Logistic Regression"
   ]
  },
  {
   "cell_type": "code",
   "execution_count": 144,
   "id": "de2c5613",
   "metadata": {},
   "outputs": [
    {
     "name": "stdout",
     "output_type": "stream",
     "text": [
      "Corss validation scre for LOgistic regression 0.8335034858220193\n"
     ]
    }
   ],
   "source": [
    "from sklearn.model_selection import cross_val_score\n",
    "scr = cross_val_score(LR,x,y,scoring='f1', cv=4)   #cv for 5 split \n",
    "print(\"Corss validation scre for LOgistic regression\", scr.mean())"
   ]
  },
  {
   "cell_type": "markdown",
   "id": "19ecd19f",
   "metadata": {},
   "source": [
    "### AUC ROC CURVE Logistic Regression"
   ]
  },
  {
   "cell_type": "code",
   "execution_count": 145,
   "id": "e7c2d153",
   "metadata": {},
   "outputs": [
    {
     "data": {
      "image/png": "[encoded data removed]",
      "text/plain": [
       "<Figure size 432x288 with 1 Axes>"
      ]
     },
     "metadata": {
      "needs_background": "light"
     },
     "output_type": "display_data"
    }
   ],
   "source": [
    "from sklearn.metrics import roc_curve\n",
    "import matplotlib.pyplot as plt\n",
    "from sklearn.metrics import roc_auc_score\n",
    "\n",
    "y_pred_prob=LR.predict_proba(x_test)[:,1]\n",
    "y_pred_prob\n",
    "fpr,tpr,thresholds=roc_curve(y_test,y_pred_prob)\n",
    "\n",
    "plt.plot([0,1],[0,1],'k--')\n",
    "plt.plot(fpr,tpr,label=\"Random\")\n",
    "plt.xlabel(\"False Positive Rate\")\n",
    "plt.ylabel(\"True Positive Rate\")\n",
    "plt.title(\"Logistic Regression\")\n",
    "plt.show()"
   ]
  },
  {
   "cell_type": "markdown",
   "id": "0f701be0",
   "metadata": {},
   "source": [
    "### Random Forest Classifier Model"
   ]
  },
  {
   "cell_type": "code",
   "execution_count": 146,
   "id": "bb2de2ba",
   "metadata": {},
   "outputs": [
    {
     "name": "stdout",
     "output_type": "stream",
     "text": [
      "0.8829273103856398\n",
      "[[4474  610]\n",
      " [ 577 4476]]\n",
      "              precision    recall  f1-score   support\n",
      "\n",
      "           0       0.89      0.88      0.88      5084\n",
      "           1       0.88      0.89      0.88      5053\n",
      "\n",
      "    accuracy                           0.88     10137\n",
      "   macro avg       0.88      0.88      0.88     10137\n",
      "weighted avg       0.88      0.88      0.88     10137\n",
      "\n"
     ]
    }
   ],
   "source": [
    "from sklearn.ensemble import RandomForestClassifier\n",
    "rf = RandomForestClassifier()\n",
    "rf.fit(x_train,y_train)\n",
    "predrf = rf.predict(x_test)\n",
    "#print(accuracy_score(y_test,predrf))\n",
    "print(f1_score(y_test,predrf))\n",
    "print(confusion_matrix(y_test,predrf))   \n",
    "print(classification_report(y_test,predrf))"
   ]
  },
  {
   "cell_type": "markdown",
   "id": "e6983ac2",
   "metadata": {},
   "source": [
    "### Random  Forest Cross Validation "
   ]
  },
  {
   "cell_type": "code",
   "execution_count": 149,
   "id": "e2bb20a0",
   "metadata": {},
   "outputs": [
    {
     "name": "stdout",
     "output_type": "stream",
     "text": [
      "Corss validation scre for Random Forest 0.8847511056720574\n"
     ]
    }
   ],
   "source": [
    "scr = cross_val_score(rf,x,y,scoring='f1',cv=4)   #cv for 5 split \n",
    "print(\"Corss validation scre for Random Forest\", scr.mean())"
   ]
  },
  {
   "cell_type": "markdown",
   "id": "aabd0883",
   "metadata": {},
   "source": [
    "### AUC ROC CURVE Random Forest Classification"
   ]
  },
  {
   "cell_type": "code",
   "execution_count": 150,
   "id": "1d203187",
   "metadata": {},
   "outputs": [
    {
     "data": {
      "image/png": "[encoded data removed]",
      "text/plain": [
       "<Figure size 432x288 with 1 Axes>"
      ]
     },
     "metadata": {
      "needs_background": "light"
     },
     "output_type": "display_data"
    }
   ],
   "source": [
    "y_pred_prob=rf.predict_proba(x_test)[:,1]\n",
    "y_pred_prob\n",
    "fpr,tpr,thresholds=roc_curve(y_test,y_pred_prob)\n",
    "\n",
    "plt.plot([0,1],[0,1],'k--')\n",
    "plt.plot(fpr,tpr,label=\"Random\")\n",
    "plt.xlabel(\"False Positive Rate\")\n",
    "plt.ylabel(\"True Positive Rate\")\n",
    "plt.title(\"Random Forest Classifier Model AUC ROC CURVE\")\n",
    "plt.show()"
   ]
  },
  {
   "cell_type": "markdown",
   "id": "eea82e25",
   "metadata": {},
   "source": [
    "### K Nearest Neighbors Classifier"
   ]
  },
  {
   "cell_type": "code",
   "execution_count": 151,
   "id": "62df59d1",
   "metadata": {},
   "outputs": [
    {
     "name": "stdout",
     "output_type": "stream",
     "text": [
      "0.852074286242262\n",
      "[[3925 1159]\n",
      " [ 442 4611]]\n",
      "              precision    recall  f1-score   support\n",
      "\n",
      "           0       0.90      0.77      0.83      5084\n",
      "           1       0.80      0.91      0.85      5053\n",
      "\n",
      "    accuracy                           0.84     10137\n",
      "   macro avg       0.85      0.84      0.84     10137\n",
      "weighted avg       0.85      0.84      0.84     10137\n",
      "\n"
     ]
    }
   ],
   "source": [
    "from sklearn.neighbors import KNeighborsClassifier\n",
    "knn= KNeighborsClassifier(n_neighbors=5)\n",
    "knn.fit(x_train,y_train)\n",
    "predknn = knn.predict(x_test)\n",
    "print(f1_score(y_test,predknn))\n",
    "#print(accuracy_score(y_test,predknn))\n",
    "print(confusion_matrix(y_test,predknn))\n",
    "print(classification_report(y_test,predknn))"
   ]
  },
  {
   "cell_type": "markdown",
   "id": "c89df0d3",
   "metadata": {},
   "source": [
    "### KNN Cross Validation"
   ]
  },
  {
   "cell_type": "code",
   "execution_count": 152,
   "id": "ab1f6186",
   "metadata": {},
   "outputs": [
    {
     "name": "stdout",
     "output_type": "stream",
     "text": [
      "Corss validation scre for Knearest Neigbour Classification 0.8600870226833038\n"
     ]
    }
   ],
   "source": [
    "scr = cross_val_score(knn,x,y,scoring=\"f1\",cv=4)   #cv for 5 split \n",
    "print(\"Corss validation scre for Knearest Neigbour Classification\", scr.mean())"
   ]
  },
  {
   "cell_type": "markdown",
   "id": "bf133e43",
   "metadata": {},
   "source": [
    "### AUC ROC CURVE"
   ]
  },
  {
   "cell_type": "code",
   "execution_count": 153,
   "id": "6f162606",
   "metadata": {},
   "outputs": [
    {
     "data": {
      "image/png": "[encoded data removed]",
      "text/plain": [
       "<Figure size 432x288 with 1 Axes>"
      ]
     },
     "metadata": {
      "needs_background": "light"
     },
     "output_type": "display_data"
    }
   ],
   "source": [
    "y_pred_prob=knn.predict_proba(x_test)[:,1]\n",
    "y_pred_prob\n",
    "fpr,tpr,thresholds=roc_curve(y_test,y_pred_prob)\n",
    "\n",
    "plt.plot([0,1],[0,1],'k--')\n",
    "plt.plot(fpr,tpr,label=\"Random\")\n",
    "plt.xlabel(\"False Positive Rate\")\n",
    "plt.ylabel(\"True Positive Rate\")\n",
    "plt.title(\"Knearest Neigbour Classification AUC ROC CURVE\")\n",
    "plt.show()"
   ]
  },
  {
   "cell_type": "markdown",
   "id": "8e3855bf",
   "metadata": {},
   "source": [
    "## Support Vactor Machine Classification Model\n"
   ]
  },
  {
   "cell_type": "code",
   "execution_count": 155,
   "id": "497e3827",
   "metadata": {},
   "outputs": [
    {
     "name": "stdout",
     "output_type": "stream",
     "text": [
      "0.8496864625599411\n",
      "[[3900 1184]\n",
      " [ 446 4607]]\n",
      "              precision    recall  f1-score   support\n",
      "\n",
      "           0       0.90      0.77      0.83      5084\n",
      "           1       0.80      0.91      0.85      5053\n",
      "\n",
      "    accuracy                           0.84     10137\n",
      "   macro avg       0.85      0.84      0.84     10137\n",
      "weighted avg       0.85      0.84      0.84     10137\n",
      "\n"
     ]
    }
   ],
   "source": [
    "from sklearn.svm import SVC\n",
    "sv = SVC()\n",
    "sv.fit(x_train,y_train)\n",
    "predsv = sv.predict(x_test)\n",
    "print(f1_score(y_test,predsv))\n",
    "print(confusion_matrix(y_test,predsv))   \n",
    "print(classification_report(y_test,predsv))"
   ]
  },
  {
   "cell_type": "markdown",
   "id": "633ee40d",
   "metadata": {},
   "source": [
    "## Cross Validation SVC"
   ]
  },
  {
   "cell_type": "code",
   "execution_count": 156,
   "id": "c1cd1a8c",
   "metadata": {},
   "outputs": [
    {
     "name": "stdout",
     "output_type": "stream",
     "text": [
      "Corss validation scre for support vector 0.8514029219677782\n"
     ]
    }
   ],
   "source": [
    "from sklearn.model_selection import cross_val_score\n",
    "scr = cross_val_score(sv,x,y,scoring=\"f1\",cv=4)   #cv for 5 split \n",
    "print(\"Corss validation scre for support vector\", scr.mean())"
   ]
  },
  {
   "cell_type": "markdown",
   "id": "89c8e93b",
   "metadata": {},
   "source": [
    "## AUC ROC CURVE FOR SVC"
   ]
  },
  {
   "cell_type": "code",
   "execution_count": 157,
   "id": "141d5f6b",
   "metadata": {},
   "outputs": [
    {
     "data": {
      "image/png": "[encoded data removed]",
      "text/plain": [
       "<Figure size 432x288 with 1 Axes>"
      ]
     },
     "metadata": {
      "needs_background": "light"
     },
     "output_type": "display_data"
    }
   ],
   "source": [
    "model = SVC()\n",
    "model.probability = True\n",
    "model.fit(x_train,y_train)\n",
    "y_pred_prob=model.predict_proba(x_test)[:,1]\n",
    "y_pred_prob\n",
    "fpr,tpr,thresholds=roc_curve(y_test,y_pred_prob)\n",
    "\n",
    "plt.plot([0,1],[0,1],'k--')\n",
    "plt.plot(fpr,tpr,label=\"Random\")\n",
    "plt.xlabel(\"False Positive Rate\")\n",
    "plt.ylabel(\"True Positive Rate\")\n",
    "plt.title(\"Support Vector Machine AUC ROC CURVE\")\n",
    "plt.show()"
   ]
  },
  {
   "cell_type": "markdown",
   "id": "6c1bc507",
   "metadata": {},
   "source": [
    "### Adaboost Classifier Model"
   ]
  },
  {
   "cell_type": "code",
   "execution_count": 161,
   "id": "99966195",
   "metadata": {},
   "outputs": [
    {
     "name": "stdout",
     "output_type": "stream",
     "text": [
      "0.8621639593426427\n",
      "[[4148  936]\n",
      " [ 515 4538]]\n",
      "              precision    recall  f1-score   support\n",
      "\n",
      "           0       0.89      0.82      0.85      5084\n",
      "           1       0.83      0.90      0.86      5053\n",
      "\n",
      "    accuracy                           0.86     10137\n",
      "   macro avg       0.86      0.86      0.86     10137\n",
      "weighted avg       0.86      0.86      0.86     10137\n",
      "\n"
     ]
    }
   ],
   "source": [
    "from sklearn.ensemble import AdaBoostClassifier\n",
    "ad= AdaBoostClassifier()\n",
    "ad.fit(x_train,y_train)\n",
    "predad = ad.predict(x_test)\n",
    "print(f1_score(y_test,predad))\n",
    "#print(accuracy_score(y_test,predad))\n",
    "print(confusion_matrix(y_test,predad))\n",
    "print(classification_report(y_test,predad))"
   ]
  },
  {
   "cell_type": "markdown",
   "id": "30fad792",
   "metadata": {},
   "source": [
    "### Cross validation Adaboos Classifier Model"
   ]
  },
  {
   "cell_type": "code",
   "execution_count": 162,
   "id": "d4e4e6a0",
   "metadata": {},
   "outputs": [
    {
     "name": "stdout",
     "output_type": "stream",
     "text": [
      "Corss validation scre for support vector 0.8528590727763246\n"
     ]
    }
   ],
   "source": [
    "scr = cross_val_score(ad,x,y,scoring=\"f1\",cv=4)   #cv for 5 split \n",
    "print(\"Corss validation scre for support vector\", scr.mean())"
   ]
  },
  {
   "cell_type": "markdown",
   "id": "710fcbda",
   "metadata": {},
   "source": [
    "## Adaboos Classifier Model AUC ROC CURVE"
   ]
  },
  {
   "cell_type": "code",
   "execution_count": 163,
   "id": "ab4e835a",
   "metadata": {},
   "outputs": [
    {
     "data": {
      "image/png": "[encoded data removed]",
      "text/plain": [
       "<Figure size 432x288 with 1 Axes>"
      ]
     },
     "metadata": {
      "needs_background": "light"
     },
     "output_type": "display_data"
    }
   ],
   "source": [
    "model = AdaBoostClassifier()\n",
    "model.probability = True\n",
    "model.fit(x_train,y_train)\n",
    "y_pred_prob=model.predict_proba(x_test)[:,1]\n",
    "y_pred_prob\n",
    "fpr,tpr,thresholds=roc_curve(y_test,y_pred_prob)\n",
    "\n",
    "plt.plot([0,1],[0,1],'k--')\n",
    "plt.plot(fpr,tpr,label=\"Random\")\n",
    "plt.xlabel(\"False Positive Rate\")\n",
    "plt.ylabel(\"True Positive Rate\")\n",
    "plt.title(\"AdaBoost AUC ROC CURVE\")\n",
    "plt.show()"
   ]
  },
  {
   "cell_type": "code",
   "execution_count": 164,
   "id": "5414037f",
   "metadata": {},
   "outputs": [
    {
     "name": "stdout",
     "output_type": "stream",
     "text": [
      "0.8522206731726747\n",
      "0.8536056032356713\n",
      "[[4374  710]\n",
      " [ 774 4279]]\n",
      "              precision    recall  f1-score   support\n",
      "\n",
      "           0       0.85      0.86      0.85      5084\n",
      "           1       0.86      0.85      0.85      5053\n",
      "\n",
      "    accuracy                           0.85     10137\n",
      "   macro avg       0.85      0.85      0.85     10137\n",
      "weighted avg       0.85      0.85      0.85     10137\n",
      "\n"
     ]
    }
   ],
   "source": [
    "dt = DecisionTreeClassifier()\n",
    "dt.fit(x_train,y_train)\n",
    "preddt = dt.predict(x_test)\n",
    "print(f1_score(y_test,preddt))\n",
    "print(accuracy_score(y_test,preddt))\n",
    "print(confusion_matrix(y_test,preddt))   \n",
    "print(classification_report(y_test,preddt))"
   ]
  },
  {
   "cell_type": "code",
   "execution_count": 166,
   "id": "2c0cdacc",
   "metadata": {},
   "outputs": [
    {
     "name": "stdout",
     "output_type": "stream",
     "text": [
      "Corss validation scre for support vector 0.8410719494747001\n"
     ]
    }
   ],
   "source": [
    "scr = cross_val_score(dt,x,y,scoring=\"f1\",cv=4)   #cv for 5 split \n",
    "print(\"Corss validation scre for support vector\", scr.mean())"
   ]
  },
  {
   "cell_type": "code",
   "execution_count": 167,
   "id": "35354f41",
   "metadata": {},
   "outputs": [
    {
     "data": {
      "image/png": "[encoded data removed]",
      "text/plain": [
       "<Figure size 432x288 with 1 Axes>"
      ]
     },
     "metadata": {
      "needs_background": "light"
     },
     "output_type": "display_data"
    }
   ],
   "source": [
    "model = DecisionTreeClassifier()\n",
    "#model.probability = True\n",
    "model.fit(x_train,y_train)\n",
    "y_pred_prob=model.predict_proba(x_test)[:,1]\n",
    "y_pred_prob\n",
    "fpr,tpr,thresholds=roc_curve(y_test,y_pred_prob)\n",
    "\n",
    "plt.plot([0,1],[0,1],'k--')\n",
    "plt.plot(fpr,tpr,label=\"Random\")\n",
    "plt.xlabel(\"False Positive Rate\")\n",
    "plt.ylabel(\"True Positive Rate\")\n",
    "plt.title(\"DecisionTree AUC ROC CURVE\")\n",
    "plt.show()"
   ]
  },
  {
   "cell_type": "markdown",
   "id": "ffef3c85",
   "metadata": {},
   "source": [
    "### Observation:-\n",
    "Higest accuracy score is coming for Random Forest Classification model, hence this is the best model we can use. AUC ROC CURVE also showing highest area cover by Random Forest prediction.\n",
    "Cross validation score is also having same number for randome forest."
   ]
  },
  {
   "cell_type": "markdown",
   "id": "99e842f9",
   "metadata": {},
   "source": [
    "## Hyper parameter tuning for Random Forest Classifier Model"
   ]
  },
  {
   "cell_type": "code",
   "execution_count": 168,
   "id": "7bbfae2b",
   "metadata": {},
   "outputs": [
    {
     "name": "stdout",
     "output_type": "stream",
     "text": [
      "Fitting 5 folds for each of 64 candidates, totalling 320 fits\n",
      "Best Score: 0.8892715648254876\n",
      "Best Hyperparameters: {'criterion': 'gini', 'max_depth': 25, 'max_features': 'auto', 'min_samples_leaf': 1, 'min_samples_split': 2, 'n_estimators': 150}\n"
     ]
    }
   ],
   "source": [
    "from sklearn.model_selection import GridSearchCV\n",
    "from pprint import pprint\n",
    "parameters = {\"n_estimators\":[100,150], 'criterion' : ['gini', 'entropy'],\n",
    "              \"max_depth\":[10,25],\"min_samples_split\":[2,4]\n",
    "            ,\"max_features\":['auto', 'sqrt'],\"min_samples_leaf\":[1,3] }\n",
    "x_train,x_test,y_train,y_test = train_test_split(x,y,test_size=.33,random_state=104)\n",
    "\n",
    "# Use the random grid to search for best hyperparameters\n",
    "# First create the base model to tune\n",
    "rf = RandomForestClassifier()\n",
    "# Random search of parameters, using 3 fold cross validation, \n",
    "# search across 100 different combinations, and use all available cores\n",
    "rf_random = GridSearchCV(rf, parameters , cv = 5, scoring=\"f1\",verbose=2, n_jobs = -1)\n",
    "# Fit the random search model\n",
    "\n",
    "result=rf_random.fit(x_train, y_train)\n",
    "print('Best Score: %s' % result.best_score_)\n",
    "print('Best Hyperparameters: %s' % result.best_params_)"
   ]
  },
  {
   "cell_type": "markdown",
   "id": "4cd5a0fa",
   "metadata": {},
   "source": [
    "# Saving Best Model"
   ]
  },
  {
   "cell_type": "code",
   "execution_count": 823,
   "id": "07b638ad",
   "metadata": {},
   "outputs": [
    {
     "name": "stdout",
     "output_type": "stream",
     "text": [
      "0.8861748417721519\n",
      "[[4457  647]\n",
      " [ 504 4504]]\n",
      "              precision    recall  f1-score   support\n",
      "\n",
      "           0       0.90      0.87      0.89      5104\n",
      "           1       0.87      0.90      0.89      5008\n",
      "\n",
      "    accuracy                           0.89     10112\n",
      "   macro avg       0.89      0.89      0.89     10112\n",
      "weighted avg       0.89      0.89      0.89     10112\n",
      "\n"
     ]
    }
   ],
   "source": [
    "from sklearn.ensemble import RandomForestClassifier\n",
    "rf = RandomForestClassifier(criterion='entropy', max_depth= 35, max_features= 'sqrt', min_samples_leaf= 1, min_samples_split=2, n_estimators= 150)\n",
    "rf.fit(x_train,y_train)\n",
    "predrf = rf.predict(x_test)\n",
    "print(accuracy_score(y_test,predrf))\n",
    "print(confusion_matrix(y_test,predrf))   \n",
    "print(classification_report(y_test,predrf))"
   ]
  },
  {
   "cell_type": "code",
   "execution_count": 824,
   "id": "8bf175a5",
   "metadata": {},
   "outputs": [
    {
     "data": {
      "text/plain": [
       "['Census_income.pki']"
      ]
     },
     "execution_count": 824,
     "metadata": {},
     "output_type": "execute_result"
    }
   ],
   "source": [
    "import joblib \n",
    "joblib.dump(rf,'Census_income.pki')"
   ]
  },
  {
   "cell_type": "code",
   "execution_count": 825,
   "id": "b93239a9",
   "metadata": {},
   "outputs": [],
   "source": [
    "model = joblib.load('Census_income.pki')"
   ]
  },
  {
   "cell_type": "code",
   "execution_count": 826,
   "id": "1d75b650",
   "metadata": {},
   "outputs": [],
   "source": [
    "prediction = model.predict(x_test)"
   ]
  },
  {
   "cell_type": "code",
   "execution_count": 827,
   "id": "d085e8fa",
   "metadata": {},
   "outputs": [],
   "source": [
    "prediction = pd.DataFrame(prediction)"
   ]
  },
  {
   "cell_type": "code",
   "execution_count": 828,
   "id": "5ad877a8",
   "metadata": {},
   "outputs": [],
   "source": [
    "prediction.to_csv('Result.csv')"
   ]
  },
  {
   "cell_type": "code",
   "execution_count": null,
   "id": "bdbc8851",
   "metadata": {},
   "outputs": [],
   "source": []
  }
 ],
 "metadata": {
  "kernelspec": {
   "display_name": "Python 3",
   "language": "python",
   "name": "python3"
  },
  "language_info": {
   "codemirror_mode": {
    "name": "ipython",
    "version": 3
   },
   "file_extension": ".py",
   "mimetype": "text/x-python",
   "name": "python",
   "nbconvert_exporter": "python",
   "pygments_lexer": "ipython3",
   "version": "3.8.8"
  }
 },
 "nbformat": 4,
 "nbformat_minor": 5
}
